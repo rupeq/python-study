{
 "cells": [
  {
   "cell_type": "code",
   "execution_count": 4,
   "metadata": {},
   "outputs": [
    {
     "data": {
      "text/plain": [
       "False"
      ]
     },
     "execution_count": 4,
     "metadata": {},
     "output_type": "execute_result"
    }
   ],
   "source": [
    "def checker(row):\n",
    "    for i in range(len(row) - 1):\n",
    "        chop = row[i:i + 2]\n",
    "        chop_set = set(chop)\n",
    "        if len(chop_set) == 1 and chop.isalpha():\n",
    "            return True\n",
    "    return False\n",
    "        \n",
    "checker(\"helo\")"
   ]
  },
  {
   "cell_type": "code",
   "execution_count": 6,
   "metadata": {},
   "outputs": [
    {
     "data": {
      "text/plain": [
       "True"
      ]
     },
     "execution_count": 6,
     "metadata": {},
     "output_type": "execute_result"
    }
   ],
   "source": [
    "def checker(row):\n",
    "    for i in range(len(row) - 1):\n",
    "        if row[i] == row[i + 1] and row[i].isalpha():\n",
    "            return True\n",
    "    return False\n",
    "        \n",
    "checker(\"hello\")"
   ]
  },
  {
   "cell_type": "code",
   "execution_count": 37,
   "metadata": {},
   "outputs": [
    {
     "data": {
      "text/plain": [
       "True"
      ]
     },
     "execution_count": 37,
     "metadata": {},
     "output_type": "execute_result"
    }
   ],
   "source": [
    "def checker(row):\n",
    "    row = row.lower()\n",
    "    return not len(set(row)) == len(row) and row.isalpha()\n",
    "\n",
    "checker(\"Gg\")"
   ]
  },
  {
   "cell_type": "markdown",
   "metadata": {},
   "source": [
    "---"
   ]
  },
  {
   "cell_type": "code",
   "execution_count": 33,
   "metadata": {},
   "outputs": [],
   "source": [
    "result = {}\n",
    "with open(r\"C:\\Users\\Student\\Downloads\\zaliznyak.txt\") as file:\n",
    "    for word in file:\n",
    "        word = word.rstrip()\n",
    "        key = sorted(word)\n",
    "        key = \"\".join(key)\n",
    "        if key in result:\n",
    "            result[key].append(word)\n",
    "        else:\n",
    "            result[key] = [word]\n",
    "\n",
    "out = []\n",
    "for value in result.values():\n",
    "    if len(value) > 1:\n",
    "        value.sort()\n",
    "        out.append(value)\n",
    "\n",
    "out.sort(key=len, reverse=True)\n",
    "out = [\" \".join(i) for i in out]\n",
    "out = \"\\n\".join(out)\n",
    "\n",
    "with open(\"result.txt\", \"w\") as file:\n",
    "    file.write(out)"
   ]
  },
  {
   "cell_type": "markdown",
   "metadata": {},
   "source": [
    "GIT\n",
    "==="
   ]
  },
  {
   "cell_type": "code",
   "execution_count": null,
   "metadata": {},
   "outputs": [],
   "source": [
    "Black Box (str -> str)\n",
    "a => *\n",
    "Abc => ***\n",
    "hello => *****\n",
    "Hi, Friend => **, ******\n",
    "You and Me => *** *** **"
   ]
  },
  {
   "cell_type": "code",
   "execution_count": 41,
   "metadata": {},
   "outputs": [
    {
     "data": {
      "text/plain": [
       "'**, ******'"
      ]
     },
     "execution_count": 41,
     "metadata": {},
     "output_type": "execute_result"
    }
   ],
   "source": [
    "def box21(row):\n",
    "    result = \"\"\n",
    "    for letter in row:\n",
    "        if letter.isalpha():\n",
    "            result += \"*\"\n",
    "        else:\n",
    "            result += letter\n",
    "    return result\n",
    "\n",
    "box21(\"Hi, Friend\")"
   ]
  },
  {
   "cell_type": "code",
   "execution_count": null,
   "metadata": {},
   "outputs": [],
   "source": [
    "Black Box (str -> str)\n",
    "a => *\n",
    "Abc => @**\n",
    "hello => *****\n",
    "Hi, Friend => @***@*****\n",
    "You and Me => @*******@*"
   ]
  },
  {
   "cell_type": "code",
   "execution_count": 43,
   "metadata": {},
   "outputs": [
    {
     "data": {
      "text/plain": [
       "'@***@*****'"
      ]
     },
     "execution_count": 43,
     "metadata": {},
     "output_type": "execute_result"
    }
   ],
   "source": [
    "def box22(row):\n",
    "    result = \"\"\n",
    "    for letter in row:\n",
    "        if letter.isupper():\n",
    "            result += \"@\"\n",
    "        else:\n",
    "            result += \"*\"\n",
    "    return result\n",
    "\n",
    "box22(\"Hi, Friend\")"
   ]
  },
  {
   "cell_type": "code",
   "execution_count": null,
   "metadata": {},
   "outputs": [],
   "source": [
    "Black Box (str -> str)\n",
    "ab => ab\n",
    "Abc => A*c\n",
    "hello => h***o\n",
    "Hi, Friend => H********d\n",
    "You and Me => Y********e"
   ]
  },
  {
   "cell_type": "code",
   "execution_count": 46,
   "metadata": {},
   "outputs": [
    {
     "data": {
      "text/plain": [
       "'Y********e'"
      ]
     },
     "execution_count": 46,
     "metadata": {},
     "output_type": "execute_result"
    }
   ],
   "source": [
    "def box23(row):\n",
    "    first_letter = row[0]\n",
    "    center = \"*\" * (len(row) - 2)\n",
    "    last_letter = row[-1]\n",
    "    return first_letter + center + last_letter\n",
    "\n",
    "box23(\"You and Me\")"
   ]
  },
  {
   "cell_type": "code",
   "execution_count": 48,
   "metadata": {},
   "outputs": [
    {
     "data": {
      "text/plain": [
       "'Y********e'"
      ]
     },
     "execution_count": 48,
     "metadata": {},
     "output_type": "execute_result"
    }
   ],
   "source": [
    "def box23_2(row):\n",
    "    result = row[0]\n",
    "    for i in range(1, len(row) - 1):\n",
    "        result += \"*\"\n",
    "    return result + row[-1]\n",
    "\n",
    "box23_2(\"You and Me\")"
   ]
  },
  {
   "cell_type": "code",
   "execution_count": 50,
   "metadata": {},
   "outputs": [
    {
     "data": {
      "text/plain": [
       "'Y********e'"
      ]
     },
     "execution_count": 50,
     "metadata": {},
     "output_type": "execute_result"
    }
   ],
   "source": [
    "def box23_3(row):\n",
    "    result = [row[0]]\n",
    "    for i in range(1, len(row) - 1):\n",
    "        result.append(\"*\")\n",
    "    result.append(row[-1])\n",
    "    return \"\".join(result)\n",
    "\n",
    "box23_3(\"You and Me\")"
   ]
  },
  {
   "cell_type": "markdown",
   "metadata": {},
   "source": [
    "Black Box (str -> int)\n",
    "\"45012\" => 3\n",
    "\"08551851\" => 33\n",
    "\"12345\" => 15\n",
    "\"073850037536763\" => 40"
   ]
  },
  {
   "cell_type": "code",
   "execution_count": 54,
   "metadata": {},
   "outputs": [
    {
     "data": {
      "text/plain": [
       "5"
      ]
     },
     "execution_count": 54,
     "metadata": {},
     "output_type": "execute_result"
    }
   ],
   "source": [
    "def box24(row):\n",
    "    result = 0\n",
    "    for letter in row:\n",
    "        letter = int(letter)\n",
    "        result += letter\n",
    "        if letter == 0:\n",
    "            result = 0\n",
    "    return result\n",
    "\n",
    "box24(\"23450345405\")"
   ]
  },
  {
   "cell_type": "code",
   "execution_count": 74,
   "metadata": {},
   "outputs": [
    {
     "data": {
      "text/plain": [
       "4"
      ]
     },
     "execution_count": 74,
     "metadata": {},
     "output_type": "execute_result"
    }
   ],
   "source": [
    "def box24_2(row):\n",
    "    row = row[::-1]\n",
    "    index = row.find(\"0\")\n",
    "    if index != -1:\n",
    "        row = row[:index]\n",
    "    row = [int(i) for i in row]\n",
    "    return sum(row)\n",
    "\n",
    "box24_2(\"3453002304\")"
   ]
  },
  {
   "cell_type": "markdown",
   "metadata": {},
   "source": [
    "Black Box (str -> str)\n",
    "summer -> svopiw\n",
    "abcdef -> acegik\n",
    "water -> wbvhv\n",
    "aaaaaa -> abcdef"
   ]
  },
  {
   "cell_type": "code",
   "execution_count": 75,
   "metadata": {},
   "outputs": [
    {
     "data": {
      "text/plain": [
       "97"
      ]
     },
     "execution_count": 75,
     "metadata": {},
     "output_type": "execute_result"
    }
   ],
   "source": [
    "ord(\"a\")"
   ]
  },
  {
   "cell_type": "code",
   "execution_count": 78,
   "metadata": {},
   "outputs": [
    {
     "data": {
      "text/plain": [
       "'abcdef'"
      ]
     },
     "execution_count": 78,
     "metadata": {},
     "output_type": "execute_result"
    }
   ],
   "source": [
    "def box25(row):\n",
    "    result = \"\"\n",
    "    for i, letter in enumerate(row):\n",
    "        code = ord(letter) + i\n",
    "        result += chr(code)\n",
    "    return result\n",
    "box25(\"aaaaaa\")"
   ]
  },
  {
   "cell_type": "code",
   "execution_count": null,
   "metadata": {},
   "outputs": [],
   "source": [
    "Black Box (str -> str)\n",
    "5 4 9 2 7 -> 2 4 5 7 9\n",
    "3 67 -1 123 9 4 83 -> -1 3 4 9 67 83 123"
   ]
  },
  {
   "cell_type": "code",
   "execution_count": 90,
   "metadata": {},
   "outputs": [
    {
     "data": {
      "text/plain": [
       "'-1 3 4 9 67 83 123'"
      ]
     },
     "execution_count": 90,
     "metadata": {},
     "output_type": "execute_result"
    }
   ],
   "source": [
    "def box26(row):\n",
    "    row = row.split()\n",
    "    row = [int(i) for i in row]\n",
    "    row.sort()\n",
    "    row = [str(i) for i in row]\n",
    "    return \" \".join(row)\n",
    "\n",
    "box26(\"3 67 -1 123 9 4 83\")"
   ]
  },
  {
   "cell_type": "markdown",
   "metadata": {},
   "source": [
    "Black Box (str -> str)\n",
    "123456789 -> 123 456 789\n",
    "012345678910 -> 012 345 678 910\n",
    "gogogo -> gog ogo"
   ]
  },
  {
   "cell_type": "code",
   "execution_count": 94,
   "metadata": {},
   "outputs": [
    {
     "data": {
      "text/plain": [
       "'gog ogo gog'"
      ]
     },
     "execution_count": 94,
     "metadata": {},
     "output_type": "execute_result"
    }
   ],
   "source": [
    "def f(row):\n",
    "    result = \"\"\n",
    "    for i in range(0, len(row), 3):\n",
    "        result += row[i:i + 3] + \" \"\n",
    "    return result.rstrip()\n",
    "f(\"gogogogog\")"
   ]
  },
  {
   "cell_type": "code",
   "execution_count": null,
   "metadata": {},
   "outputs": [],
   "source": []
  }
 ],
 "metadata": {
  "kernelspec": {
   "display_name": "PyPy3",
   "language": "python",
   "name": "pypy3"
  },
  "language_info": {
   "codemirror_mode": {
    "name": "ipython",
    "version": 3
   },
   "file_extension": ".py",
   "mimetype": "text/x-python",
   "name": "python",
   "nbconvert_exporter": "python",
   "pygments_lexer": "ipython3",
   "version": "3.7.3"
  }
 },
 "nbformat": 4,
 "nbformat_minor": 2
}
