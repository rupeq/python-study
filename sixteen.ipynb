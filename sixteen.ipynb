{
 "cells": [
  {
   "cell_type": "code",
   "execution_count": 1,
   "metadata": {},
   "outputs": [],
   "source": [
    "from random import shuffle\n",
    "\n",
    "class Train:\n",
    "    def __init__(self, number):\n",
    "        self.number = number\n",
    "        self.next = None\n",
    "    \n",
    "    def __repr__(self):\n",
    "        return f\"train number - {self.number}\"\n",
    "    \n",
    "    \n",
    "root = Train(1)\n",
    "cursore = root\n",
    "for i in range(2, 20):\n",
    "    cursore.next = Train(i)\n",
    "    cursore = cursore.next"
   ]
  },
  {
   "cell_type": "code",
   "execution_count": 2,
   "metadata": {},
   "outputs": [
    {
     "data": {
      "text/plain": [
       "[7, 15, 3, 2, 12, 18, 10, 6, 19, 16, 9, 14, 8, 1, 4, 5, 17, 11, 13]"
      ]
     },
     "execution_count": 2,
     "metadata": {},
     "output_type": "execute_result"
    }
   ],
   "source": [
    "arr = list(range(1, 20))\n",
    "shuffle(arr)\n",
    "arr"
   ]
  },
  {
   "cell_type": "code",
   "execution_count": 3,
   "metadata": {},
   "outputs": [],
   "source": [
    "tmp = {}\n",
    "cursore = root\n",
    "while cursore:\n",
    "    tmp[cursore.number] = cursore\n",
    "    cursore = cursore.next"
   ]
  },
  {
   "cell_type": "code",
   "execution_count": 4,
   "metadata": {},
   "outputs": [],
   "source": [
    "for i in range(len(arr) - 1):\n",
    "    tmp[arr[i]].next = tmp[arr[i + 1]]\n",
    "tmp[arr[-1]].next = None\n",
    "root = tmp[arr[0]]"
   ]
  },
  {
   "cell_type": "code",
   "execution_count": 5,
   "metadata": {
    "collapsed": true
   },
   "outputs": [
    {
     "name": "stdout",
     "output_type": "stream",
     "text": [
      "train number - 7\n",
      "train number - 15\n",
      "train number - 3\n",
      "train number - 2\n",
      "train number - 12\n",
      "train number - 18\n",
      "train number - 10\n",
      "train number - 6\n",
      "train number - 19\n",
      "train number - 16\n",
      "train number - 9\n",
      "train number - 14\n",
      "train number - 8\n",
      "train number - 1\n",
      "train number - 4\n",
      "train number - 5\n",
      "train number - 17\n",
      "train number - 11\n",
      "train number - 13\n"
     ]
    }
   ],
   "source": [
    "cursore = root\n",
    "while cursore:\n",
    "    print(cursore)\n",
    "    cursore = cursore.next"
   ]
  },
  {
   "cell_type": "markdown",
   "metadata": {},
   "source": [
    "---"
   ]
  },
  {
   "cell_type": "code",
   "execution_count": 6,
   "metadata": {},
   "outputs": [],
   "source": [
    "from tkinter import *"
   ]
  },
  {
   "cell_type": "code",
   "execution_count": 39,
   "metadata": {},
   "outputs": [],
   "source": [
    "root = Tk()\n",
    "root.title(\"hello\")\n",
    "\n",
    "label = Label(root, text=\"hello world\", width=50, font=15, background=\"#238fdb\")\n",
    "entry = Entry(root, font=15, width=50)\n",
    "def justfun():\n",
    "    txt = entry.get()\n",
    "    label[\"text\"] = txt\n",
    "    entry.delete(0, \"end\")\n",
    "\n",
    "button = Button(root, text=\"OK\", font=15, width=10, heigh=2, background=\"#238fdb\", command=justfun)\n",
    "\n",
    "label.grid(row=0, column=0)\n",
    "entry.grid(row=1, column=0)\n",
    "button.grid(row=0, column=1, rowspan=2)\n",
    "\n",
    "root.mainloop()"
   ]
  },
  {
   "cell_type": "code",
   "execution_count": 49,
   "metadata": {},
   "outputs": [],
   "source": [
    "root = Tk()\n",
    "root.title(\"fat\")\n",
    "\n",
    "label_weight = Label(root, text=\"weight\")\n",
    "label_heigh = Label(root, text=\"heigh\")\n",
    "label_result = Label(root, text=\"result:\")\n",
    "\n",
    "entry_weight = Entry(root)\n",
    "entry_heigh = Entry(root)\n",
    "\n",
    "def solve():\n",
    "    w = float(entry_weight.get())\n",
    "    h = float(entry_heigh.get())\n",
    "    label_result['text'] = f\"result: {round(w / h ** 2, 2)}\"\n",
    "    \n",
    "button = Button(root, text=\"OK\", heigh=2, width=4, command=solve)\n",
    "\n",
    "label_weight.grid(row=0, column=0)\n",
    "entry_weight.grid(row=0, column=1)\n",
    "label_heigh.grid(row=1, column=0)\n",
    "entry_heigh.grid(row=1, column=1)\n",
    "button.grid(row=0, column=2, rowspan=2)\n",
    "label_result.grid(row=2, column=0, columnspan=3)\n",
    "root.mainloop()"
   ]
  },
  {
   "cell_type": "code",
   "execution_count": null,
   "metadata": {},
   "outputs": [],
   "source": [
    "weight / (height m) ** 2"
   ]
  },
  {
   "cell_type": "code",
   "execution_count": null,
   "metadata": {},
   "outputs": [],
   "source": [
    "Test.assert_equals(next_id([0,1,2,3,4,5,6,7,8,9,10]), 11) \n",
    "Test.assert_equals(next_id([5,4,3,2,1]), 0) \n",
    "Test.assert_equals(next_id([0,1,2,3,5]), 4) \n",
    "Test.assert_equals(next_id([0,0,0,0,0,0]), 1) \n",
    "Test.assert_equals(next_id([]), 0)"
   ]
  },
  {
   "cell_type": "code",
   "execution_count": 90,
   "metadata": {},
   "outputs": [
    {
     "data": {
      "text/plain": [
       "1"
      ]
     },
     "execution_count": 90,
     "metadata": {},
     "output_type": "execute_result"
    }
   ],
   "source": [
    "r = 1\n",
    "data = []\n",
    "for i in data:\n",
    "    r ^= i\n",
    "data = data or [0]\n",
    "result = r + 1 if r == max(data) else r\n",
    "result"
   ]
  },
  {
   "cell_type": "code",
   "execution_count": null,
   "metadata": {},
   "outputs": [],
   "source": [
    "unitest"
   ]
  },
  {
   "cell_type": "code",
   "execution_count": null,
   "metadata": {},
   "outputs": [],
   "source": [
    "Test Drive Development   TDD"
   ]
  },
  {
   "cell_type": "code",
   "execution_count": 54,
   "metadata": {},
   "outputs": [],
   "source": [
    "import unittest"
   ]
  },
  {
   "cell_type": "code",
   "execution_count": null,
   "metadata": {},
   "outputs": [],
   "source": [
    "unittest.main"
   ]
  },
  {
   "cell_type": "code",
   "execution_count": null,
   "metadata": {},
   "outputs": [],
   "source": [
    "unittest.TestCase.assertIn"
   ]
  },
  {
   "cell_type": "code",
   "execution_count": 60,
   "metadata": {
    "collapsed": true
   },
   "outputs": [
    {
     "name": "stderr",
     "output_type": "stream",
     "text": [
      "test_fact (__main__.FactTest) ... ok\n",
      "test_five (__main__.FactTest) ... ok\n",
      "test_four (__main__.FactTest) ... ok\n",
      "test_second (__main__.FactTest) ... ok\n",
      "test_three (__main__.FactTest) ... ok\n",
      "test_type (__main__.FactTest) ... ok\n",
      "\n",
      "----------------------------------------------------------------------\n",
      "Ran 6 tests in 0.011s\n",
      "\n",
      "OK\n"
     ]
    },
    {
     "data": {
      "text/plain": [
       "<unittest.main.TestProgram at 0x1b83ee0e198>"
      ]
     },
     "execution_count": 60,
     "metadata": {},
     "output_type": "execute_result"
    }
   ],
   "source": [
    "import unittest\n",
    "\n",
    "\n",
    "def fact(x):\n",
    "\treturn x * fact(x - 1) if x else 1\n",
    "\n",
    "\n",
    "class FactTest(unittest.TestCase):\n",
    "\tdef test_fact(self):\n",
    "\t\tself.assertEqual(fact(5), 120)\n",
    "\n",
    "\tdef test_second(self):\n",
    "\t\tself.assertEqual(fact(0), 1)\n",
    "\n",
    "\tdef test_three(self):\n",
    "\t\tself.assertNotEqual(fact(2), 67)\n",
    "\n",
    "\tdef test_four(self):\n",
    "\t\tself.assertGreater(fact(5), 100)\n",
    "\n",
    "\tdef test_type(self):\n",
    "\t\tself.assertIsInstance(fact(5), int)\n",
    "\n",
    "\tdef test_five(self):\n",
    "\t\tself.assertIn(fact(3), [3, 4, 5, 6, 7])\n",
    "\n",
    "\n",
    "unittest.main(argv=[\"\"], verbosity=2, exit=False)"
   ]
  },
  {
   "cell_type": "code",
   "execution_count": 77,
   "metadata": {},
   "outputs": [
    {
     "data": {
      "text/plain": [
       "15"
      ]
     },
     "execution_count": 77,
     "metadata": {},
     "output_type": "execute_result"
    }
   ],
   "source": [
    "def get_sum(digit):\n",
    "    return digit % 10 + get_sum(digit // 10) if digit else 0\n",
    "\n",
    "get_sum(12345)"
   ]
  },
  {
   "cell_type": "code",
   "execution_count": 94,
   "metadata": {},
   "outputs": [
    {
     "name": "stdout",
     "output_type": "stream",
     "text": [
      "2\n",
      "2\n",
      "5\n",
      "5\n"
     ]
    }
   ],
   "source": [
    "def get_mul(digit, div=2):\n",
    "    if digit != 1:\n",
    "        if digit % div == 0:\n",
    "            print(div)\n",
    "            get_mul(digit // div, div)\n",
    "        else:\n",
    "            get_mul(digit, div + 1)\n",
    "            \n",
    "get_mul(100)"
   ]
  },
  {
   "cell_type": "code",
   "execution_count": 95,
   "metadata": {},
   "outputs": [
    {
     "data": {
      "text/plain": [
       "[2, 2, 5, 5]"
      ]
     },
     "execution_count": 95,
     "metadata": {},
     "output_type": "execute_result"
    }
   ],
   "source": [
    "def get_mul(digit, div=2):\n",
    "    if digit != 1:\n",
    "        if not digit % div:\n",
    "            return [div] + get_mul(digit // div, div)\n",
    "        else:\n",
    "            return get_mul(digit, div + 1)\n",
    "    return []\n",
    "            \n",
    "get_mul(100)"
   ]
  },
  {
   "cell_type": "code",
   "execution_count": 2,
   "metadata": {},
   "outputs": [
    {
     "data": {
      "text/plain": [
       "[1, 2, 4, 5, 10, 20, 25, 50, 100]"
      ]
     },
     "execution_count": 2,
     "metadata": {},
     "output_type": "execute_result"
    }
   ],
   "source": [
    "def get_mul(digit, div=1):\n",
    "    if digit >= div:\n",
    "        if not digit % div:\n",
    "            return [div] + get_mul(digit, div + 1)\n",
    "        else:\n",
    "            return get_mul(digit, div + 1)\n",
    "    return []\n",
    "            \n",
    "get_mul(100)"
   ]
  },
  {
   "cell_type": "code",
   "execution_count": 17,
   "metadata": {},
   "outputs": [
    {
     "data": {
      "text/plain": [
       "True"
      ]
     },
     "execution_count": 17,
     "metadata": {},
     "output_type": "execute_result"
    }
   ],
   "source": [
    "def get_two(digit):\n",
    "    if digit > 2:\n",
    "        return get_two(digit // 2) if not digit % 2 else False\n",
    "    return True\n",
    "\n",
    "get_two(32)"
   ]
  },
  {
   "cell_type": "code",
   "execution_count": 21,
   "metadata": {},
   "outputs": [
    {
     "name": "stdout",
     "output_type": "stream",
     "text": [
      "4\n",
      "6\n",
      "8\n"
     ]
    }
   ],
   "source": [
    "for i in range(4, 10, 2):\n",
    "    print(i)"
   ]
  },
  {
   "cell_type": "code",
   "execution_count": 39,
   "metadata": {},
   "outputs": [],
   "source": [
    "def my_range(*args):\n",
    "    assert 1 <= len(args) <= 3, \"wrong count arguments\"\n",
    "    if len(args) == 1:\n",
    "        stop, = args\n",
    "        step = 1\n",
    "        start = 0\n",
    "    elif len(args) == 2:\n",
    "        start, stop = args\n",
    "        step = 1\n",
    "    elif len(args) == 3:\n",
    "        start, stop, step = args\n",
    "        \n",
    "    if step > 0:\n",
    "        while start < stop:\n",
    "            yield start\n",
    "            start += step\n",
    "    else:\n",
    "        while start > stop:\n",
    "            yield start\n",
    "            start += step"
   ]
  },
  {
   "cell_type": "code",
   "execution_count": 42,
   "metadata": {},
   "outputs": [
    {
     "name": "stdout",
     "output_type": "stream",
     "text": [
      "-20\n",
      "-22\n",
      "-24\n",
      "-26\n",
      "-28\n"
     ]
    }
   ],
   "source": [
    "for i in my_range(-20, -30, -2):\n",
    "    print(i)"
   ]
  },
  {
   "cell_type": "markdown",
   "metadata": {},
   "source": [
    "---"
   ]
  },
  {
   "cell_type": "code",
   "execution_count": 49,
   "metadata": {},
   "outputs": [],
   "source": [
    "class MyExceptionTrololo(Exception):\n",
    "    pass"
   ]
  },
  {
   "cell_type": "code",
   "execution_count": 50,
   "metadata": {},
   "outputs": [],
   "source": [
    "def hello(x):\n",
    "    if x == 5:\n",
    "        raise MyExceptionTrololo(\"hello error\")"
   ]
  },
  {
   "cell_type": "code",
   "execution_count": 52,
   "metadata": {},
   "outputs": [
    {
     "ename": "MyExceptionTrololo",
     "evalue": "hello error",
     "output_type": "error",
     "traceback": [
      "\u001b[1;31m---------------------------------------------------------------------------\u001b[0m",
      "\u001b[1;31mMyExceptionTrololo\u001b[0m                        Traceback (most recent call last)",
      "\u001b[1;32m<ipython-input-52-c8bbaafb0f2b>\u001b[0m in \u001b[0;36m<module>\u001b[1;34m\u001b[0m\n\u001b[1;32m----> 1\u001b[1;33m \u001b[0mhello\u001b[0m\u001b[1;33m(\u001b[0m\u001b[1;36m5\u001b[0m\u001b[1;33m)\u001b[0m\u001b[1;33m\u001b[0m\u001b[1;33m\u001b[0m\u001b[0m\n\u001b[0m",
      "\u001b[1;32m<ipython-input-50-218524cdbc47>\u001b[0m in \u001b[0;36mhello\u001b[1;34m(x)\u001b[0m\n\u001b[0;32m      1\u001b[0m \u001b[1;32mdef\u001b[0m \u001b[0mhello\u001b[0m\u001b[1;33m(\u001b[0m\u001b[0mx\u001b[0m\u001b[1;33m)\u001b[0m\u001b[1;33m:\u001b[0m\u001b[1;33m\u001b[0m\u001b[1;33m\u001b[0m\u001b[0m\n\u001b[0;32m      2\u001b[0m     \u001b[1;32mif\u001b[0m \u001b[0mx\u001b[0m \u001b[1;33m==\u001b[0m \u001b[1;36m5\u001b[0m\u001b[1;33m:\u001b[0m\u001b[1;33m\u001b[0m\u001b[1;33m\u001b[0m\u001b[0m\n\u001b[1;32m----> 3\u001b[1;33m         \u001b[1;32mraise\u001b[0m \u001b[0mMyExceptionTrololo\u001b[0m\u001b[1;33m(\u001b[0m\u001b[1;34m\"hello error\"\u001b[0m\u001b[1;33m)\u001b[0m\u001b[1;33m\u001b[0m\u001b[1;33m\u001b[0m\u001b[0m\n\u001b[0m",
      "\u001b[1;31mMyExceptionTrololo\u001b[0m: hello error"
     ]
    }
   ],
   "source": [
    "hello(5)"
   ]
  },
  {
   "cell_type": "code",
   "execution_count": 46,
   "metadata": {},
   "outputs": [],
   "source": [
    "def hello(x):\n",
    "    assert x != 5, f\"wrong argument {x}\""
   ]
  },
  {
   "cell_type": "code",
   "execution_count": 48,
   "metadata": {},
   "outputs": [
    {
     "ename": "AssertionError",
     "evalue": "wrong argument 5",
     "output_type": "error",
     "traceback": [
      "\u001b[1;31m---------------------------------------------------------------------------\u001b[0m",
      "\u001b[1;31mAssertionError\u001b[0m                            Traceback (most recent call last)",
      "\u001b[1;32m<ipython-input-48-c8bbaafb0f2b>\u001b[0m in \u001b[0;36m<module>\u001b[1;34m\u001b[0m\n\u001b[1;32m----> 1\u001b[1;33m \u001b[0mhello\u001b[0m\u001b[1;33m(\u001b[0m\u001b[1;36m5\u001b[0m\u001b[1;33m)\u001b[0m\u001b[1;33m\u001b[0m\u001b[1;33m\u001b[0m\u001b[0m\n\u001b[0m",
      "\u001b[1;32m<ipython-input-46-a88030eb92d4>\u001b[0m in \u001b[0;36mhello\u001b[1;34m(x)\u001b[0m\n\u001b[0;32m      1\u001b[0m \u001b[1;32mdef\u001b[0m \u001b[0mhello\u001b[0m\u001b[1;33m(\u001b[0m\u001b[0mx\u001b[0m\u001b[1;33m)\u001b[0m\u001b[1;33m:\u001b[0m\u001b[1;33m\u001b[0m\u001b[1;33m\u001b[0m\u001b[0m\n\u001b[1;32m----> 2\u001b[1;33m     \u001b[1;32massert\u001b[0m \u001b[0mx\u001b[0m \u001b[1;33m!=\u001b[0m \u001b[1;36m5\u001b[0m\u001b[1;33m,\u001b[0m \u001b[1;34mf\"wrong argument {x}\"\u001b[0m\u001b[1;33m\u001b[0m\u001b[1;33m\u001b[0m\u001b[0m\n\u001b[0m",
      "\u001b[1;31mAssertionError\u001b[0m: wrong argument 5"
     ]
    }
   ],
   "source": [
    "hello(5)"
   ]
  }
 ],
 "metadata": {
  "kernelspec": {
   "display_name": "Python 3",
   "language": "python",
   "name": "python3"
  },
  "language_info": {
   "codemirror_mode": {
    "name": "ipython",
    "version": 3
   },
   "file_extension": ".py",
   "mimetype": "text/x-python",
   "name": "python",
   "nbconvert_exporter": "python",
   "pygments_lexer": "ipython3",
   "version": "3.7.3"
  }
 },
 "nbformat": 4,
 "nbformat_minor": 2
}
