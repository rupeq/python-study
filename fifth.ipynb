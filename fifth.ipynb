{
 "cells": [
  {
   "cell_type": "markdown",
   "metadata": {},
   "source": [
    "1. найти все простые числа до введенного пользователем предела\n",
    "==="
   ]
  },
  {
   "cell_type": "code",
   "execution_count": 57,
   "metadata": {},
   "outputs": [
    {
     "name": "stdout",
     "output_type": "stream",
     "text": [
      "enter the digit please50\n",
      "2\n",
      "3\n",
      "5\n",
      "7\n",
      "11\n",
      "13\n",
      "17\n",
      "19\n",
      "23\n",
      "29\n",
      "31\n",
      "37\n",
      "41\n",
      "43\n",
      "47\n"
     ]
    }
   ],
   "source": [
    "limit = input(\"enter the digit please\")\n",
    "limit = int(limit)\n",
    "\n",
    "for digit in range(2, limit):\n",
    "    for i in range(2, digit):\n",
    "        if digit % i == 0:\n",
    "            break\n",
    "    else:\n",
    "        print(digit)"
   ]
  },
  {
   "cell_type": "markdown",
   "metadata": {},
   "source": [
    "найти все совершенные числа до введенного пользователем предела\n",
    "==="
   ]
  },
  {
   "cell_type": "code",
   "execution_count": 59,
   "metadata": {},
   "outputs": [
    {
     "name": "stdout",
     "output_type": "stream",
     "text": [
      "enter the digit please1000\n",
      "6\n",
      "28\n",
      "496\n"
     ]
    }
   ],
   "source": [
    "limit = input(\"enter the digit please\")\n",
    "limit = int(limit)\n",
    "\n",
    "for digit in range(2, limit):\n",
    "    current_sum = 0\n",
    "    for i in range(1, digit):\n",
    "        if digit % i == 0:\n",
    "            current_sum += i\n",
    "    if current_sum == digit:\n",
    "        print(digit)"
   ]
  },
  {
   "cell_type": "markdown",
   "metadata": {},
   "source": [
    "найти все числа Армстронга до введенного пользователем предела\n",
    "==="
   ]
  },
  {
   "cell_type": "code",
   "execution_count": 63,
   "metadata": {},
   "outputs": [
    {
     "name": "stdout",
     "output_type": "stream",
     "text": [
      "enter the digit please10000\n",
      "153\n",
      "370\n",
      "371\n",
      "407\n",
      "1634\n",
      "8208\n",
      "9474\n"
     ]
    }
   ],
   "source": [
    "limit = input(\"enter the digit please\")\n",
    "limit = int(limit)\n",
    "\n",
    "for digit in range(10, limit):\n",
    "    length = len(str(digit))\n",
    "    origin = digit\n",
    "    current_sum = 0\n",
    "    while digit:\n",
    "        current_sum += (digit % 10) ** length\n",
    "        digit //= 10\n",
    "    if current_sum == origin:\n",
    "        print(origin)"
   ]
  },
  {
   "cell_type": "code",
   "execution_count": 64,
   "metadata": {},
   "outputs": [
    {
     "name": "stdout",
     "output_type": "stream",
     "text": [
      "Input your limit 100\n"
     ]
    },
    {
     "data": {
      "text/plain": [
       "[6,\n",
       " 12,\n",
       " 18,\n",
       " 20,\n",
       " 24,\n",
       " 28,\n",
       " 30,\n",
       " 36,\n",
       " 40,\n",
       " 42,\n",
       " 48,\n",
       " 54,\n",
       " 56,\n",
       " 60,\n",
       " 66,\n",
       " 70,\n",
       " 72,\n",
       " 78,\n",
       " 80,\n",
       " 84,\n",
       " 88,\n",
       " 90,\n",
       " 96,\n",
       " 100]"
      ]
     },
     "execution_count": 64,
     "metadata": {},
     "output_type": "execute_result"
    }
   ],
   "source": [
    "# + / -\n",
    "\n",
    "digit = input(\"Input your limit \") \n",
    "digit = int(digit)\n",
    "semi_perf_list = []\n",
    "\n",
    "for data in range(2, digit + 1):\n",
    "    int_sum = 0\n",
    "    for div in range(1, data):\n",
    "        if data % div == 0:\n",
    "            int_sum += div\n",
    "            if int_sum >= data:\n",
    "                semi_perf_list.append(data)\n",
    "                break\n",
    "                \n",
    "semi_perf_list"
   ]
  },
  {
   "cell_type": "markdown",
   "metadata": {},
   "source": [
    "---"
   ]
  },
  {
   "cell_type": "code",
   "execution_count": 70,
   "metadata": {},
   "outputs": [
    {
     "name": "stdout",
     "output_type": "stream",
     "text": [
      "0 Gaben\n",
      "1 Tommy\n",
      "2 Turezkiy\n",
      "3 Break\n",
      "4 Zapad\n"
     ]
    }
   ],
   "source": [
    "all_users = [\"Gaben\", \"Tommy\", \"Turezkiy\", \"Break\", \"Zapad\"]\n",
    "\n",
    "for index, name in enumerate(all_users):\n",
    "    print(index, name)"
   ]
  },
  {
   "cell_type": "code",
   "execution_count": 72,
   "metadata": {},
   "outputs": [
    {
     "data": {
      "text/plain": [
       "[1, 2, 3, 4]"
      ]
     },
     "execution_count": 72,
     "metadata": {},
     "output_type": "execute_result"
    }
   ],
   "source": [
    "arr = [1, 2, 3, 4]\n",
    "\n",
    "for i in arr:\n",
    "    i = 0\n",
    " \n",
    "arr"
   ]
  },
  {
   "cell_type": "code",
   "execution_count": 74,
   "metadata": {},
   "outputs": [
    {
     "name": "stdout",
     "output_type": "stream",
     "text": [
      "1.22 µs ± 64.7 ns per loop (mean ± std. dev. of 7 runs, 1000000 loops each)\n"
     ]
    }
   ],
   "source": [
    "%%timeit\n",
    "arr = [1, 2, 3, 4]\n",
    "\n",
    "for i in range(len(arr)):\n",
    "    arr[i] = 0\n",
    "    \n",
    "arr"
   ]
  },
  {
   "cell_type": "code",
   "execution_count": 98,
   "metadata": {},
   "outputs": [
    {
     "name": "stdout",
     "output_type": "stream",
     "text": [
      "1.12 µs ± 95.4 ns per loop (mean ± std. dev. of 7 runs, 1000000 loops each)\n"
     ]
    }
   ],
   "source": [
    "%%timeit\n",
    "arr = ['a', 'b', 'c', 'd']\n",
    "\n",
    "for i, _ in enumerate(arr):\n",
    "    arr[i] = 0\n",
    "\n",
    "arr"
   ]
  },
  {
   "cell_type": "markdown",
   "metadata": {},
   "source": [
    "---"
   ]
  },
  {
   "cell_type": "code",
   "execution_count": 81,
   "metadata": {},
   "outputs": [],
   "source": [
    "a, b, (c, d) = (1, 2, (1, 2))"
   ]
  },
  {
   "cell_type": "code",
   "execution_count": 101,
   "metadata": {},
   "outputs": [
    {
     "name": "stdout",
     "output_type": "stream",
     "text": [
      "0 Gaben 1\n",
      "1 Tommy 2\n",
      "2 Turezkiy 3\n",
      "3 Break 4\n"
     ]
    }
   ],
   "source": [
    "all_users = [\"Gaben\", \"Tommy\", \"Turezkiy\", \"Break\", \"Zapad\"]\n",
    "arr = [1, 2, 3, 4]\n",
    "\n",
    "for i, (j, k) in enumerate(zip(all_users, arr)):\n",
    "    print(i, j, k)"
   ]
  },
  {
   "cell_type": "code",
   "execution_count": 102,
   "metadata": {},
   "outputs": [
    {
     "data": {
      "text/plain": [
       "[7, 24, 63, 19]"
      ]
     },
     "execution_count": 102,
     "metadata": {},
     "output_type": "execute_result"
    }
   ],
   "source": [
    "a = [1, 2, 3, 4]\n",
    "b = [4, 8, 1, 9]\n",
    "c = [12, 34, 67, 32]\n",
    "\n",
    "for i, (j, k) in enumerate(zip(a, b)):\n",
    "    c[i] -= j + k\n",
    "\n",
    "# c = [7, 24, 63, 19]\n",
    "c"
   ]
  },
  {
   "cell_type": "markdown",
   "metadata": {},
   "source": [
    "---"
   ]
  },
  {
   "cell_type": "code",
   "execution_count": 103,
   "metadata": {},
   "outputs": [
    {
     "data": {
      "text/plain": [
       "10"
      ]
     },
     "execution_count": 103,
     "metadata": {},
     "output_type": "execute_result"
    }
   ],
   "source": [
    "arr = [1, 2, 3, 4]\n",
    "sum(arr)"
   ]
  },
  {
   "cell_type": "code",
   "execution_count": 104,
   "metadata": {},
   "outputs": [
    {
     "data": {
      "text/plain": [
       "4"
      ]
     },
     "execution_count": 104,
     "metadata": {},
     "output_type": "execute_result"
    }
   ],
   "source": [
    "max(arr)"
   ]
  },
  {
   "cell_type": "code",
   "execution_count": 106,
   "metadata": {},
   "outputs": [
    {
     "data": {
      "text/plain": [
       "1"
      ]
     },
     "execution_count": 106,
     "metadata": {},
     "output_type": "execute_result"
    }
   ],
   "source": [
    "min(arr)"
   ]
  },
  {
   "cell_type": "code",
   "execution_count": 107,
   "metadata": {},
   "outputs": [
    {
     "data": {
      "text/plain": [
       "3"
      ]
     },
     "execution_count": 107,
     "metadata": {},
     "output_type": "execute_result"
    }
   ],
   "source": [
    "abs(-3)"
   ]
  },
  {
   "cell_type": "markdown",
   "metadata": {},
   "source": [
    "---"
   ]
  },
  {
   "cell_type": "code",
   "execution_count": 108,
   "metadata": {},
   "outputs": [],
   "source": [
    "# write\n",
    "file = open(\"newfile.txt\", \"w\")"
   ]
  },
  {
   "cell_type": "code",
   "execution_count": 109,
   "metadata": {},
   "outputs": [
    {
     "data": {
      "text/plain": [
       "11"
      ]
     },
     "execution_count": 109,
     "metadata": {},
     "output_type": "execute_result"
    }
   ],
   "source": [
    "file.write(\"hello world\")"
   ]
  },
  {
   "cell_type": "code",
   "execution_count": 110,
   "metadata": {},
   "outputs": [],
   "source": [
    "file.close()"
   ]
  },
  {
   "cell_type": "code",
   "execution_count": 112,
   "metadata": {},
   "outputs": [],
   "source": [
    "# read\n",
    "file = open(\"newfile.txt\", \"r\")"
   ]
  },
  {
   "cell_type": "code",
   "execution_count": 113,
   "metadata": {},
   "outputs": [
    {
     "data": {
      "text/plain": [
       "'hello world'"
      ]
     },
     "execution_count": 113,
     "metadata": {},
     "output_type": "execute_result"
    }
   ],
   "source": [
    "file.read()"
   ]
  },
  {
   "cell_type": "code",
   "execution_count": 114,
   "metadata": {},
   "outputs": [],
   "source": [
    "file.close()"
   ]
  },
  {
   "cell_type": "markdown",
   "metadata": {},
   "source": [
    "---"
   ]
  },
  {
   "cell_type": "code",
   "execution_count": 119,
   "metadata": {},
   "outputs": [],
   "source": [
    "with open(\"newfile.txt\", \"w\") as file:\n",
    "    file.write(\"hello\")\n",
    "    file.write(\"\\n\")\n",
    "    file.write(\"world\")"
   ]
  },
  {
   "cell_type": "code",
   "execution_count": 125,
   "metadata": {},
   "outputs": [
    {
     "name": "stdout",
     "output_type": "stream",
     "text": [
      "hello\n",
      "world\n",
      "dghdf\n",
      "dfg\n",
      "fhg\n",
      "jh\n",
      "44\n",
      "fdgh\n",
      "fgh\n",
      "h\n",
      "gh\n",
      "jg\n",
      "gh\n",
      "j\n",
      "\n"
     ]
    }
   ],
   "source": [
    "with open(\"newfile.txt\", \"r\") as file:\n",
    "    print(file.read())"
   ]
  },
  {
   "cell_type": "code",
   "execution_count": 127,
   "metadata": {},
   "outputs": [
    {
     "name": "stdout",
     "output_type": "stream",
     "text": [
      "hello 2\n",
      "world 2\n",
      "dghdf 2\n",
      "dfg 2\n",
      "fhg 2\n",
      "jh 2\n",
      "44 2\n",
      "fdgh 2\n",
      "fgh 2\n",
      "h 2\n",
      "gh 2\n",
      "jg 2\n",
      "gh 2\n",
      "j 2\n"
     ]
    }
   ],
   "source": [
    "with open(\"newfile.txt\", \"r\") as file:\n",
    "    for row in file:\n",
    "        print(row.strip(), 2)"
   ]
  },
  {
   "cell_type": "markdown",
   "metadata": {},
   "source": [
    "---"
   ]
  },
  {
   "cell_type": "code",
   "execution_count": 132,
   "metadata": {},
   "outputs": [
    {
     "name": "stdout",
     "output_type": "stream",
     "text": [
      "2.8\n",
      "2.5\n",
      "3.0\n",
      "2.1\n",
      "1.9\n",
      "2.9\n",
      "2.9\n",
      "2.3\n",
      "2.5\n",
      "1.8\n",
      "2.3\n",
      "2.6\n",
      "1.7\n",
      "1.7\n",
      "2.3\n",
      "2.3\n",
      "2.2\n",
      "1.8\n",
      "2.1\n",
      "1.5\n",
      "2.9\n",
      "2.4\n",
      "1.5\n",
      "2.4\n",
      "3.0\n",
      "\n"
     ]
    }
   ],
   "source": [
    "with open(r\"C:\\Users\\Student\\Downloads\\test.txt\", \"r\") as file:\n",
    "    print(file.read()[:100])"
   ]
  },
  {
   "cell_type": "code",
   "execution_count": 133,
   "metadata": {},
   "outputs": [
    {
     "name": "stdout",
     "output_type": "stream",
     "text": [
      "2.8\n",
      "2.5\n",
      "3.0\n",
      "2.1\n",
      "1.9\n",
      "2.9\n",
      "2.9\n",
      "2.3\n",
      "2.5\n",
      "1.8\n",
      "2.3\n",
      "2.6\n",
      "1.7\n",
      "1.7\n",
      "2.3\n",
      "2.3\n",
      "2.2\n",
      "1.8\n",
      "2.1\n",
      "1.5\n",
      "2.9\n",
      "2.4\n",
      "1.5\n",
      "2.4\n",
      "3.0\n",
      "\n"
     ]
    }
   ],
   "source": [
    "with open(r\"test.txt\", \"r\") as file:\n",
    "    print(file.read()[:100])"
   ]
  },
  {
   "cell_type": "code",
   "execution_count": 136,
   "metadata": {
    "collapsed": true
   },
   "outputs": [
    {
     "name": "stdout",
     "output_type": "stream",
     "text": [
      "2.8\n",
      "2.5\n",
      "3.0\n",
      "2.1\n",
      "1.9\n",
      "2.9\n",
      "2.9\n",
      "2.3\n",
      "2.5\n",
      "1.8\n",
      "2.3\n",
      "2.6\n",
      "1.7\n",
      "1.7\n",
      "2.3\n",
      "2.3\n",
      "2.2\n",
      "1.8\n",
      "2.1\n",
      "1.5\n",
      "2.9\n",
      "2.4\n",
      "1.5\n",
      "2.4\n",
      "3.0\n",
      "\n"
     ]
    }
   ],
   "source": [
    "with open(r\"./animals/test.txt\", \"r\") as file:  # . CWD\n",
    "    print(file.read()[:100])"
   ]
  },
  {
   "cell_type": "code",
   "execution_count": 142,
   "metadata": {},
   "outputs": [
    {
     "data": {
      "text/plain": [
       "224962.0"
      ]
     },
     "execution_count": 142,
     "metadata": {},
     "output_type": "execute_result"
    }
   ],
   "source": [
    "resul = 0\n",
    "with open(r\"../Public/test.txt\", \"r\") as file:  # .. up lvl\n",
    "    for row in file:\n",
    "        resul += float(row)\n",
    "round(resul, 1)"
   ]
  },
  {
   "cell_type": "code",
   "execution_count": 140,
   "metadata": {},
   "outputs": [
    {
     "data": {
      "text/plain": [
       "9.899999999999999"
      ]
     },
     "execution_count": 140,
     "metadata": {},
     "output_type": "execute_result"
    }
   ],
   "source": [
    "3.3 * 3"
   ]
  },
  {
   "cell_type": "markdown",
   "metadata": {},
   "source": [
    "---"
   ]
  },
  {
   "cell_type": "code",
   "execution_count": 143,
   "metadata": {},
   "outputs": [],
   "source": [
    "from decimal import Decimal"
   ]
  },
  {
   "cell_type": "code",
   "execution_count": 146,
   "metadata": {},
   "outputs": [
    {
     "data": {
      "text/plain": [
       "Decimal('9.9')"
      ]
     },
     "execution_count": 146,
     "metadata": {},
     "output_type": "execute_result"
    }
   ],
   "source": [
    "Decimal(\"3.3\") * 3"
   ]
  },
  {
   "cell_type": "code",
   "execution_count": 147,
   "metadata": {},
   "outputs": [],
   "source": [
    "from fractions import Fraction"
   ]
  },
  {
   "cell_type": "code",
   "execution_count": 151,
   "metadata": {},
   "outputs": [
    {
     "data": {
      "text/plain": [
       "'3/4'"
      ]
     },
     "execution_count": 151,
     "metadata": {},
     "output_type": "execute_result"
    }
   ],
   "source": [
    "str(Fraction(1, 4) * 3)"
   ]
  },
  {
   "cell_type": "markdown",
   "metadata": {},
   "source": [
    "---"
   ]
  },
  {
   "cell_type": "code",
   "execution_count": 158,
   "metadata": {},
   "outputs": [
    {
     "name": "stdout",
     "output_type": "stream",
     "text": [
      "[1, 2, 3, 4]\n",
      "[4, 5, 6, 7]\n",
      "[8, 2, 0, 3]\n",
      "[7, 5, 5, 0]\n"
     ]
    }
   ],
   "source": [
    "matrix = [\n",
    "    [1, 2, 3, 4],\n",
    "    [4, 5, 6, 7],\n",
    "    [8, 2, 0, 3],\n",
    "    [7, 5, 5, 0]\n",
    "]\n",
    "print(*matrix, sep=\"\\n\")"
   ]
  },
  {
   "cell_type": "code",
   "execution_count": 159,
   "metadata": {},
   "outputs": [
    {
     "data": {
      "text/plain": [
       "62"
      ]
     },
     "execution_count": 159,
     "metadata": {},
     "output_type": "execute_result"
    }
   ],
   "source": [
    "result = 0\n",
    "for row in matrix:\n",
    "    result += sum(row)\n",
    "result"
   ]
  },
  {
   "cell_type": "code",
   "execution_count": 160,
   "metadata": {},
   "outputs": [
    {
     "data": {
      "text/plain": [
       "[10, 22, 13, 17]"
      ]
     },
     "execution_count": 160,
     "metadata": {},
     "output_type": "execute_result"
    }
   ],
   "source": [
    "result = []\n",
    "for row in matrix:\n",
    "    result.append(sum(row))\n",
    "result"
   ]
  },
  {
   "cell_type": "code",
   "execution_count": 165,
   "metadata": {},
   "outputs": [
    {
     "name": "stdout",
     "output_type": "stream",
     "text": [
      "3.33 µs ± 447 ns per loop (mean ± std. dev. of 7 runs, 100000 loops each)\n"
     ]
    }
   ],
   "source": [
    "%%timeit\n",
    "result = []\n",
    "for i in zip(*matrix): # zip(matrix[0], matrix[1], matrix[2], matrix[3])\n",
    "    result.append(sum(i))\n",
    "result"
   ]
  },
  {
   "cell_type": "code",
   "execution_count": 167,
   "metadata": {},
   "outputs": [
    {
     "name": "stdout",
     "output_type": "stream",
     "text": [
      "8.75 µs ± 1.36 µs per loop (mean ± std. dev. of 7 runs, 100000 loops each)\n"
     ]
    }
   ],
   "source": [
    "%%timeit\n",
    "result = []\n",
    "for i, _ in enumerate(matrix[3]): # column\n",
    "    current_row_sum = 0\n",
    "    for j, _ in enumerate(matrix): # row\n",
    "        current_row_sum += matrix[j][i]\n",
    "    result.append(current_row_sum)\n",
    "result"
   ]
  },
  {
   "cell_type": "code",
   "execution_count": 177,
   "metadata": {},
   "outputs": [
    {
     "name": "stdout",
     "output_type": "stream",
     "text": [
      "[1, 2, 3, 4]\n",
      "[4, 5, 6, 7]\n",
      "[8, 2, 0, 3]\n"
     ]
    }
   ],
   "source": [
    "matrix = [\n",
    "    [1, 2, 3, 4],\n",
    "    [4, 5, 6, 7],\n",
    "    [8, 2, 0, 3],\n",
    "    [7, 5, 5, 0]\n",
    "]\n",
    "print(*matrix, sep=\"\\n\")"
   ]
  },
  {
   "cell_type": "code",
   "execution_count": 178,
   "metadata": {},
   "outputs": [
    {
     "data": {
      "text/plain": [
       "6"
      ]
     },
     "execution_count": 178,
     "metadata": {},
     "output_type": "execute_result"
    }
   ],
   "source": [
    "# trace\n",
    "result = 0\n",
    "for i, _ in enumerate(matrix):\n",
    "    result += matrix[i][i]\n",
    "result"
   ]
  },
  {
   "cell_type": "code",
   "execution_count": 179,
   "metadata": {},
   "outputs": [
    {
     "data": {
      "text/plain": [
       "6"
      ]
     },
     "execution_count": 179,
     "metadata": {},
     "output_type": "execute_result"
    }
   ],
   "source": [
    "# trace\n",
    "result = 0\n",
    "for index, value in enumerate(matrix):\n",
    "    result += value[index]\n",
    "result"
   ]
  },
  {
   "cell_type": "code",
   "execution_count": 180,
   "metadata": {},
   "outputs": [
    {
     "data": {
      "text/plain": [
       "6"
      ]
     },
     "execution_count": 180,
     "metadata": {},
     "output_type": "execute_result"
    }
   ],
   "source": [
    "# trace\n",
    "result = 0\n",
    "for i, _ in enumerate(matrix):\n",
    "    for j, _ in enumerate(matrix[0]):\n",
    "        if i == j:\n",
    "            result += matrix[i][j]\n",
    "result"
   ]
  },
  {
   "cell_type": "markdown",
   "metadata": {},
   "source": [
    "---"
   ]
  },
  {
   "cell_type": "code",
   "execution_count": 182,
   "metadata": {},
   "outputs": [
    {
     "name": "stdout",
     "output_type": "stream",
     "text": [
      "[1, 2, 3, 4]\n",
      "[4, 5, 6, 7]\n",
      "[8, 2, 0, 3]\n",
      "[7, 5, 5, 0]\n"
     ]
    }
   ],
   "source": [
    "matrix = [\n",
    "    [1, 2, 3, 4],\n",
    "    [4, 5, 6, 7],\n",
    "    [8, 2, 0, 3],\n",
    "    [7, 5, 5, 0]\n",
    "]\n",
    "print(*matrix, sep=\"\\n\")"
   ]
  },
  {
   "cell_type": "code",
   "execution_count": 183,
   "metadata": {},
   "outputs": [
    {
     "data": {
      "text/plain": [
       "19"
      ]
     },
     "execution_count": 183,
     "metadata": {},
     "output_type": "execute_result"
    }
   ],
   "source": [
    "# trace\n",
    "result = 0\n",
    "for i, _ in enumerate(matrix):\n",
    "    for j, _ in enumerate(matrix[0]):\n",
    "        if i == j:\n",
    "            result += matrix[i][-(j + 1)]\n",
    "result"
   ]
  }
 ],
 "metadata": {
  "kernelspec": {
   "display_name": "Python 3",
   "language": "python",
   "name": "python3"
  },
  "language_info": {
   "codemirror_mode": {
    "name": "ipython",
    "version": 3
   },
   "file_extension": ".py",
   "mimetype": "text/x-python",
   "name": "python",
   "nbconvert_exporter": "python",
   "pygments_lexer": "ipython3",
   "version": "3.7.3"
  }
 },
 "nbformat": 4,
 "nbformat_minor": 2
}
