{
 "cells": [
  {
   "cell_type": "code",
   "execution_count": 1,
   "metadata": {},
   "outputs": [],
   "source": [
    "import socket"
   ]
  },
  {
   "cell_type": "code",
   "execution_count": null,
   "metadata": {},
   "outputs": [],
   "source": [
    "#                 IP       internet protocol\n",
    "#                /  \\\n",
    "#             TCP   UDP        TCP - transpotr client protocol\n",
    "#            /  \\              UDP - User Datagram Protocol\n",
    "#       HTTP    \n",
    "#       /\n",
    "#    HTTPS"
   ]
  },
  {
   "cell_type": "code",
   "execution_count": null,
   "metadata": {},
   "outputs": [],
   "source": [
    "IP_V4\n",
    "IP_V6"
   ]
  },
  {
   "cell_type": "code",
   "execution_count": 3,
   "metadata": {},
   "outputs": [
    {
     "data": {
      "text/plain": [
       "4228250625"
      ]
     },
     "execution_count": 3,
     "metadata": {},
     "output_type": "execute_result"
    }
   ],
   "source": [
    "255 ** 4"
   ]
  },
  {
   "cell_type": "code",
   "execution_count": 4,
   "metadata": {},
   "outputs": [
    {
     "data": {
      "text/plain": [
       "274941996890625"
      ]
     },
     "execution_count": 4,
     "metadata": {},
     "output_type": "execute_result"
    }
   ],
   "source": [
    "255 ** 6"
   ]
  },
  {
   "cell_type": "code",
   "execution_count": 2,
   "metadata": {},
   "outputs": [
    {
     "name": "stdout",
     "output_type": "stream",
     "text": [
      "b'777 tri topora'\n",
      "b'ja bayt stoka'\n",
      "b'hello world'\n",
      "b'hello world'\n",
      "b'hello world'\n"
     ]
    }
   ],
   "source": [
    "# server UDP\n",
    "server = socket.socket(socket.AF_INET, socket.SOCK_DGRAM)\n",
    "server.bind((\"192.168.19.97\", 5000))\n",
    "\n",
    "for i in range(5):\n",
    "    msg = server.recv(1024)\n",
    "    print(msg)"
   ]
  },
  {
   "cell_type": "code",
   "execution_count": 4,
   "metadata": {},
   "outputs": [],
   "source": [
    "# client\n",
    "client = socket.socket(socket.AF_INET, socket.SOCK_DGRAM)\n",
    "client.sendto(b\"hello world\", (\"192.168.19.97\", 5000))"
   ]
  },
  {
   "cell_type": "markdown",
   "metadata": {},
   "source": [
    "я бы рассказал вам шутку про UDP но она до вас может не дойти"
   ]
  },
  {
   "cell_type": "markdown",
   "metadata": {},
   "source": [
    "TCP\n",
    "==="
   ]
  },
  {
   "cell_type": "markdown",
   "metadata": {},
   "source": [
    "Я бы рассказал шуьку поро TCP но если она до вас не дойдет - то я ее повторю"
   ]
  },
  {
   "cell_type": "code",
   "execution_count": null,
   "metadata": {},
   "outputs": [
    {
     "name": "stdout",
     "output_type": "stream",
     "text": [
      "('192.168.19.8', 1825)\n",
      "b'PS5 is comming YEEEEEEAAAAAAH'\n"
     ]
    }
   ],
   "source": [
    "import socket\n",
    "# server\n",
    "server = socket.socket(socket.AF_INET, socket.SOCK_STREAM)\n",
    "server.bind((\"192.168.19.97\", 5000))\n",
    "server.listen()\n",
    "\n",
    "\n",
    "for i in range(5):\n",
    "    client, addr = server.accept() # hand shake\n",
    "    print(addr)\n",
    "    client.send(b\"hello from user\")\n",
    "    msg = client.recv(1024)\n",
    "    print(msg)"
   ]
  },
  {
   "cell_type": "code",
   "execution_count": null,
   "metadata": {},
   "outputs": [],
   "source": [
    "# client\n",
    "client = socket.socket(socket.AF_INET, socket.SOCK_STREAM)\n",
    "client.connect((\"192.168.19.97\", 5000))\n",
    "print(client.recv(1024))\n",
    "client.send(b\"hello server\")"
   ]
  },
  {
   "cell_type": "markdown",
   "metadata": {},
   "source": [
    "Brauser"
   ]
  },
  {
   "cell_type": "code",
   "execution_count": 3,
   "metadata": {},
   "outputs": [
    {
     "name": "stdout",
     "output_type": "stream",
     "text": [
      "('192.168.19.97', 3669)\n",
      "\n",
      "('192.168.19.97', 3670)\n",
      "GET /news/minsk HTTP/1.1\n",
      "Host: 192.168.19.97:5000\n",
      "Connection: keep-alive\n",
      "Cache-Control: max-age=0\n",
      "Upgrade-Insecure-Requests: 1\n",
      "User-Agent: Mozilla/5.0 (Windows NT 10.0; WOW64) AppleWebKit/537.36 (KHTML, like Gecko) Chrome/83.0.4103.97 Safari/537.36\n",
      "Accept: text/html,application/xhtml+xml,application/xml;q=0.9,image/webp,image/apng,*/*;q=0.8,application/signed-exchange;v=b3;q=0.9\n",
      "Accept-Encoding: gzip, deflate\n",
      "Accept-Language: ru-RU,ru;q=0.9,en-US;q=0.8,en;q=0.7\n",
      "dnt: 1\n",
      "\n",
      "\n",
      "('192.168.19.97', 3672)\n",
      "GET /favicon.ico HTTP/1.1\n",
      "Host: 192.168.19.97:5000\n",
      "Connection: keep-alive\n",
      "User-Agent: Mozilla/5.0 (Windows NT 10.0; WOW64) AppleWebKit/537.36 (KHTML, like Gecko) Chrome/83.0.4103.97 Safari/537.36\n",
      "Accept: image/webp,image/apng,image/*,*/*;q=0.8\n",
      "Referer: http://192.168.19.97:5000/news/minsk\n",
      "Accept-Encoding: gzip, deflate\n",
      "Accept-Language: ru-RU,ru;q=0.9,en-US;q=0.8,en;q=0.7\n",
      "dnt: 1\n",
      "\n",
      "\n",
      "('192.168.19.55', 2564)\n",
      "GET / HTTP/1.1\n",
      "Host: 192.168.19.97:5000\n",
      "Connection: keep-alive\n",
      "Upgrade-Insecure-Requests: 1\n",
      "User-Agent: Mozilla/5.0 (Windows NT 10.0; WOW64) AppleWebKit/537.36 (KHTML, like Gecko) Chrome/83.0.4103.97 Safari/537.36\n",
      "Accept: text/html,application/xhtml+xml,application/xml;q=0.9,image/webp,image/apng,*/*;q=0.8,application/signed-exchange;v=b3;q=0.9\n",
      "Accept-Encoding: gzip, deflate\n",
      "Accept-Language: ru-RU,ru;q=0.9,en-US;q=0.8,en;q=0.7\n",
      "\n",
      "\n",
      "('192.168.19.55', 2565)\n",
      "GET /favicon.ico HTTP/1.1\n",
      "Host: 192.168.19.97:5000\n",
      "Connection: keep-alive\n",
      "User-Agent: Mozilla/5.0 (Windows NT 10.0; WOW64) AppleWebKit/537.36 (KHTML, like Gecko) Chrome/83.0.4103.97 Safari/537.36\n",
      "Accept: image/webp,image/apng,image/*,*/*;q=0.8\n",
      "Referer: http://192.168.19.97:5000/\n",
      "Accept-Encoding: gzip, deflate\n",
      "Accept-Language: ru-RU,ru;q=0.9,en-US;q=0.8,en;q=0.7\n",
      "\n",
      "\n"
     ]
    }
   ],
   "source": [
    "import socket\n",
    "# server\n",
    "server = socket.socket(socket.AF_INET, socket.SOCK_STREAM)\n",
    "server.bind((\"192.168.19.97\", 5000))\n",
    "server.listen()\n",
    "\n",
    "\n",
    "for i in range(5):\n",
    "    client, addr = server.accept()\n",
    "    print(addr)\n",
    "    msg = client.recv(2048)\n",
    "    print(msg.decode())\n",
    "    client.send(b\"HTTP/1.1 200 OK\\n\\n<h1>Hello from server</h1>\")\n",
    "    client.close()"
   ]
  },
  {
   "cell_type": "code",
   "execution_count": null,
   "metadata": {
    "scrolled": false
   },
   "outputs": [
    {
     "name": "stdout",
     "output_type": "stream",
     "text": [
      "('127.0.0.1', 3838)\n",
      "GET /favicon.ico HTTP/1.1\n",
      "Host: 6ab99e2445e6.ngrok.io\n",
      "User-Agent: Mozilla/5.0 (Windows NT 10.0; Win64; x64) AppleWebKit/537.36 (KHTML, like Gecko) Chrome/83.0.4103.97 Safari/537.36\n",
      "DNT: 1\n",
      "Accept: image/webp,image/apng,image/*,*/*;q=0.8\n",
      "Referer: http://6ab99e2445e6.ngrok.io/\n",
      "Accept-Encoding: gzip, deflate\n",
      "Accept-Language: ru-RU,ru;q=0.9,en-US;q=0.8,en;q=0.7\n",
      "X-Forwarded-For: 37.214.38.178\n",
      "\n",
      "\n",
      "('127.0.0.1', 3840)\n",
      "GET /favicon.ico HTTP/1.1\n",
      "Host: 6ab99e2445e6.ngrok.io\n",
      "User-Agent: Mozilla/5.0 (Linux; U; Android 10; ru-ru; Mi MIX 2S Build/QKQ1.190828.002) AppleWebKit/537.36 (KHTML, like Gecko) Version/4.0 Chrome/71.0.3578.141 Mobile Safari/537.36 XiaoMi/MiuiBrowser/12.2.6-g\n",
      "Accept: image/webp,image/apng,image/*,*/*;q=0.8\n",
      "Referer: http://6ab99e2445e6.ngrok.io/\n",
      "Accept-Encoding: gzip, deflate\n",
      "Accept-Language: ru-RU,en-US;q=0.9\n",
      "X-Forwarded-For: 2a02:bf0:11f:b451:3300:fa46:d6ac:10e4\n",
      "\n",
      "\n",
      "('127.0.0.1', 3842)\n",
      "GET / HTTP/1.1\n",
      "Host: 6ab99e2445e6.ngrok.io\n",
      "Cache-Control: max-age=0\n",
      "Upgrade-Insecure-Requests: 1\n",
      "User-Agent: Mozilla/5.0 (Linux; U; Android 10; ru-ru; Mi MIX 2S Build/QKQ1.190828.002) AppleWebKit/537.36 (KHTML, like Gecko) Version/4.0 Chrome/71.0.3578.141 Mobile Safari/537.36 XiaoMi/MiuiBrowser/12.2.6-g\n",
      "Accept: text/html,application/xhtml+xml,application/xml;q=0.9,image/webp,image/apng,*/*;q=0.8\n",
      "x-miorigin: app\n",
      "Accept-Encoding: gzip, deflate\n",
      "Accept-Language: ru-RU,en-US;q=0.9\n",
      "X-Forwarded-For: 2a02:bf0:11f:b451:3300:fa46:d6ac:10e4\n",
      "\n",
      "\n",
      "('127.0.0.1', 3844)\n",
      "GET /favicon.ico HTTP/1.1\n",
      "Host: 6ab99e2445e6.ngrok.io\n",
      "User-Agent: Mozilla/5.0 (Linux; U; Android 10; ru-ru; Mi MIX 2S Build/QKQ1.190828.002) AppleWebKit/537.36 (KHTML, like Gecko) Version/4.0 Chrome/71.0.3578.141 Mobile Safari/537.36 XiaoMi/MiuiBrowser/12.2.6-g\n",
      "Accept: image/webp,image/apng,image/*,*/*;q=0.8\n",
      "Referer: http://6ab99e2445e6.ngrok.io/\n",
      "Accept-Encoding: gzip, deflate\n",
      "Accept-Language: ru-RU,en-US;q=0.9\n",
      "X-Forwarded-For: 2a02:bf0:11f:b451:3300:fa46:d6ac:10e4\n",
      "\n",
      "\n",
      "('127.0.0.1', 3845)\n",
      "GET / HTTP/1.1\n",
      "Host: 6ab99e2445e6.ngrok.io\n",
      "Cache-Control: max-age=0\n",
      "DNT: 1\n",
      "Upgrade-Insecure-Requests: 1\n",
      "User-Agent: Mozilla/5.0 (Windows NT 10.0; Win64; x64) AppleWebKit/537.36 (KHTML, like Gecko) Chrome/83.0.4103.97 Safari/537.36\n",
      "Accept: text/html,application/xhtml+xml,application/xml;q=0.9,image/webp,image/apng,*/*;q=0.8,application/signed-exchange;v=b3;q=0.9\n",
      "Accept-Encoding: gzip, deflate\n",
      "Accept-Language: ru-RU,ru;q=0.9,en-US;q=0.8,en;q=0.7\n",
      "X-Forwarded-For: 37.214.38.178\n",
      "\n",
      "\n",
      "('127.0.0.1', 3846)\n",
      "GET /favicon.ico HTTP/1.1\n",
      "Host: 6ab99e2445e6.ngrok.io\n",
      "Pragma: no-cache\n",
      "Cache-Control: no-cache\n",
      "User-Agent: Mozilla/5.0 (Windows NT 10.0; Win64; x64) AppleWebKit/537.36 (KHTML, like Gecko) Chrome/83.0.4103.97 Safari/537.36\n",
      "DNT: 1\n",
      "Accept: image/webp,image/apng,image/*,*/*;q=0.8\n",
      "Referer: http://6ab99e2445e6.ngrok.io/\n",
      "Accept-Encoding: gzip, deflate\n",
      "Accept-Language: ru-RU,ru;q=0.9,en-US;q=0.8,en;q=0.7\n",
      "X-Forwarded-For: 37.214.38.178\n",
      "\n",
      "\n",
      "('127.0.0.1', 3848)\n",
      "GET / HTTP/1.1\n",
      "Host: 6ab99e2445e6.ngrok.io\n",
      "Upgrade-Insecure-Requests: 1\n",
      "User-Agent: Mozilla/5.0 (Linux; Android 9; A1 Alpha) AppleWebKit/537.36 (KHTML, like Gecko) Chrome/83.0.4103.101 Mobile Safari/537.36\n",
      "Accept: text/html,application/xhtml+xml,application/xml;q=0.9,image/webp,image/apng,*/*;q=0.8,application/signed-exchange;v=b3;q=0.9\n",
      "Referer: android-app://org.telegram.messenger/\n",
      "Accept-Encoding: gzip, deflate\n",
      "Accept-Language: ru-RU,ru;q=0.9,en-US;q=0.8,en;q=0.7\n",
      "X-Forwarded-For: 46.53.249.4\n",
      "\n",
      "\n",
      "('127.0.0.1', 3849)\n",
      "GET /favicon.ico HTTP/1.1\n",
      "Host: 6ab99e2445e6.ngrok.io\n",
      "User-Agent: Mozilla/5.0 (Linux; Android 9; A1 Alpha) AppleWebKit/537.36 (KHTML, like Gecko) Chrome/83.0.4103.101 Mobile Safari/537.36\n",
      "Accept: image/webp,image/apng,image/*,*/*;q=0.8\n",
      "Referer: http://6ab99e2445e6.ngrok.io/\n",
      "Accept-Encoding: gzip, deflate\n",
      "Accept-Language: ru-RU,ru;q=0.9,en-US;q=0.8,en;q=0.7\n",
      "X-Forwarded-For: 46.53.249.4\n",
      "\n",
      "\n",
      "('127.0.0.1', 3850)\n",
      "GET / HTTP/1.1\n",
      "Host: 6ab99e2445e6.ngrok.io\n",
      "Upgrade-Insecure-Requests: 1\n",
      "User-Agent: Mozilla/5.0 (Windows NT 10.0; Win64; x64) AppleWebKit/537.36 (KHTML, like Gecko) Chrome/83.0.4103.97 Safari/537.36\n",
      "Accept: text/html,application/xhtml+xml,application/xml;q=0.9,image/webp,image/apng,*/*;q=0.8,application/signed-exchange;v=b3;q=0.9\n",
      "Accept-Encoding: gzip, deflate\n",
      "Accept-Language: ru-RU,ru;q=0.9,en-US;q=0.8,en;q=0.7\n",
      "X-Forwarded-For: 93.84.178.86\n",
      "\n",
      "\n",
      "('127.0.0.1', 3851)\n",
      "GET /favicon.ico HTTP/1.1\n",
      "Host: 6ab99e2445e6.ngrok.io\n",
      "User-Agent: Mozilla/5.0 (Windows NT 10.0; Win64; x64) AppleWebKit/537.36 (KHTML, like Gecko) Chrome/83.0.4103.97 Safari/537.36\n",
      "Accept: image/webp,image/apng,image/*,*/*;q=0.8\n",
      "Referer: http://6ab99e2445e6.ngrok.io/\n",
      "Accept-Encoding: gzip, deflate\n",
      "Accept-Language: ru-RU,ru;q=0.9,en-US;q=0.8,en;q=0.7\n",
      "X-Forwarded-For: 93.84.178.86\n",
      "\n",
      "\n",
      "('127.0.0.1', 3853)\n",
      "GET / HTTP/1.1\n",
      "Host: 6ab99e2445e6.ngrok.io\n",
      "Cache-Control: max-age=0\n",
      "Upgrade-Insecure-Requests: 1\n",
      "User-Agent: Mozilla/5.0 (Linux; U; Android 10; ru-ru; Mi MIX 2S Build/QKQ1.190828.002) AppleWebKit/537.36 (KHTML, like Gecko) Version/4.0 Chrome/71.0.3578.141 Mobile Safari/537.36 XiaoMi/MiuiBrowser/12.2.6-g\n",
      "Accept: text/html,application/xhtml+xml,application/xml;q=0.9,image/webp,image/apng,*/*;q=0.8\n",
      "x-miorigin: app\n",
      "Accept-Encoding: gzip, deflate\n",
      "Accept-Language: ru-RU,en-US;q=0.9\n",
      "X-Forwarded-For: 2a02:bf0:11f:b451:3300:fa46:d6ac:10e4\n",
      "\n",
      "\n",
      "('127.0.0.1', 3854)\n",
      "GET /favicon.ico HTTP/1.1\n",
      "Host: 6ab99e2445e6.ngrok.io\n",
      "User-Agent: Mozilla/5.0 (Linux; U; Android 10; ru-ru; Mi MIX 2S Build/QKQ1.190828.002) AppleWebKit/537.36 (KHTML, like Gecko) Version/4.0 Chrome/71.0.3578.141 Mobile Safari/537.36 XiaoMi/MiuiBrowser/12.2.6-g\n",
      "Accept: image/webp,image/apng,image/*,*/*;q=0.8\n",
      "Referer: http://6ab99e2445e6.ngrok.io/\n",
      "Accept-Encoding: gzip, deflate\n",
      "Accept-Language: ru-RU,en-US;q=0.9\n",
      "X-Forwarded-For: 2a02:bf0:11f:b451:3300:fa46:d6ac:10e4\n",
      "\n",
      "\n",
      "('127.0.0.1', 3856)\n",
      "GET / HTTP/1.1\n",
      "Host: 6ab99e2445e6.ngrok.io\n",
      "Cache-Control: max-age=0\n",
      "DNT: 1\n",
      "Upgrade-Insecure-Requests: 1\n",
      "User-Agent: Mozilla/5.0 (Windows NT 10.0; Win64; x64) AppleWebKit/537.36 (KHTML, like Gecko) Chrome/83.0.4103.97 Safari/537.36\n",
      "Accept: text/html,application/xhtml+xml,application/xml;q=0.9,image/webp,image/apng,*/*;q=0.8,application/signed-exchange;v=b3;q=0.9\n",
      "Accept-Encoding: gzip, deflate\n",
      "Accept-Language: en-GB,en-US;q=0.9,en;q=0.8\n",
      "X-Forwarded-For: 37.215.61.167\n",
      "\n",
      "\n",
      "('127.0.0.1', 3857)\n",
      "GET /favicon.ico HTTP/1.1\n",
      "Host: 6ab99e2445e6.ngrok.io\n",
      "User-Agent: Mozilla/5.0 (Windows NT 10.0; Win64; x64) AppleWebKit/537.36 (KHTML, like Gecko) Chrome/83.0.4103.97 Safari/537.36\n",
      "DNT: 1\n",
      "Accept: image/webp,image/apng,image/*,*/*;q=0.8\n",
      "Referer: http://6ab99e2445e6.ngrok.io/\n",
      "Accept-Encoding: gzip, deflate\n",
      "Accept-Language: en-GB,en-US;q=0.9,en;q=0.8\n",
      "X-Forwarded-For: 37.215.61.167\n",
      "\n",
      "\n",
      "('127.0.0.1', 3858)\n",
      "GET / HTTP/1.1\n",
      "Host: 6ab99e2445e6.ngrok.io\n",
      "Cache-Control: max-age=0\n",
      "DNT: 1\n",
      "Upgrade-Insecure-Requests: 1\n",
      "User-Agent: Mozilla/5.0 (Windows NT 10.0; Win64; x64) AppleWebKit/537.36 (KHTML, like Gecko) Chrome/83.0.4103.97 Safari/537.36\n",
      "Accept: text/html,application/xhtml+xml,application/xml;q=0.9,image/webp,image/apng,*/*;q=0.8,application/signed-exchange;v=b3;q=0.9\n",
      "Accept-Encoding: gzip, deflate\n",
      "Accept-Language: en-GB,en-US;q=0.9,en;q=0.8\n",
      "X-Forwarded-For: 37.215.61.167\n",
      "\n",
      "\n",
      "('127.0.0.1', 3859)\n",
      "GET /favicon.ico HTTP/1.1\n",
      "Host: 6ab99e2445e6.ngrok.io\n",
      "User-Agent: Mozilla/5.0 (Windows NT 10.0; Win64; x64) AppleWebKit/537.36 (KHTML, like Gecko) Chrome/83.0.4103.97 Safari/537.36\n",
      "DNT: 1\n",
      "Accept: image/webp,image/apng,image/*,*/*;q=0.8\n",
      "Referer: http://6ab99e2445e6.ngrok.io/\n",
      "Accept-Encoding: gzip, deflate\n",
      "Accept-Language: en-GB,en-US;q=0.9,en;q=0.8\n",
      "X-Forwarded-For: 37.215.61.167\n",
      "\n",
      "\n",
      "('127.0.0.1', 3860)\n",
      "GET / HTTP/1.1\n",
      "Host: 6ab99e2445e6.ngrok.io\n",
      "Cache-Control: max-age=0\n",
      "DNT: 1\n",
      "Upgrade-Insecure-Requests: 1\n",
      "User-Agent: Mozilla/5.0 (Windows NT 10.0; Win64; x64) AppleWebKit/537.36 (KHTML, like Gecko) Chrome/83.0.4103.97 Safari/537.36\n",
      "Accept: text/html,application/xhtml+xml,application/xml;q=0.9,image/webp,image/apng,*/*;q=0.8,application/signed-exchange;v=b3;q=0.9\n",
      "Accept-Encoding: gzip, deflate\n",
      "Accept-Language: en-GB,en-US;q=0.9,en;q=0.8\n",
      "X-Forwarded-For: 37.215.61.167\n",
      "\n",
      "\n",
      "('127.0.0.1', 3861)\n",
      "GET /favicon.ico HTTP/1.1\n",
      "Host: 6ab99e2445e6.ngrok.io\n",
      "User-Agent: Mozilla/5.0 (Windows NT 10.0; Win64; x64) AppleWebKit/537.36 (KHTML, like Gecko) Chrome/83.0.4103.97 Safari/537.36\n",
      "DNT: 1\n",
      "Accept: image/webp,image/apng,image/*,*/*;q=0.8\n",
      "Referer: http://6ab99e2445e6.ngrok.io/\n",
      "Accept-Encoding: gzip, deflate\n",
      "Accept-Language: en-GB,en-US;q=0.9,en;q=0.8\n",
      "X-Forwarded-For: 37.215.61.167\n",
      "\n",
      "\n"
     ]
    },
    {
     "name": "stdout",
     "output_type": "stream",
     "text": [
      "('127.0.0.1', 3869)\n",
      "GET / HTTP/1.1\n",
      "Host: 6ab99e2445e6.ngrok.io\n",
      "Cache-Control: max-age=0\n",
      "Upgrade-Insecure-Requests: 1\n",
      "User-Agent: Mozilla/5.0 (Windows NT 10.0; Win64; x64) AppleWebKit/537.36 (KHTML, like Gecko) Chrome/83.0.4103.97 Safari/537.36\n",
      "Accept: text/html,application/xhtml+xml,application/xml;q=0.9,image/webp,image/apng,*/*;q=0.8,application/signed-exchange;v=b3;q=0.9\n",
      "Accept-Encoding: gzip, deflate\n",
      "Accept-Language: ru-RU,ru;q=0.9,en-US;q=0.8,en;q=0.7\n",
      "X-Forwarded-For: 93.84.178.86\n",
      "\n",
      "\n",
      "('127.0.0.1', 3870)\n",
      "GET /favicon.ico HTTP/1.1\n",
      "Host: 6ab99e2445e6.ngrok.io\n",
      "Pragma: no-cache\n",
      "Cache-Control: no-cache\n",
      "User-Agent: Mozilla/5.0 (Windows NT 10.0; Win64; x64) AppleWebKit/537.36 (KHTML, like Gecko) Chrome/83.0.4103.97 Safari/537.36\n",
      "Accept: image/webp,image/apng,image/*,*/*;q=0.8\n",
      "Referer: http://6ab99e2445e6.ngrok.io/\n",
      "Accept-Encoding: gzip, deflate\n",
      "Accept-Language: ru-RU,ru;q=0.9,en-US;q=0.8,en;q=0.7\n",
      "X-Forwarded-For: 93.84.178.86\n",
      "\n",
      "\n",
      "('127.0.0.1', 3872)\n",
      "GET / HTTP/1.1\n",
      "Host: 6ab99e2445e6.ngrok.io\n",
      "Cache-Control: max-age=0\n",
      "DNT: 1\n",
      "Upgrade-Insecure-Requests: 1\n",
      "User-Agent: Mozilla/5.0 (Windows NT 10.0; Win64; x64) AppleWebKit/537.36 (KHTML, like Gecko) Chrome/83.0.4103.97 Safari/537.36\n",
      "Accept: text/html,application/xhtml+xml,application/xml;q=0.9,image/webp,image/apng,*/*;q=0.8,application/signed-exchange;v=b3;q=0.9\n",
      "Accept-Encoding: gzip, deflate\n",
      "Accept-Language: en-GB,en-US;q=0.9,en;q=0.8\n",
      "X-Forwarded-For: 37.215.61.167\n",
      "\n",
      "\n",
      "('127.0.0.1', 3873)\n",
      "GET /favicon.ico HTTP/1.1\n",
      "Host: 6ab99e2445e6.ngrok.io\n",
      "User-Agent: Mozilla/5.0 (Windows NT 10.0; Win64; x64) AppleWebKit/537.36 (KHTML, like Gecko) Chrome/83.0.4103.97 Safari/537.36\n",
      "DNT: 1\n",
      "Accept: image/webp,image/apng,image/*,*/*;q=0.8\n",
      "Referer: http://6ab99e2445e6.ngrok.io/\n",
      "Accept-Encoding: gzip, deflate\n",
      "Accept-Language: en-GB,en-US;q=0.9,en;q=0.8\n",
      "X-Forwarded-For: 37.215.61.167\n",
      "\n",
      "\n"
     ]
    }
   ],
   "source": [
    "import socket\n",
    "# server\n",
    "server = socket.socket(socket.AF_INET, socket.SOCK_STREAM)\n",
    "server.bind((\"localhost\", 5000))\n",
    "server.listen()\n",
    "\n",
    "\n",
    "for i in range(50):\n",
    "    client, addr = server.accept()\n",
    "    print(addr)\n",
    "    msg = client.recv(2048)\n",
    "    print(msg.decode())\n",
    "    client.send(b\"HTTP/1.1 200 OK\\n\\n<h1>Hello from server</h1>\")\n",
    "    client.close()"
   ]
  },
  {
   "cell_type": "code",
   "execution_count": null,
   "metadata": {
    "scrolled": false
   },
   "outputs": [
    {
     "name": "stdout",
     "output_type": "stream",
     "text": [
      "('127.0.0.1', 4213)\n",
      "GET / HTTP/1.1\n",
      "Host: 21d9d5b87bbc.ngrok.io\n",
      "Cache-Control: max-age=0\n",
      "Upgrade-Insecure-Requests: 1\n",
      "User-Agent: Mozilla/5.0 (Windows NT 10.0; WOW64) AppleWebKit/537.36 (KHTML, like Gecko) Chrome/83.0.4103.97 Safari/537.36\n",
      "Accept: text/html,application/xhtml+xml,application/xml;q=0.9,image/webp,image/apng,*/*;q=0.8,application/signed-exchange;v=b3;q=0.9\n",
      "Accept-Encoding: gzip, deflate\n",
      "Accept-Language: ru-RU,ru;q=0.9,en-US;q=0.8,en;q=0.7\n",
      "dnt: 1\n",
      "X-Forwarded-For: 93.84.161.163\n",
      "\n",
      "\n",
      "('127.0.0.1', 4214)\n",
      "GET /favicon.ico HTTP/1.1\n",
      "Host: 21d9d5b87bbc.ngrok.io\n",
      "Pragma: no-cache\n",
      "Cache-Control: no-cache\n",
      "User-Agent: Mozilla/5.0 (Windows NT 10.0; WOW64) AppleWebKit/537.36 (KHTML, like Gecko) Chrome/83.0.4103.97 Safari/537.36\n",
      "Accept: image/webp,image/apng,image/*,*/*;q=0.8\n",
      "Referer: http://21d9d5b87bbc.ngrok.io/\n",
      "Accept-Encoding: gzip, deflate\n",
      "Accept-Language: ru-RU,ru;q=0.9,en-US;q=0.8,en;q=0.7\n",
      "dnt: 1\n",
      "X-Forwarded-For: 93.84.161.163\n",
      "\n",
      "\n",
      "('127.0.0.1', 4215)\n",
      "GET / HTTP/1.1\n",
      "Host: 21d9d5b87bbc.ngrok.io\n",
      "Cache-Control: max-age=0\n",
      "Upgrade-Insecure-Requests: 1\n",
      "User-Agent: Mozilla/5.0 (Windows NT 10.0; Win64; x64) AppleWebKit/537.36 (KHTML, like Gecko) Chrome/83.0.4103.97 Safari/537.36\n",
      "Accept: text/html,application/xhtml+xml,application/xml;q=0.9,image/webp,image/apng,*/*;q=0.8,application/signed-exchange;v=b3;q=0.9\n",
      "Accept-Encoding: gzip, deflate\n",
      "Accept-Language: ru-RU,ru;q=0.9,en-US;q=0.8,en;q=0.7\n",
      "X-Forwarded-For: 93.84.178.86\n",
      "\n",
      "\n",
      "('127.0.0.1', 4216)\n",
      "GET /favicon.ico HTTP/1.1\n",
      "Host: 21d9d5b87bbc.ngrok.io\n",
      "Pragma: no-cache\n",
      "Cache-Control: no-cache\n",
      "User-Agent: Mozilla/5.0 (Windows NT 10.0; Win64; x64) AppleWebKit/537.36 (KHTML, like Gecko) Chrome/83.0.4103.97 Safari/537.36\n",
      "Accept: image/webp,image/apng,image/*,*/*;q=0.8\n",
      "Referer: http://21d9d5b87bbc.ngrok.io/\n",
      "Accept-Encoding: gzip, deflate\n",
      "Accept-Language: ru-RU,ru;q=0.9,en-US;q=0.8,en;q=0.7\n",
      "X-Forwarded-For: 93.84.178.86\n",
      "\n",
      "\n",
      "('127.0.0.1', 4217)\n",
      "GET / HTTP/1.1\n",
      "Host: 21d9d5b87bbc.ngrok.io\n",
      "Cache-Control: max-age=0\n",
      "Upgrade-Insecure-Requests: 1\n",
      "User-Agent: Mozilla/5.0 (Linux; U; Android 10; ru-ru; Mi MIX 2S Build/QKQ1.190828.002) AppleWebKit/537.36 (KHTML, like Gecko) Version/4.0 Chrome/71.0.3578.141 Mobile Safari/537.36 XiaoMi/MiuiBrowser/12.2.6-g\n",
      "Accept: text/html,application/xhtml+xml,application/xml;q=0.9,image/webp,image/apng,*/*;q=0.8\n",
      "x-miorigin: app\n",
      "Accept-Encoding: gzip, deflate\n",
      "Accept-Language: ru-RU,en-US;q=0.9\n",
      "X-Forwarded-For: 2a02:bf0:11f:b451:3300:fa46:d6ac:10e4\n",
      "\n",
      "\n",
      "('127.0.0.1', 4218)\n",
      "GET /favicon.ico HTTP/1.1\n",
      "Host: 21d9d5b87bbc.ngrok.io\n",
      "User-Agent: Mozilla/5.0 (Linux; U; Android 10; ru-ru; Mi MIX 2S Build/QKQ1.190828.002) AppleWebKit/537.36 (KHTML, like Gecko) Version/4.0 Chrome/71.0.3578.141 Mobile Safari/537.36 XiaoMi/MiuiBrowser/12.2.6-g\n",
      "Accept: image/webp,image/apng,image/*,*/*;q=0.8\n",
      "Referer: http://21d9d5b87bbc.ngrok.io/\n",
      "Accept-Encoding: gzip, deflate\n",
      "Accept-Language: ru-RU,en-US;q=0.9\n",
      "X-Forwarded-For: 2a02:bf0:11f:b451:3300:fa46:d6ac:10e4\n",
      "\n",
      "\n",
      "('127.0.0.1', 4219)\n",
      "GET / HTTP/1.1\n",
      "Host: 21d9d5b87bbc.ngrok.io\n",
      "Cache-Control: max-age=0\n",
      "Upgrade-Insecure-Requests: 1\n",
      "User-Agent: Mozilla/5.0 (Linux; U; Android 10; ru-ru; Mi MIX 2S Build/QKQ1.190828.002) AppleWebKit/537.36 (KHTML, like Gecko) Version/4.0 Chrome/71.0.3578.141 Mobile Safari/537.36 XiaoMi/MiuiBrowser/12.2.6-g\n",
      "Accept: text/html,application/xhtml+xml,application/xml;q=0.9,image/webp,image/apng,*/*;q=0.8\n",
      "x-miorigin: app\n",
      "Accept-Encoding: gzip, deflate\n",
      "Accept-Language: ru-RU,en-US;q=0.9\n",
      "X-Forwarded-For: 2a02:bf0:11f:b451:3300:fa46:d6ac:10e4\n",
      "\n",
      "\n",
      "('127.0.0.1', 4220)\n",
      "GET / HTTP/1.1\n",
      "Host: 21d9d5b87bbc.ngrok.io\n",
      "Cache-Control: max-age=0\n",
      "Upgrade-Insecure-Requests: 1\n",
      "User-Agent: Mozilla/5.0 (Linux; U; Android 10; ru-ru; Mi MIX 2S Build/QKQ1.190828.002) AppleWebKit/537.36 (KHTML, like Gecko) Version/4.0 Chrome/71.0.3578.141 Mobile Safari/537.36 XiaoMi/MiuiBrowser/12.2.6-g\n",
      "Accept: text/html,application/xhtml+xml,application/xml;q=0.9,image/webp,image/apng,*/*;q=0.8\n",
      "x-miorigin: app\n",
      "Accept-Encoding: gzip, deflate\n",
      "Accept-Language: ru-RU,en-US;q=0.9\n",
      "X-Forwarded-For: 2a02:bf0:11f:b451:3300:fa46:d6ac:10e4\n",
      "\n",
      "\n",
      "('127.0.0.1', 4221)\n",
      "GET /favicon.ico HTTP/1.1\n",
      "Host: 21d9d5b87bbc.ngrok.io\n",
      "User-Agent: Mozilla/5.0 (Linux; U; Android 10; ru-ru; Mi MIX 2S Build/QKQ1.190828.002) AppleWebKit/537.36 (KHTML, like Gecko) Version/4.0 Chrome/71.0.3578.141 Mobile Safari/537.36 XiaoMi/MiuiBrowser/12.2.6-g\n",
      "Accept: image/webp,image/apng,image/*,*/*;q=0.8\n",
      "Referer: http://21d9d5b87bbc.ngrok.io/\n",
      "Accept-Encoding: gzip, deflate\n",
      "Accept-Language: ru-RU,en-US;q=0.9\n",
      "X-Forwarded-For: 2a02:bf0:11f:b451:3300:fa46:d6ac:10e4\n",
      "\n",
      "\n",
      "('127.0.0.1', 4222)\n",
      "GET / HTTP/1.1\n",
      "Host: 21d9d5b87bbc.ngrok.io\n",
      "Cache-Control: max-age=0\n",
      "Upgrade-Insecure-Requests: 1\n",
      "User-Agent: Mozilla/5.0 (Linux; U; Android 10; ru-ru; Mi MIX 2S Build/QKQ1.190828.002) AppleWebKit/537.36 (KHTML, like Gecko) Version/4.0 Chrome/71.0.3578.141 Mobile Safari/537.36 XiaoMi/MiuiBrowser/12.2.6-g\n",
      "Accept: text/html,application/xhtml+xml,application/xml;q=0.9,image/webp,image/apng,*/*;q=0.8\n",
      "x-miorigin: app\n",
      "Accept-Encoding: gzip, deflate\n",
      "Accept-Language: ru-RU,en-US;q=0.9\n",
      "X-Forwarded-For: 2a02:bf0:11f:b451:3300:fa46:d6ac:10e4\n",
      "\n",
      "\n",
      "('127.0.0.1', 4223)\n",
      "GET /favicon.ico HTTP/1.1\n",
      "Host: 21d9d5b87bbc.ngrok.io\n",
      "User-Agent: Mozilla/5.0 (Linux; U; Android 10; ru-ru; Mi MIX 2S Build/QKQ1.190828.002) AppleWebKit/537.36 (KHTML, like Gecko) Version/4.0 Chrome/71.0.3578.141 Mobile Safari/537.36 XiaoMi/MiuiBrowser/12.2.6-g\n",
      "Accept: image/webp,image/apng,image/*,*/*;q=0.8\n",
      "Referer: http://21d9d5b87bbc.ngrok.io/\n",
      "Accept-Encoding: gzip, deflate\n",
      "Accept-Language: ru-RU,en-US;q=0.9\n",
      "X-Forwarded-For: 2a02:bf0:11f:b451:3300:fa46:d6ac:10e4\n",
      "\n",
      "\n",
      "('127.0.0.1', 4224)\n",
      "GET / HTTP/1.1\n",
      "Accept: */*\n",
      "Accept-Encoding: deflate, gzip\n",
      "User-Agent: Mozilla/5.0 (compatible; vkShare; +http://vk.com/dev/Share)\n",
      "Accept-Language: ru-RU,ru;q=0.8,en-US;q=0.6,en;q=0.4\n",
      "Host: 21d9d5b87bbc.ngrok.io\n",
      "Cache-Control: max-age=259200\n",
      "X-Forwarded-For: 195.211.23.206\n",
      "\n",
      "\n",
      "('127.0.0.1', 4225)\n",
      "GET /favicon.ico HTTP/1.1\n",
      "Accept: */*\n",
      "Accept-Encoding: deflate, gzip\n",
      "User-Agent: Mozilla/5.0 (compatible; vkShare; +http://vk.com/dev/Share)\n",
      "Accept-Language: ru-RU,ru;q=0.8,en-US;q=0.6,en;q=0.4\n",
      "Host: 21d9d5b87bbc.ngrok.io\n",
      "Cache-Control: max-age=259200\n",
      "X-Forwarded-For: 195.211.23.207\n",
      "\n",
      "\n",
      "('127.0.0.1', 4245)\n",
      "GET / HTTP/1.1\n",
      "Host: 21d9d5b87bbc.ngrok.io\n",
      "Upgrade-Insecure-Requests: 1\n",
      "User-Agent: Mozilla/5.0 (Windows NT 10.0; WOW64) AppleWebKit/537.36 (KHTML, like Gecko) Chrome/83.0.4103.97 Safari/537.36\n",
      "Accept: text/html,application/xhtml+xml,application/xml;q=0.9,image/webp,image/apng,*/*;q=0.8,application/signed-exchange;v=b3;q=0.9\n",
      "Referer: http://away.vk.com/\n",
      "Accept-Encoding: gzip, deflate\n",
      "Accept-Language: ru-RU,ru;q=0.9,en-US;q=0.8,en;q=0.7\n",
      "X-Forwarded-For: 93.84.161.163\n",
      "\n",
      "\n",
      "('127.0.0.1', 4246)\n",
      "GET /favicon.ico HTTP/1.1\n",
      "Host: 21d9d5b87bbc.ngrok.io\n",
      "User-Agent: Mozilla/5.0 (Windows NT 10.0; WOW64) AppleWebKit/537.36 (KHTML, like Gecko) Chrome/83.0.4103.97 Safari/537.36\n",
      "Accept: image/webp,image/apng,image/*,*/*;q=0.8\n",
      "Referer: http://21d9d5b87bbc.ngrok.io/\n",
      "Accept-Encoding: gzip, deflate\n",
      "Accept-Language: ru-RU,ru;q=0.9,en-US;q=0.8,en;q=0.7\n",
      "X-Forwarded-For: 93.84.161.163\n",
      "\n",
      "\n"
     ]
    }
   ],
   "source": [
    "import socket\n",
    "# server\n",
    "server = socket.socket(socket.AF_INET, socket.SOCK_STREAM)\n",
    "server.bind((\"localhost\", 5000))\n",
    "server.listen()\n",
    "\n",
    "\n",
    "for i in range(50):\n",
    "    client, addr = server.accept()\n",
    "    print(addr)\n",
    "    msg = client.recv(2048)\n",
    "    print(msg.decode())\n",
    "    client.send(b\"\"\"HTTP/1.1 200 OK\\n\n",
    "    <html>\n",
    "        <head>\n",
    "            <title> hello title </title>\n",
    "        </head>\n",
    "        <body>\n",
    "            <h1>hello from Server</h1>\n",
    "            <label for=\"name\">your name</label><br>\n",
    "            <input type=\"text\" id=\"name\" name=\"name\">\n",
    "        </body>\n",
    "    </html>\"\"\")\n",
    "    client.close()   # ngrock.exe http 5000"
   ]
  },
  {
   "cell_type": "code",
   "execution_count": null,
   "metadata": {},
   "outputs": [
    {
     "name": "stdout",
     "output_type": "stream",
     "text": [
      "('127.0.0.1', 4658)\n",
      "GET / HTTP/1.1\n",
      "Host: 52d5d955214c.ngrok.io\n",
      "Cache-Control: max-age=0\n",
      "Upgrade-Insecure-Requests: 1\n",
      "User-Agent: Mozilla/5.0 (Windows NT 10.0; WOW64) AppleWebKit/537.36 (KHTML, like Gecko) Chrome/83.0.4103.97 Safari/537.36\n",
      "Accept: text/html,application/xhtml+xml,application/xml;q=0.9,image/webp,image/apng,*/*;q=0.8,application/signed-exchange;v=b3;q=0.9\n",
      "Accept-Encoding: gzip, deflate\n",
      "Accept-Language: ru-RU,ru;q=0.9,en-US;q=0.8,en;q=0.7\n",
      "dnt: 1\n",
      "X-Forwarded-For: 93.84.161.163\n",
      "\n",
      "\n",
      "('127.0.0.1', 4661)\n",
      "GET /favicon.ico HTTP/1.1\n",
      "Host: 52d5d955214c.ngrok.io\n",
      "Pragma: no-cache\n",
      "Cache-Control: no-cache\n",
      "User-Agent: Mozilla/5.0 (Windows NT 10.0; WOW64) AppleWebKit/537.36 (KHTML, like Gecko) Chrome/83.0.4103.97 Safari/537.36\n",
      "Accept: image/webp,image/apng,image/*,*/*;q=0.8\n",
      "Referer: http://52d5d955214c.ngrok.io/\n",
      "Accept-Encoding: gzip, deflate\n",
      "Accept-Language: ru-RU,ru;q=0.9,en-US;q=0.8,en;q=0.7\n",
      "dnt: 1\n",
      "X-Forwarded-For: 93.84.161.163\n",
      "\n",
      "\n"
     ]
    }
   ],
   "source": [
    "import socket\n",
    "# server\n",
    "server = socket.socket(socket.AF_INET, socket.SOCK_STREAM)\n",
    "server.bind((\"localhost\", 5000))\n",
    "server.listen()\n",
    "\n",
    "\n",
    "for i in range(50):\n",
    "    client, addr = server.accept()\n",
    "    print(addr)\n",
    "    msg = client.recv(2048)\n",
    "    print(msg.decode())\n",
    "    client.send(b\"\"\"HTTP/1.1 200 OK\\n\n",
    "    <html>\n",
    "        <head>\n",
    "            <title> hello title </title>\n",
    "            <link rel=\"stylesheet\" href=\"https://maxcdn.bootstrapcdn.com/bootstrap/4.5.0/css/bootstrap.min.css\">\n",
    "        </head>\n",
    "        <body>\n",
    "            <div class=\"container\">\n",
    "                <h1>hello from Server</h1>\n",
    "                <label for=\"name\">your name</label><br>\n",
    "                <input type=\"text\" id=\"name\" name=\"name\">\n",
    "                <button class=\"btn btn-primary\" disabled>\n",
    "                  <span class=\"spinner-grow spinner-grow-sm\"></span>\n",
    "                      Loading..\n",
    "                </button>\n",
    "                <div class=\"form-group\">\n",
    "                  <label for=\"usr\">Name:</label>\n",
    "                  <input type=\"text\" class=\"form-control\" id=\"usr\">\n",
    "                </div>\n",
    "                <div class=\"form-group\">\n",
    "                  <label for=\"pwd\">Password:</label>\n",
    "                  <input type=\"password\" class=\"form-control\" id=\"pwd\">\n",
    "                </div>\n",
    "            </div>\n",
    "        </body>\n",
    "    </html>\"\"\")\n",
    "    client.close()   # ngrock.exe http 5000 \n",
    "    # https://www.w3schools.com/bootstrap4/bootstrap_forms_inputs.asp"
   ]
  },
  {
   "cell_type": "markdown",
   "metadata": {},
   "source": [
    "---"
   ]
  },
  {
   "cell_type": "code",
   "execution_count": 1,
   "metadata": {},
   "outputs": [],
   "source": [
    "from requests import get\n",
    "from bs4 import BeautifulSoup"
   ]
  },
  {
   "cell_type": "code",
   "execution_count": 4,
   "metadata": {},
   "outputs": [
    {
     "data": {
      "text/plain": [
       "<Response [200]>"
      ]
     },
     "execution_count": 4,
     "metadata": {},
     "output_type": "execute_result"
    }
   ],
   "source": [
    "res = get(\"https://kinogo.by\")\n",
    "res"
   ]
  },
  {
   "cell_type": "code",
   "execution_count": 7,
   "metadata": {},
   "outputs": [],
   "source": [
    " soup = BeautifulSoup(res.text)"
   ]
  },
  {
   "cell_type": "code",
   "execution_count": 10,
   "metadata": {},
   "outputs": [
    {
     "data": {
      "text/plain": [
       "'Аванпост (2019) '"
      ]
     },
     "execution_count": 10,
     "metadata": {},
     "output_type": "execute_result"
    }
   ],
   "source": [
    "soup.find(\"h2\", {\"class\":\"zagolovki\"}).text"
   ]
  },
  {
   "cell_type": "code",
   "execution_count": 12,
   "metadata": {},
   "outputs": [
    {
     "name": "stdout",
     "output_type": "stream",
     "text": [
      "Аванпост (2019) \n",
      "Эвакуация (2020) \n",
      "Спутник (2020) \n",
      "Семья Уиллоби (2020) \n",
      "Под водой (2020) \n",
      "Соник в кино (2020) \n",
      "Гретель и Гензель (2020) \n",
      "Лёд 2 (2020) \n",
      "Вперёд (2020) \n",
      "Хищные птицы (2020) \n",
      "Яга. Кошмар тёмного леса (2020) \n",
      "Джентльмены (2020) \n"
     ]
    }
   ],
   "source": [
    "for item in soup.find_all(\"h2\", {\"class\":\"zagolovki\"}):\n",
    "    print(item.text)"
   ]
  },
  {
   "cell_type": "code",
   "execution_count": 21,
   "metadata": {},
   "outputs": [
    {
     "name": "stdout",
     "output_type": "stream",
     "text": [
      "https://kinogo.by/uploads/cache/2/9/6/c/2/1/1/4/d/1575209813-39078604-avanpost-KINOGO_BY-200x300.jpg\n"
     ]
    }
   ],
   "source": [
    "main_url = \"https://kinogo.by\"\n",
    "url = main_url + soup.find(\"div\", {\"class\":\"overlaytumb\"}).find(\"img\").get(\"src\")\n",
    "print(url)"
   ]
  },
  {
   "cell_type": "code",
   "execution_count": 23,
   "metadata": {},
   "outputs": [],
   "source": [
    "img = get(url)\n",
    "with open(\"new_img.jpg\", \"wb\") as file:\n",
    "    file.write(img.content)"
   ]
  },
  {
   "cell_type": "markdown",
   "metadata": {},
   "source": [
    "---"
   ]
  },
  {
   "cell_type": "code",
   "execution_count": 30,
   "metadata": {},
   "outputs": [],
   "source": [
    "main_url = \"https://kinogo.by\"\n",
    "result = []\n",
    "for item in soup.find_all(\"div\", {\"class\":\"overlaytumb\"}):\n",
    "    url = main_url + item.find(\"img\").get(\"src\")\n",
    "    result.append(url)"
   ]
  },
  {
   "cell_type": "code",
   "execution_count": 33,
   "metadata": {},
   "outputs": [],
   "source": [
    "import os\n",
    "name_dir = \"img_folder\"\n",
    "if not os.path.exists(name_dir):\n",
    "    os.makedirs(name_dir)"
   ]
  },
  {
   "cell_type": "code",
   "execution_count": 38,
   "metadata": {},
   "outputs": [],
   "source": [
    "for url in result:\n",
    "    name = url.split(\"/\")[-1]\n",
    "    with open(f\"{name_dir}/{name}\", \"wb\") as file:\n",
    "        img = get(url)\n",
    "        file.write(img.content)"
   ]
  },
  {
   "cell_type": "markdown",
   "metadata": {},
   "source": [
    "---"
   ]
  },
  {
   "cell_type": "code",
   "execution_count": 43,
   "metadata": {},
   "outputs": [
    {
     "data": {
      "text/plain": [
       "[<div id=\"news-id-22475\" style=\"display:inline;\">В недалеком будущем что-то произошло. Связь с большей частью населенных пунктов Земли оборвалась. Космонавты передали с орбиты, что видят сверху небольшое пятно в Восточной Европе, по своим очертаниям напоминающее круг. То, что военные находят за границей этого круга, шокирует. В магазинах, в автомобилях, на дорогах, в зданиях больниц и вокзалов, повсюду - следы столкновений. Кто или что уничтожает все живое? И как долго продержится последний аванпост человечества?</div>]"
      ]
     },
     "execution_count": 43,
     "metadata": {},
     "output_type": "execute_result"
    }
   ],
   "source": [
    "soup.find_all(\"div\", {'id':'news-id-22475'})"
   ]
  },
  {
   "cell_type": "code",
   "execution_count": 50,
   "metadata": {},
   "outputs": [
    {
     "data": {
      "text/plain": [
       "'В недалеком будущем что-то произошло. Связь с большей частью населенных пунктов Земли оборвалась. Космонавты передали с орбиты, что видят сверху небольшое пятно в Восточной Европе, по своим очертаниям напоминающее круг. То, что военные находят за границей этого круга, шокирует. В магазинах, в автомобилях, на дорогах, в зданиях больниц и вокзалов, повсюду - следы столкновений. Кто или что уничтожает все живое? И как долго продержится последний аванпост человечества?'"
      ]
     },
     "execution_count": 50,
     "metadata": {},
     "output_type": "execute_result"
    }
   ],
   "source": [
    "soup.find(\"div\",{\"class\":\"shortimg\"}).find_all(\"div\")[-1].text"
   ]
  },
  {
   "cell_type": "code",
   "execution_count": 53,
   "metadata": {
    "collapsed": true
   },
   "outputs": [
    {
     "name": "stdout",
     "output_type": "stream",
     "text": [
      "В недалеком будущем что-то произошло. Связь с большей частью населенных пунктов Земли оборвалась. Космонавты передали с орбиты, что видят сверху небольшое пятно в Восточной Европе, по своим очертаниям напоминающее круг. То, что военные находят за границей этого круга, шокирует. В магазинах, в автомобилях, на дорогах, в зданиях больниц и вокзалов, повсюду - следы столкновений. Кто или что уничтожает все живое? И как долго продержится последний аванпост человечества?\n",
      "\n",
      "В преступном мире с новой силой разгорается противостояние между конкурирующими группировками наркоторговцев, а сын могущественного криминального босса из Индии становится разменной монетой в этой жестокой войне. Похищенный врагами отца, мальчик содержится в неприступном месте в Дакке, столице Бангладеша, охраняемый многочисленными охранниками. Операцию по спасению заложника поручают Тайлеру Рейку — бесстрашному наемнику, которому нечего терять. Полагаясь на удачу, опыт и профессиональные навыки, Тайлер отправляется в самое\n",
      "\n",
      "СССР, 1983 год. На землю возвращается советский космический аппарат, страна празднует новый триумф отечественной космонавтики. Но от людей скрывают, что из двух космонавтов живым возвращается только один. Что произошло на борту остается неясным, выжившего помещают в секретную лабораторию для выяснения деталей. Факты указывают на то, что космонавт столкнулся в полете с новой формой жизни и вернулся на землю не один… Спецслужбы просят о помощи нейрофизиолога Татьяну Климову, которой предстоит разгадать загадку случившегося на\n",
      "\n",
      "Четверо детишек семейки Уиллоби в один момент остаются без какого-либо присмотра своих родителей. Сами отец и мать решают отдохнуть уезжая в другую страну. Главным героям приходиться приспособиться к современному миру, они уже взрослеют и пора задуматься о собственной семьи. Действующее лицо является мечтателем и он еще не думает о каком-то быте. Он хотел бы уехать в путешествие по планете и посмотреть какие-то популярные достопримечательства. Судьба для него подготовила подарок, ведь заказчики подумали, что он ученый\n",
      "\n",
      "Команда учёных отправилась на новенькую научную базу для изучения тайн мирового океана. Эта база находится под водой на глубине тринадцати километров и за девять километров от суши. В течение месяца команда учёных будет здесь заперта. Кажется, что под водой им должно быть скучно, ведь там слишком спокойно, слишком умиротворённо. Целый месяц ничего не происходит, а единственное занятие - лишь работа. Но тайны водных глубин на самом деле куда загадочнее и опасней чем многим кажется. Скоро подводные учёные в этом убедятся,\n",
      "\n",
      "В центре внимания оказывается Соник Икс, у которого есть весьма занимательные товарищи: остроумный лис Тейлз, ежиха Эми, не представляющая свою жизнь без любви, милая крольчиха Крим и множество других, не менее интересных персонажей. Главному герою анимационной ленты необходимо вступить в противостояние с доктором Эггманом, намеревающимся взять под контроль весь мир. Для этого злодею нужно добыть Изумруды Хаоса, за которыми он сейчас охотится. Сонику и его соратникам нужно опередить Эггмана и найти Изумруды раньше, чем это\n",
      "\n",
      "Когда-то давно в одной европейской деревне наступил финансовый кризис. Работы нигде нет, денег нет, а цены на хлеб взлетели до небес. Гретель и Гензель - юные сестра и брат что решили отправиться в лес искать работу и пропитание. Мать их очень не хотела отпускать, а отец наоборот, обрадовался, что нахлебников станет меньше. Шли брат с сестрой долго пока не зашли в такую глубину леса, в которой не были никогда. Они очень проголодались, ведь злобный отец дал им лишь несколько крошек хлеба с собой в дорогу. Но неожиданно\n",
      "\n",
      "Ещё в детстве у Нади появилась заветная мечта – она фантазировала о том, как однажды надет коньки и покорит лёд перед многотысячной толпой. Когда героиня отечественного фильма повзрослела, ей всё-таки удалось воплотить грёзы в реальность – теперь Надя искусная фигуристка, приковывающая к себе сотни глаз во время своих выступлений. Однажды в жизни девушки произошла трагедия – получив травму, она потеряла возможность выходить на лёд. Но у судьбы на её счёт другие планы: неожиданно появившийся в жизни Нади парень по имени\n",
      "\n",
      "События мультфильма переносят нас в мир, населенный мистическими существами. Когда все его обитатели могли пользоваться магией, но изучение обращению с заклинаниями было настолько непростым, что в конечном итоге феи, эльфы, русалки и прочие существа решили пойти путём развития прогресса. Теперь здесь существуют автомобили, телефоны и самолёты, но практически не осталось магии. Когда Ян и Барли Лайтфут получают письмо своего погибшего отца, в котором он призывает их найти заклинание, способное на сутки вернуть его к жизни,\n",
      "\n",
      "Действие фантастического фильма «Хищные птицы», основанного на одноименных комиксах компании DC, начинается сразу же после событий, показанных в картине «Отряд Самоубийц». Главный защитник Готэма, Бэтмен, внезапно исчезает, оставляя Готэм-Сити незащищенным от преступлений. Это позволяет некоторым криминальным элементам начать устраивать насилие над обычными людьми и другими преступниками. Разворачивается борьба за власть в преступном мире. Одновременно с этим Харли Куинн покидает Джокера. Когда-то она была успешным\n",
      "\n",
      "В центре сюжета - молодая семья, которая переехала в новую квартиру на окраине города. Нанятая ими для новорожденной дочери няня быстро вошла в доверие. Однако старший мальчик, Егор, рассказывает о пугающем поведении женщины, но родители ему не верят. Камеры наблюдения, установленные отцом для успокоения, лишь подтверждают - всё в порядке. И вот однажды Егор, вернувшись домой, не находит никаких следов ни няни, ни маленькой сестры, а родители пребывают в странном трансе и даже не помнят, что у них была дочь. Тогда Егор\n",
      "\n",
      "Главный герой данной увлекательной криминальной кинокартины – молодой обаятельный парень, недавно окончивший учебу в Оксфорде. Он талантлив и имеет хорошее логическое мышление и харизму. Парнишка начал разрабатывать подробный план действий для добывания денег и обогащения. Обладая твердой целеустремленностью, дерзостью и самоуверенностью он был уверен, что сможет достичь желаемого положительного результата и готов был ради этого пойти на всё. Юноша смог разработать уникальную схему получения хороших денег при помощи\n",
      "\n"
     ]
    }
   ],
   "source": [
    "for elem in soup.find_all(\"div\",{\"class\":\"shortimg\"}):\n",
    "    print(elem.find_all(\"div\")[-1].text)\n",
    "    print()"
   ]
  },
  {
   "cell_type": "markdown",
   "metadata": {},
   "source": [
    "---"
   ]
  },
  {
   "cell_type": "code",
   "execution_count": null,
   "metadata": {},
   "outputs": [],
   "source": [
    "Black Box (str, int -> list)\n",
    "('Hello World', 3) -> ['Hel', 'loW', 'orl', 'd']\n",
    "('The Truth is out there', 6) -> ['TheTru', 'thisou', 'tthere']\n",
    "('Beautiful', 2) -> ['Be', 'au', 'ti', 'fu', 'l']"
   ]
  },
  {
   "cell_type": "code",
   "execution_count": 56,
   "metadata": {},
   "outputs": [
    {
     "data": {
      "text/plain": [
       "['TheTru', 'thisou', 'tthere']"
      ]
     },
     "execution_count": 56,
     "metadata": {},
     "output_type": "execute_result"
    }
   ],
   "source": [
    "def f(row:str, count:int) -> list:\n",
    "    result = []\n",
    "    row = row.replace(\" \", \"\")\n",
    "    length = len(row)\n",
    "    for i in range(0, length, count):\n",
    "        result.append(row[i:i + count])\n",
    "    return result\n",
    "\n",
    "f('The Truth is out there', 6)"
   ]
  },
  {
   "cell_type": "code",
   "execution_count": 57,
   "metadata": {},
   "outputs": [],
   "source": [
    "row = \"hello world\""
   ]
  },
  {
   "cell_type": "code",
   "execution_count": 62,
   "metadata": {},
   "outputs": [
    {
     "data": {
      "text/plain": [
       "9"
      ]
     },
     "execution_count": 62,
     "metadata": {},
     "output_type": "execute_result"
    }
   ],
   "source": [
    "row.index(\"l\", 4)"
   ]
  },
  {
   "cell_type": "code",
   "execution_count": 70,
   "metadata": {},
   "outputs": [
    {
     "data": {
      "text/plain": [
       "3"
      ]
     },
     "execution_count": 70,
     "metadata": {},
     "output_type": "execute_result"
    }
   ],
   "source": [
    "def f(row, letter):\n",
    "    index = row.find(letter)\n",
    "    out = row.find(letter, index + 1)\n",
    "    return out if out != -1 else None\n",
    "\n",
    "f('hello world', 'l')"
   ]
  },
  {
   "cell_type": "code",
   "execution_count": null,
   "metadata": {},
   "outputs": [],
   "source": [
    "Black Box (str -> str)\n",
    "As soon as possible -> ASAP\n",
    "высшее учебное заведение -> ВУЗ\n",
    "Frequently asked questions -> FAQ"
   ]
  },
  {
   "cell_type": "code",
   "execution_count": null,
   "metadata": {},
   "outputs": [],
   "source": [
    "def f(row):\n",
    "    row = row.upper().split()\n",
    "    return \"\".join([i[0] for i in row])"
   ]
  }
 ],
 "metadata": {
  "kernelspec": {
   "display_name": "Python 3",
   "language": "python",
   "name": "python3"
  },
  "language_info": {
   "codemirror_mode": {
    "name": "ipython",
    "version": 3
   },
   "file_extension": ".py",
   "mimetype": "text/x-python",
   "name": "python",
   "nbconvert_exporter": "python",
   "pygments_lexer": "ipython3",
   "version": "3.7.3"
  }
 },
 "nbformat": 4,
 "nbformat_minor": 2
}
