{
 "cells": [
  {
   "cell_type": "markdown",
   "metadata": {},
   "source": [
    "Наследование\n",
    "==="
   ]
  },
  {
   "cell_type": "code",
   "execution_count": 8,
   "metadata": {},
   "outputs": [],
   "source": [
    "class Cat:\n",
    "    name = \"Tom\"\n",
    "    addr = \"Minsk\"\n",
    "\n",
    "\n",
    "class Tiger(Cat):\n",
    "    lines = 45\n",
    "\n",
    "class Puma(Cat):\n",
    "    color = \"black\""
   ]
  },
  {
   "cell_type": "code",
   "execution_count": 2,
   "metadata": {},
   "outputs": [],
   "source": [
    "t = Tiger()"
   ]
  },
  {
   "cell_type": "code",
   "execution_count": 6,
   "metadata": {},
   "outputs": [
    {
     "data": {
      "text/plain": [
       "45"
      ]
     },
     "execution_count": 6,
     "metadata": {},
     "output_type": "execute_result"
    }
   ],
   "source": [
    "t.lines"
   ]
  },
  {
   "cell_type": "code",
   "execution_count": 9,
   "metadata": {},
   "outputs": [
    {
     "data": {
      "text/plain": [
       "'Minsk'"
      ]
     },
     "execution_count": 9,
     "metadata": {},
     "output_type": "execute_result"
    }
   ],
   "source": [
    "p = Puma()\n",
    "p.color\n",
    "p.addr"
   ]
  },
  {
   "cell_type": "markdown",
   "metadata": {},
   "source": [
    "---"
   ]
  },
  {
   "cell_type": "code",
   "execution_count": 32,
   "metadata": {},
   "outputs": [],
   "source": [
    "class Cat:\n",
    "    def __init__(self):\n",
    "#         print(\"init\")\n",
    "        self.name = \"Tom\"\n",
    "    \n",
    "    def meow(self):\n",
    "        return \"cat's meow\"\n",
    "        \n",
    "class Tiger(Cat):\n",
    "    def __init__(self):\n",
    "        super(Tiger, self).__init__()\n",
    "        self.lines = 34\n",
    "    \n",
    "    def meow(self):\n",
    "        pm = super(Tiger, self).meow()\n",
    "        return f\"{pm} tiger's meow\""
   ]
  },
  {
   "cell_type": "code",
   "execution_count": 33,
   "metadata": {},
   "outputs": [
    {
     "data": {
      "text/plain": [
       "\"cat's meow\""
      ]
     },
     "execution_count": 33,
     "metadata": {},
     "output_type": "execute_result"
    }
   ],
   "source": [
    "c = Cat()\n",
    "c.meow()"
   ]
  },
  {
   "cell_type": "code",
   "execution_count": 34,
   "metadata": {},
   "outputs": [
    {
     "data": {
      "text/plain": [
       "('Tom', 34, \"cat's meow tiger's meow\")"
      ]
     },
     "execution_count": 34,
     "metadata": {},
     "output_type": "execute_result"
    }
   ],
   "source": [
    "t = Tiger()\n",
    "t.name, t.lines, t.meow()"
   ]
  },
  {
   "cell_type": "markdown",
   "metadata": {},
   "source": [
    "---"
   ]
  },
  {
   "cell_type": "code",
   "execution_count": 37,
   "metadata": {},
   "outputs": [],
   "source": [
    "class Cat:\n",
    "    def __init__(self, name):\n",
    "        self.name = name\n",
    "    \n",
    "    def meow(self):\n",
    "        return \"cat's meow\"\n",
    "        \n",
    "class Tiger(Cat):\n",
    "    def __init__(self, name):\n",
    "        super(Tiger, self).__init__(name)\n",
    "        self.lines = 34\n",
    "    \n",
    "    def meow(self):\n",
    "        pm = super(Tiger, self).meow()\n",
    "        return f\"{pm} tiger's meow\""
   ]
  },
  {
   "cell_type": "code",
   "execution_count": 39,
   "metadata": {},
   "outputs": [
    {
     "data": {
      "text/plain": [
       "'Shram'"
      ]
     },
     "execution_count": 39,
     "metadata": {},
     "output_type": "execute_result"
    }
   ],
   "source": [
    "t = Tiger(\"Shram\")\n",
    "t.name"
   ]
  },
  {
   "cell_type": "code",
   "execution_count": null,
   "metadata": {},
   "outputs": [],
   "source": [
    "Shimpanze -> Avstralopitek -> OldHuman -> Kroman"
   ]
  },
  {
   "cell_type": "code",
   "execution_count": 40,
   "metadata": {},
   "outputs": [],
   "source": [
    "class Shimpanze:\n",
    "    def __init__(self, name):\n",
    "        self.name = name\n",
    "\n",
    "class Avstralopitek(Shimpanze):\n",
    "    def __init__(self, name, addr):\n",
    "        super(Avstralopitek, self).__init__(name)\n",
    "        self.addr = addr\n",
    "\n",
    "class OldHuman(Avstralopitek):\n",
    "    def __init__(self, name, addr):\n",
    "        super(OldHuman, self).__init__(name, addr)\n",
    "        self.walk_stre = True\n",
    "\n",
    "class Kroman(OldHuman):\n",
    "    def __init__(self, name, addr, tool):\n",
    "        super(Kroman, self).__init__(name, addr)\n",
    "        self.tool = tool"
   ]
  },
  {
   "cell_type": "code",
   "execution_count": 41,
   "metadata": {},
   "outputs": [],
   "source": [
    "k = Kroman(\"Ivan\", \"Minsk\", \"palka\")"
   ]
  },
  {
   "cell_type": "code",
   "execution_count": 42,
   "metadata": {},
   "outputs": [
    {
     "data": {
      "text/plain": [
       "True"
      ]
     },
     "execution_count": 42,
     "metadata": {},
     "output_type": "execute_result"
    }
   ],
   "source": [
    "k.walk_stre"
   ]
  },
  {
   "cell_type": "code",
   "execution_count": 43,
   "metadata": {},
   "outputs": [
    {
     "data": {
      "text/plain": [
       "True"
      ]
     },
     "execution_count": 43,
     "metadata": {},
     "output_type": "execute_result"
    }
   ],
   "source": [
    "issubclass(Kroman, OldHuman)"
   ]
  },
  {
   "cell_type": "code",
   "execution_count": 44,
   "metadata": {},
   "outputs": [
    {
     "data": {
      "text/plain": [
       "False"
      ]
     },
     "execution_count": 44,
     "metadata": {},
     "output_type": "execute_result"
    }
   ],
   "source": [
    "issubclass(OldHuman, Kroman)"
   ]
  },
  {
   "cell_type": "code",
   "execution_count": 46,
   "metadata": {},
   "outputs": [
    {
     "data": {
      "text/plain": [
       "True"
      ]
     },
     "execution_count": 46,
     "metadata": {},
     "output_type": "execute_result"
    }
   ],
   "source": [
    "isinstance(k, Kroman)"
   ]
  },
  {
   "cell_type": "code",
   "execution_count": 47,
   "metadata": {},
   "outputs": [
    {
     "data": {
      "text/plain": [
       "False"
      ]
     },
     "execution_count": 47,
     "metadata": {},
     "output_type": "execute_result"
    }
   ],
   "source": [
    "isinstance(5, Kroman)"
   ]
  },
  {
   "cell_type": "markdown",
   "metadata": {},
   "source": [
    "---"
   ]
  },
  {
   "cell_type": "code",
   "execution_count": 63,
   "metadata": {},
   "outputs": [],
   "source": [
    "from abc import ABC, abstractmethod \n",
    "\n",
    "class BaseWindow(ABC):\n",
    "    @abstractmethod\n",
    "    def close_button(self):\n",
    "        pass\n",
    "    \n",
    "    @abstractmethod\n",
    "    def upscale(self):\n",
    "        pass"
   ]
  },
  {
   "cell_type": "code",
   "execution_count": 49,
   "metadata": {},
   "outputs": [
    {
     "ename": "TypeError",
     "evalue": "Can't instantiate abstract class BaseWindow with abstract methods close_button",
     "output_type": "error",
     "traceback": [
      "\u001b[1;31m---------------------------------------------------------------------------\u001b[0m",
      "\u001b[1;31mTypeError\u001b[0m                                 Traceback (most recent call last)",
      "\u001b[1;32m<ipython-input-49-ce827efce6e5>\u001b[0m in \u001b[0;36m<module>\u001b[1;34m\u001b[0m\n\u001b[1;32m----> 1\u001b[1;33m \u001b[0mBaseWindow\u001b[0m\u001b[1;33m(\u001b[0m\u001b[1;33m)\u001b[0m\u001b[1;33m\u001b[0m\u001b[1;33m\u001b[0m\u001b[0m\n\u001b[0m",
      "\u001b[1;31mTypeError\u001b[0m: Can't instantiate abstract class BaseWindow with abstract methods close_button"
     ]
    }
   ],
   "source": [
    "BaseWindow()"
   ]
  },
  {
   "cell_type": "code",
   "execution_count": 66,
   "metadata": {},
   "outputs": [],
   "source": [
    "class DesctopWindow(BaseWindow):\n",
    "    def close_button(self):\n",
    "        return \"this button clossed Desctop\"\n",
    "    \n",
    "    def upscale(self):\n",
    "        return \"upscale Desctop window\""
   ]
  },
  {
   "cell_type": "code",
   "execution_count": 67,
   "metadata": {},
   "outputs": [
    {
     "data": {
      "text/plain": [
       "<__main__.DesctopWindow at 0x19afc39f668>"
      ]
     },
     "execution_count": 67,
     "metadata": {},
     "output_type": "execute_result"
    }
   ],
   "source": [
    "DesctopWindow()"
   ]
  },
  {
   "cell_type": "code",
   "execution_count": 68,
   "metadata": {},
   "outputs": [],
   "source": [
    "class WebWindow(BaseWindow):\n",
    "    def close_button(self):\n",
    "        return \"web window clossed\"\n",
    "    \n",
    "    def upscale(self):\n",
    "        return \"upscale Web Window\""
   ]
  },
  {
   "cell_type": "code",
   "execution_count": 69,
   "metadata": {},
   "outputs": [
    {
     "data": {
      "text/plain": [
       "<__main__.WebWindow at 0x19afc38eb00>"
      ]
     },
     "execution_count": 69,
     "metadata": {},
     "output_type": "execute_result"
    }
   ],
   "source": [
    "WebWindow()"
   ]
  },
  {
   "cell_type": "code",
   "execution_count": 71,
   "metadata": {},
   "outputs": [
    {
     "name": "stdout",
     "output_type": "stream",
     "text": [
      "upscale Web Window\n",
      "web window clossed\n",
      "\n",
      "upscale Desctop window\n",
      "this button clossed\n"
     ]
    }
   ],
   "source": [
    "def OS(win):\n",
    "    print(win.upscale())\n",
    "    print(win.close_button())\n",
    "    \n",
    "OS(WebWindow())\n",
    "print()\n",
    "OS(DesctopWindow())"
   ]
  },
  {
   "cell_type": "code",
   "execution_count": 72,
   "metadata": {},
   "outputs": [
    {
     "ename": "AttributeError",
     "evalue": "'WrongWindow' object has no attribute 'upscale'",
     "output_type": "error",
     "traceback": [
      "\u001b[1;31m---------------------------------------------------------------------------\u001b[0m",
      "\u001b[1;31mAttributeError\u001b[0m                            Traceback (most recent call last)",
      "\u001b[1;32m<ipython-input-72-398da17b90e7>\u001b[0m in \u001b[0;36m<module>\u001b[1;34m\u001b[0m\n\u001b[0;32m      6\u001b[0m         \u001b[1;32mreturn\u001b[0m \u001b[1;34m\"uscale wrong window\"\u001b[0m\u001b[1;33m\u001b[0m\u001b[1;33m\u001b[0m\u001b[0m\n\u001b[0;32m      7\u001b[0m \u001b[1;33m\u001b[0m\u001b[0m\n\u001b[1;32m----> 8\u001b[1;33m \u001b[0mOS\u001b[0m\u001b[1;33m(\u001b[0m\u001b[0mWrongWindow\u001b[0m\u001b[1;33m(\u001b[0m\u001b[1;33m)\u001b[0m\u001b[1;33m)\u001b[0m\u001b[1;33m\u001b[0m\u001b[1;33m\u001b[0m\u001b[0m\n\u001b[0m",
      "\u001b[1;32m<ipython-input-71-9189959c2a67>\u001b[0m in \u001b[0;36mOS\u001b[1;34m(win)\u001b[0m\n\u001b[0;32m      1\u001b[0m \u001b[1;32mdef\u001b[0m \u001b[0mOS\u001b[0m\u001b[1;33m(\u001b[0m\u001b[0mwin\u001b[0m\u001b[1;33m)\u001b[0m\u001b[1;33m:\u001b[0m\u001b[1;33m\u001b[0m\u001b[1;33m\u001b[0m\u001b[0m\n\u001b[1;32m----> 2\u001b[1;33m     \u001b[0mprint\u001b[0m\u001b[1;33m(\u001b[0m\u001b[0mwin\u001b[0m\u001b[1;33m.\u001b[0m\u001b[0mupscale\u001b[0m\u001b[1;33m(\u001b[0m\u001b[1;33m)\u001b[0m\u001b[1;33m)\u001b[0m\u001b[1;33m\u001b[0m\u001b[1;33m\u001b[0m\u001b[0m\n\u001b[0m\u001b[0;32m      3\u001b[0m     \u001b[0mprint\u001b[0m\u001b[1;33m(\u001b[0m\u001b[0mwin\u001b[0m\u001b[1;33m.\u001b[0m\u001b[0mclose_button\u001b[0m\u001b[1;33m(\u001b[0m\u001b[1;33m)\u001b[0m\u001b[1;33m)\u001b[0m\u001b[1;33m\u001b[0m\u001b[1;33m\u001b[0m\u001b[0m\n\u001b[0;32m      4\u001b[0m \u001b[1;33m\u001b[0m\u001b[0m\n\u001b[0;32m      5\u001b[0m \u001b[0mOS\u001b[0m\u001b[1;33m(\u001b[0m\u001b[0mWebWindow\u001b[0m\u001b[1;33m(\u001b[0m\u001b[1;33m)\u001b[0m\u001b[1;33m)\u001b[0m\u001b[1;33m\u001b[0m\u001b[1;33m\u001b[0m\u001b[0m\n",
      "\u001b[1;31mAttributeError\u001b[0m: 'WrongWindow' object has no attribute 'upscale'"
     ]
    }
   ],
   "source": [
    "class WrongWindow:\n",
    "    def buttonforclose(self):\n",
    "        return \"Wring close\"\n",
    "    \n",
    "    def buttonforupscale(self):\n",
    "        return \"uscale wrong window\"\n",
    "    \n",
    "OS(WrongWindow())"
   ]
  },
  {
   "cell_type": "code",
   "execution_count": 73,
   "metadata": {},
   "outputs": [],
   "source": [
    "from abc import ABC, abstractmethod \n",
    "\n",
    "\n",
    "class BasePrinter(ABC):\n",
    "    @abstractmethod\n",
    "    def pprint(self):\n",
    "        pass\n",
    "    \n",
    "    @abstractmethod\n",
    "    def rebot(self):\n",
    "        pass"
   ]
  },
  {
   "cell_type": "code",
   "execution_count": 75,
   "metadata": {},
   "outputs": [
    {
     "data": {
      "text/plain": [
       "<__main__.POne at 0x19afc460b38>"
      ]
     },
     "execution_count": 75,
     "metadata": {},
     "output_type": "execute_result"
    }
   ],
   "source": [
    "class POne(BasePrinter):\n",
    "    def pprint(self):\n",
    "        return \"method pprint from POne\"\n",
    "    \n",
    "    def rebot(self):\n",
    "        return \"method reboot from POne\"\n",
    "\n",
    "POne()"
   ]
  },
  {
   "cell_type": "code",
   "execution_count": 77,
   "metadata": {},
   "outputs": [
    {
     "data": {
      "text/plain": [
       "<__main__.PTwo at 0x19afc455588>"
      ]
     },
     "execution_count": 77,
     "metadata": {},
     "output_type": "execute_result"
    }
   ],
   "source": [
    "class PTwo(BasePrinter):\n",
    "    def pprint(self):\n",
    "        return \"method pprint from PTwo\"\n",
    "    def rebot(self):\n",
    "        return \"method rebot from PTwo\"\n",
    "PTwo()"
   ]
  },
  {
   "cell_type": "markdown",
   "metadata": {},
   "source": [
    "---"
   ]
  },
  {
   "cell_type": "markdown",
   "metadata": {},
   "source": [
    "Factury method\n",
    "==="
   ]
  },
  {
   "cell_type": "code",
   "execution_count": 2,
   "metadata": {},
   "outputs": [],
   "source": [
    "from abc import ABC, abstractmethod\n",
    "\n",
    "\n",
    "class BaseWindow(ABC):\n",
    "    @abstractmethod\n",
    "    def get_close_button(self):\n",
    "        pass\n",
    "    \n",
    "    def close(self):\n",
    "        btn = self.get_close_button()\n",
    "        return btn.close()\n",
    "    \n",
    "class BaseButton(ABC):\n",
    "    @abstractmethod\n",
    "    def close(self):\n",
    "        pass\n",
    "    \n",
    "class WebButton(BaseButton):\n",
    "    def close(self):\n",
    "        return \"hello i am the web close button\"\n",
    "    \n",
    "    \n",
    "class DesctopButton(BaseButton):\n",
    "    def close(self):\n",
    "        return \"hello i am the desctop close button\"\n",
    "\n",
    "class WebWindow(BaseWindow):\n",
    "    def get_close_button(self):\n",
    "        return WebButton()\n",
    "\n",
    "class DesctopWindow(BaseWindow):\n",
    "    def get_close_button(self):\n",
    "        return DesctopButton()"
   ]
  },
  {
   "cell_type": "code",
   "execution_count": 3,
   "metadata": {},
   "outputs": [],
   "source": [
    "def client(win):\n",
    "    print(win.close())"
   ]
  },
  {
   "cell_type": "code",
   "execution_count": 6,
   "metadata": {},
   "outputs": [
    {
     "name": "stdout",
     "output_type": "stream",
     "text": [
      "hello i am the desctop close button\n",
      "hello i am the web close button\n"
     ]
    }
   ],
   "source": [
    "client(DesctopWindow())\n",
    "client(WebWindow())"
   ]
  },
  {
   "cell_type": "markdown",
   "metadata": {},
   "source": [
    "---"
   ]
  },
  {
   "cell_type": "code",
   "execution_count": 53,
   "metadata": {},
   "outputs": [],
   "source": [
    "from abc import ABC, abstractmethod\n",
    "from math import ceil\n",
    "\n",
    "class BaseLogistic(ABC):\n",
    "    def loader(self, things):\n",
    "        result = \"\"\n",
    "        capa = things[0]\n",
    "        for i in range(ceil(capa / 15)):\n",
    "            transport = self.get_transport()\n",
    "            result += transport.loader((15 if capa > 15 else capa, things[1])) + \"\\n\"\n",
    "            capa -= 15\n",
    "        return result + \"\\n\"\n",
    "\n",
    "    @abstractmethod\n",
    "    def get_transport(self):\n",
    "        pass\n",
    "    \n",
    "\n",
    "class BaseTransport(ABC):\n",
    "    @abstractmethod\n",
    "    def loader(self, things):\n",
    "        pass\n",
    "    \n",
    "class Track(BaseTransport):\n",
    "    def loader(self, things):\n",
    "        assert things[0] <= 15, \"Track loaded more than can be\"\n",
    "        return f\"{things} have been loaded on Track\"\n",
    "    \n",
    "class Plane(BaseTransport):\n",
    "    def loader(self, things):\n",
    "        assert things[0] <= 15, \"Track loaded more than can be\"\n",
    "        return f\"{things} have been loaded on Plane\"\n",
    "    \n",
    "    \n",
    "class TrackLogistick(BaseLogistic):\n",
    "    def get_transport(self):\n",
    "        return Track()\n",
    "    \n",
    "    \n",
    "class PlaneLogistic(BaseLogistic):\n",
    "    def get_transport(self):\n",
    "        return Plane()"
   ]
  },
  {
   "cell_type": "code",
   "execution_count": 54,
   "metadata": {},
   "outputs": [],
   "source": [
    "def client(log):\n",
    "    print(log.loader((55, \"many bricks\")))"
   ]
  },
  {
   "cell_type": "code",
   "execution_count": 56,
   "metadata": {},
   "outputs": [
    {
     "name": "stdout",
     "output_type": "stream",
     "text": [
      "(15, 'many bricks') have been loaded on Plane\n",
      "(15, 'many bricks') have been loaded on Plane\n",
      "(15, 'many bricks') have been loaded on Plane\n",
      "(10, 'many bricks') have been loaded on Plane\n",
      "\n",
      "\n"
     ]
    }
   ],
   "source": [
    "client(PlaneLogistic())"
   ]
  },
  {
   "cell_type": "code",
   "execution_count": 57,
   "metadata": {},
   "outputs": [
    {
     "name": "stdout",
     "output_type": "stream",
     "text": [
      "(15, 'many bricks') have been loaded on Track\n",
      "(15, 'many bricks') have been loaded on Track\n",
      "(15, 'many bricks') have been loaded on Track\n",
      "(10, 'many bricks') have been loaded on Track\n",
      "\n",
      "\n"
     ]
    }
   ],
   "source": [
    "client(TrackLogistick())"
   ]
  },
  {
   "cell_type": "markdown",
   "metadata": {},
   "source": [
    "---"
   ]
  },
  {
   "cell_type": "code",
   "execution_count": 58,
   "metadata": {},
   "outputs": [],
   "source": [
    "class Node:\n",
    "    def __init__(self, name, mark):\n",
    "        self.name = name\n",
    "        self.mark = mark\n",
    "        self.right = None\n",
    "        self.left = None\n",
    "        self.parent = None\n",
    "    \n",
    "    def __repr__(self):\n",
    "        return self.name"
   ]
  },
  {
   "cell_type": "code",
   "execution_count": 59,
   "metadata": {},
   "outputs": [],
   "source": [
    "root = Node(\"Egor\", 5)\n",
    "n1 = Node(\"Sasha\", 6)\n",
    "n2 = Node(\"Koly\", 7)\n",
    "n3 = Node(\"Egor\", 6.5)\n",
    "n4 = Node(\"Petr\", 6)\n",
    "n5 = Node(\"Gleb\", 4)\n",
    "n6 = Node(\"Eva\", 4.5)"
   ]
  },
  {
   "cell_type": "code",
   "execution_count": 60,
   "metadata": {},
   "outputs": [],
   "source": [
    "root.right = n1\n",
    "n1.right = n2\n",
    "n2.left = n3\n",
    "n1.left = n4\n",
    "root.left = n5\n",
    "n5.right = n6"
   ]
  },
  {
   "cell_type": "code",
   "execution_count": 61,
   "metadata": {},
   "outputs": [],
   "source": [
    "n6.parent = n5\n",
    "n5.parent = root\n",
    "n4.parent = n1\n",
    "n3.parent = n2\n",
    "n2.parent = n1\n",
    "n1.parent = root"
   ]
  },
  {
   "cell_type": "code",
   "execution_count": 70,
   "metadata": {},
   "outputs": [
    {
     "data": {
      "text/plain": [
       "Petr"
      ]
     },
     "execution_count": 70,
     "metadata": {},
     "output_type": "execute_result"
    }
   ],
   "source": [
    "root.right.left"
   ]
  },
  {
   "cell_type": "code",
   "execution_count": 91,
   "metadata": {},
   "outputs": [],
   "source": [
    "class Manager:\n",
    "    def __init__(self, root):\n",
    "        self.root = root\n",
    "    \n",
    "    def add(self, new_node):\n",
    "        cursore = self.root\n",
    "        while True:\n",
    "            if new_node.mark > cursore.mark:\n",
    "                if cursore.right is not None:\n",
    "                    cursore = cursore.right\n",
    "                else:\n",
    "                    cursore.right = new_node\n",
    "                    new_node.parent = cursore\n",
    "                    break\n",
    "            else:\n",
    "                if cursore.left is not None:\n",
    "                    cursore = cursore.left\n",
    "                else:\n",
    "                    cursore.left = new_node\n",
    "                    new_node.parent = cursore\n",
    "                    break\n",
    "\n",
    "    def find(self, mark):\n",
    "        cursore = self.root\n",
    "        while True:\n",
    "            if mark == cursore.mark:\n",
    "                return cursore\n",
    "            if mark > cursore.mark:\n",
    "                if cursore.right is not None:\n",
    "                    cursore = cursore.right\n",
    "                else:\n",
    "                    return None\n",
    "            else:\n",
    "                if cursore.left is not None:\n",
    "                    cursore = cursore.left\n",
    "                else:\n",
    "                    return None\n",
    "                \n",
    "    def find_all(self, mark):\n",
    "        cursore = self.root\n",
    "        result = []\n",
    "        while True:\n",
    "            if mark == cursore.mark:\n",
    "                result.append(cursore.name)\n",
    "            if mark > cursore.mark:\n",
    "                if cursore.right is not None:\n",
    "                    cursore = cursore.right\n",
    "                else:\n",
    "                    return result\n",
    "            else:\n",
    "                if cursore.left is not None:\n",
    "                    cursore = cursore.left\n",
    "                else:\n",
    "                    return result\n",
    "                \n",
    "    def delete(self, mark):\n",
    "        pass"
   ]
  },
  {
   "cell_type": "code",
   "execution_count": 92,
   "metadata": {},
   "outputs": [],
   "source": [
    "root = Node(\"Egor\", 5)\n",
    "m = Manager(root)"
   ]
  },
  {
   "cell_type": "code",
   "execution_count": 93,
   "metadata": {},
   "outputs": [],
   "source": [
    "m.add(Node(\"Sasha\", 6))\n",
    "m.add(Node(\"Koly\", 7))\n",
    "m.add(Node(\"Egor\", 6.5))\n",
    "m.add(Node(\"Petr\", 6))\n",
    "m.add(Node(\"Gleb\", 4))\n",
    "m.add(Node(\"Eva\", 4.5))"
   ]
  },
  {
   "cell_type": "code",
   "execution_count": 97,
   "metadata": {},
   "outputs": [
    {
     "data": {
      "text/plain": [
       "['Sasha', 'Petr']"
      ]
     },
     "execution_count": 97,
     "metadata": {},
     "output_type": "execute_result"
    }
   ],
   "source": [
    "m.find_all(6)"
   ]
  },
  {
   "cell_type": "code",
   "execution_count": 98,
   "metadata": {},
   "outputs": [],
   "source": [
    "import pydotplus"
   ]
  }
 ],
 "metadata": {
  "kernelspec": {
   "display_name": "Python 3",
   "language": "python",
   "name": "python3"
  },
  "language_info": {
   "codemirror_mode": {
    "name": "ipython",
    "version": 3
   },
   "file_extension": ".py",
   "mimetype": "text/x-python",
   "name": "python",
   "nbconvert_exporter": "python",
   "pygments_lexer": "ipython3",
   "version": "3.7.3"
  }
 },
 "nbformat": 4,
 "nbformat_minor": 2
}
