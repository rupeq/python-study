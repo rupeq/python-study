{
 "cells": [
  {
   "cell_type": "code",
   "execution_count": 6,
   "metadata": {},
   "outputs": [
    {
     "name": "stdout",
     "output_type": "stream",
     "text": [
      "enter the digit: 13\n",
      "13 is simple\n"
     ]
    }
   ],
   "source": [
    "num = input(\"enter the digit: \")\n",
    "num = int(num)\n",
    "\n",
    "for i in range(2, num):\n",
    "    if num % i == 0:\n",
    "        break\n",
    "else:\n",
    "    print(f\"{num} is simple\")"
   ]
  },
  {
   "cell_type": "code",
   "execution_count": 8,
   "metadata": {
    "collapsed": true
   },
   "outputs": [
    {
     "name": "stdout",
     "output_type": "stream",
     "text": [
      "6\n",
      "12\n",
      "18\n",
      "20\n",
      "24\n",
      "28\n",
      "30\n",
      "36\n",
      "40\n",
      "42\n",
      "48\n",
      "54\n",
      "56\n",
      "60\n",
      "66\n",
      "72\n",
      "78\n",
      "80\n",
      "84\n",
      "88\n",
      "90\n",
      "96\n"
     ]
    }
   ],
   "source": [
    "from itertools import combinations\n",
    "limit = 100\n",
    "\n",
    "for digit in range(1, limit):\n",
    "    arr = []\n",
    "    for i in range(1, digit):\n",
    "        if digit % i == 0:\n",
    "            arr.append(i)\n",
    "    for i in range(1, len(arr) + 1):\n",
    "        if digit in list(map(sum, combinations(arr, i))):\n",
    "            print(digit)\n",
    "            break"
   ]
  },
  {
   "cell_type": "markdown",
   "metadata": {},
   "source": [
    "---"
   ]
  },
  {
   "cell_type": "code",
   "execution_count": 9,
   "metadata": {},
   "outputs": [
    {
     "data": {
      "text/plain": [
       "[1, 3, 6, 10, 14, 18, 23, 28, 30]"
      ]
     },
     "execution_count": 9,
     "metadata": {},
     "output_type": "execute_result"
    }
   ],
   "source": [
    "arr = [1, 2, 3, 4, 4, 4, 5, 5, 2]\n",
    "index = 0\n",
    "total = 0\n",
    "result = []\n",
    "\n",
    "while index < len(arr):\n",
    "    total += arr[index]\n",
    "    index += 1\n",
    "    result.append(total)\n",
    "result"
   ]
  },
  {
   "cell_type": "code",
   "execution_count": 13,
   "metadata": {},
   "outputs": [
    {
     "data": {
      "text/plain": [
       "2.9917297405267966"
      ]
     },
     "execution_count": 13,
     "metadata": {},
     "output_type": "execute_result"
    }
   ],
   "source": [
    "arr = [1, 2, 3, 4, 4, 4, 5, 5, 2]\n",
    "index = 0\n",
    "total = 1\n",
    "\n",
    "while index < len(arr):\n",
    "    total *= arr[index]\n",
    "    index += 1\n",
    "\n",
    "total ** (1 / len(arr))"
   ]
  },
  {
   "cell_type": "code",
   "execution_count": 15,
   "metadata": {},
   "outputs": [
    {
     "data": {
      "text/plain": [
       "2.9917297405267966"
      ]
     },
     "execution_count": 15,
     "metadata": {},
     "output_type": "execute_result"
    }
   ],
   "source": [
    "arr = [1, 2, 3, 4, 4, 4, 5, 5, 2]\n",
    "length = len(arr)\n",
    "total = 1\n",
    "\n",
    "while arr:\n",
    "    total *= arr.pop()\n",
    "    index += 1\n",
    "\n",
    "total ** (1 / length)"
   ]
  },
  {
   "cell_type": "code",
   "execution_count": 18,
   "metadata": {},
   "outputs": [
    {
     "data": {
      "text/plain": [
       "2.9917297405267966"
      ]
     },
     "execution_count": 18,
     "metadata": {},
     "output_type": "execute_result"
    }
   ],
   "source": [
    "from functools import reduce\n",
    "arr = [1, 2, 3, 4, 4, 4, 5, 5, 2]\n",
    "reduce(lambda a, b: a * b, arr) ** (1 / len(arr))"
   ]
  },
  {
   "cell_type": "markdown",
   "metadata": {},
   "source": [
    "---"
   ]
  },
  {
   "cell_type": "code",
   "execution_count": 19,
   "metadata": {},
   "outputs": [
    {
     "data": {
      "text/plain": [
       "(list, set, str)"
      ]
     },
     "execution_count": 19,
     "metadata": {},
     "output_type": "execute_result"
    }
   ],
   "source": [
    "list, set, str,"
   ]
  },
  {
   "cell_type": "code",
   "execution_count": 22,
   "metadata": {},
   "outputs": [],
   "source": [
    "mt = (1, 2, 3)"
   ]
  },
  {
   "cell_type": "code",
   "execution_count": 25,
   "metadata": {},
   "outputs": [
    {
     "data": {
      "text/plain": [
       "48"
      ]
     },
     "execution_count": 25,
     "metadata": {},
     "output_type": "execute_result"
    }
   ],
   "source": [
    "mt.__sizeof__()"
   ]
  },
  {
   "cell_type": "code",
   "execution_count": 26,
   "metadata": {},
   "outputs": [
    {
     "data": {
      "text/plain": [
       "64"
      ]
     },
     "execution_count": 26,
     "metadata": {},
     "output_type": "execute_result"
    }
   ],
   "source": [
    "ml = [1, 2, 3]\n",
    "ml.__sizeof__()"
   ]
  },
  {
   "cell_type": "code",
   "execution_count": null,
   "metadata": {},
   "outputs": [],
   "source": [
    "mt = (*1, *2, *3)"
   ]
  },
  {
   "cell_type": "code",
   "execution_count": 29,
   "metadata": {},
   "outputs": [
    {
     "ename": "TypeError",
     "evalue": "'tuple' object does not support item assignment",
     "output_type": "error",
     "traceback": [
      "\u001b[1;31m---------------------------------------------------------------------------\u001b[0m",
      "\u001b[1;31mTypeError\u001b[0m                                 Traceback (most recent call last)",
      "\u001b[1;32m<ipython-input-29-085310b5a538>\u001b[0m in \u001b[0;36m<module>\u001b[1;34m\u001b[0m\n\u001b[1;32m----> 1\u001b[1;33m \u001b[0mmt\u001b[0m\u001b[1;33m[\u001b[0m\u001b[1;36m0\u001b[0m\u001b[1;33m]\u001b[0m \u001b[1;33m=\u001b[0m \u001b[1;34m\"hello\"\u001b[0m\u001b[1;33m\u001b[0m\u001b[1;33m\u001b[0m\u001b[0m\n\u001b[0m",
      "\u001b[1;31mTypeError\u001b[0m: 'tuple' object does not support item assignment"
     ]
    }
   ],
   "source": [
    "mt[0] = \"hello\""
   ]
  },
  {
   "cell_type": "code",
   "execution_count": 30,
   "metadata": {},
   "outputs": [],
   "source": [
    "mt = (1, 2, 3, [1])"
   ]
  },
  {
   "cell_type": "code",
   "execution_count": 32,
   "metadata": {},
   "outputs": [],
   "source": [
    "mt[-1].append(2)"
   ]
  },
  {
   "cell_type": "code",
   "execution_count": 33,
   "metadata": {},
   "outputs": [
    {
     "data": {
      "text/plain": [
       "(1, 2, 3, [1, 2])"
      ]
     },
     "execution_count": 33,
     "metadata": {},
     "output_type": "execute_result"
    }
   ],
   "source": [
    "mt"
   ]
  },
  {
   "cell_type": "markdown",
   "metadata": {},
   "source": [
    "---"
   ]
  },
  {
   "cell_type": "code",
   "execution_count": 39,
   "metadata": {},
   "outputs": [],
   "source": [
    "md = {\"mother\":23453, \"father\":3567585746, \"bro\":34556, \"test\":[1, 2, 3]}"
   ]
  },
  {
   "cell_type": "code",
   "execution_count": 37,
   "metadata": {},
   "outputs": [
    {
     "data": {
      "text/plain": [
       "23453"
      ]
     },
     "execution_count": 37,
     "metadata": {},
     "output_type": "execute_result"
    }
   ],
   "source": [
    "md[\"mother\"]"
   ]
  },
  {
   "cell_type": "code",
   "execution_count": 40,
   "metadata": {},
   "outputs": [
    {
     "data": {
      "text/plain": [
       "34556"
      ]
     },
     "execution_count": 40,
     "metadata": {},
     "output_type": "execute_result"
    }
   ],
   "source": [
    "md[\"bro\"]"
   ]
  },
  {
   "cell_type": "code",
   "execution_count": 42,
   "metadata": {},
   "outputs": [
    {
     "data": {
      "text/plain": [
       "1"
      ]
     },
     "execution_count": 42,
     "metadata": {},
     "output_type": "execute_result"
    }
   ],
   "source": [
    "md[\"test\"][0]"
   ]
  },
  {
   "cell_type": "code",
   "execution_count": 43,
   "metadata": {},
   "outputs": [
    {
     "ename": "KeyError",
     "evalue": "'key'",
     "output_type": "error",
     "traceback": [
      "\u001b[1;31m---------------------------------------------------------------------------\u001b[0m",
      "\u001b[1;31mKeyError\u001b[0m                                  Traceback (most recent call last)",
      "\u001b[1;32m<ipython-input-43-28ae18e7e83b>\u001b[0m in \u001b[0;36m<module>\u001b[1;34m\u001b[0m\n\u001b[1;32m----> 1\u001b[1;33m \u001b[0mmd\u001b[0m\u001b[1;33m[\u001b[0m\u001b[1;34m\"key\"\u001b[0m\u001b[1;33m]\u001b[0m\u001b[1;33m\u001b[0m\u001b[1;33m\u001b[0m\u001b[0m\n\u001b[0m",
      "\u001b[1;31mKeyError\u001b[0m: 'key'"
     ]
    }
   ],
   "source": [
    "md[\"key\"]"
   ]
  },
  {
   "cell_type": "code",
   "execution_count": 47,
   "metadata": {},
   "outputs": [
    {
     "data": {
      "text/plain": [
       "23453"
      ]
     },
     "execution_count": 47,
     "metadata": {},
     "output_type": "execute_result"
    }
   ],
   "source": [
    "md.get(\"mother\")"
   ]
  },
  {
   "cell_type": "code",
   "execution_count": 50,
   "metadata": {},
   "outputs": [
    {
     "data": {
      "text/plain": [
       "'default value'"
      ]
     },
     "execution_count": 50,
     "metadata": {},
     "output_type": "execute_result"
    }
   ],
   "source": [
    "md.get(\"key\", \"default value\")"
   ]
  },
  {
   "cell_type": "code",
   "execution_count": 51,
   "metadata": {},
   "outputs": [
    {
     "data": {
      "text/plain": [
       "{'mother': 23453, 'father': 3567585746, 'bro': 34556, 'test': [1, 2, 3]}"
      ]
     },
     "execution_count": 51,
     "metadata": {},
     "output_type": "execute_result"
    }
   ],
   "source": [
    "md"
   ]
  },
  {
   "cell_type": "code",
   "execution_count": 53,
   "metadata": {},
   "outputs": [],
   "source": [
    "del md[\"bro\"]"
   ]
  },
  {
   "cell_type": "code",
   "execution_count": 54,
   "metadata": {},
   "outputs": [
    {
     "data": {
      "text/plain": [
       "{'mother': 23453, 'father': 3567585746, 'test': [1, 2, 3]}"
      ]
     },
     "execution_count": 54,
     "metadata": {},
     "output_type": "execute_result"
    }
   ],
   "source": [
    "md"
   ]
  },
  {
   "cell_type": "code",
   "execution_count": 57,
   "metadata": {},
   "outputs": [],
   "source": [
    "md[\"test\"] = None"
   ]
  },
  {
   "cell_type": "code",
   "execution_count": 58,
   "metadata": {},
   "outputs": [
    {
     "data": {
      "text/plain": [
       "{'mother': 23453, 'father': 3567585746, 'test': None}"
      ]
     },
     "execution_count": 58,
     "metadata": {},
     "output_type": "execute_result"
    }
   ],
   "source": [
    "md"
   ]
  },
  {
   "cell_type": "code",
   "execution_count": 61,
   "metadata": {},
   "outputs": [],
   "source": [
    "md[\"mother\"] = \"other phone number\""
   ]
  },
  {
   "cell_type": "code",
   "execution_count": 62,
   "metadata": {},
   "outputs": [
    {
     "data": {
      "text/plain": [
       "{'mother': 'other phone number', 'father': 3567585746, 'test': None}"
      ]
     },
     "execution_count": 62,
     "metadata": {},
     "output_type": "execute_result"
    }
   ],
   "source": [
    "md"
   ]
  },
  {
   "cell_type": "code",
   "execution_count": 68,
   "metadata": {},
   "outputs": [],
   "source": [
    "md = {}"
   ]
  },
  {
   "cell_type": "code",
   "execution_count": 71,
   "metadata": {},
   "outputs": [],
   "source": [
    "md[\"new key\"] = \"new value\"\n",
    "md[\"new key1\"] = \"new value1\"\n",
    "md[\"new key2\"] = \"new value2\""
   ]
  },
  {
   "cell_type": "code",
   "execution_count": 72,
   "metadata": {},
   "outputs": [
    {
     "data": {
      "text/plain": [
       "{'new key': 'new value', 'new key1': 'new value1', 'new key2': 'new value2'}"
      ]
     },
     "execution_count": 72,
     "metadata": {},
     "output_type": "execute_result"
    }
   ],
   "source": [
    "md"
   ]
  },
  {
   "cell_type": "code",
   "execution_count": 75,
   "metadata": {},
   "outputs": [
    {
     "name": "stdout",
     "output_type": "stream",
     "text": [
      "hello\n",
      "world\n"
     ]
    }
   ],
   "source": [
    "print(\"hello\\nworld\")   # \\n"
   ]
  },
  {
   "cell_type": "code",
   "execution_count": 77,
   "metadata": {},
   "outputs": [
    {
     "name": "stdout",
     "output_type": "stream",
     "text": [
      "hello\t\t\t\tworld\n"
     ]
    }
   ],
   "source": [
    "print(\"hello\\t\\t\\t\\tworld\") # \\t"
   ]
  },
  {
   "cell_type": "code",
   "execution_count": 79,
   "metadata": {},
   "outputs": [
    {
     "name": "stdout",
     "output_type": "stream",
     "text": [
      "helloo\r",
      "world\n"
     ]
    }
   ],
   "source": [
    "print(\"helloo\\rworld\") # \\r"
   ]
  },
  {
   "cell_type": "markdown",
   "metadata": {},
   "source": [
    "worldo"
   ]
  },
  {
   "cell_type": "code",
   "execution_count": 80,
   "metadata": {},
   "outputs": [
    {
     "name": "stdout",
     "output_type": "stream",
     "text": [
      "\u0007\n"
     ]
    }
   ],
   "source": [
    "print(\"\\a\")"
   ]
  },
  {
   "cell_type": "code",
   "execution_count": 81,
   "metadata": {},
   "outputs": [],
   "source": [
    "from winsound import Beep"
   ]
  },
  {
   "cell_type": "code",
   "execution_count": 87,
   "metadata": {},
   "outputs": [],
   "source": [
    "Beep(4000, 1000)"
   ]
  },
  {
   "cell_type": "code",
   "execution_count": 95,
   "metadata": {},
   "outputs": [
    {
     "name": "stdout",
     "output_type": "stream",
     "text": [
      "hello\" world\n"
     ]
    }
   ],
   "source": [
    "print(\"hello\\\" world\")"
   ]
  },
  {
   "cell_type": "code",
   "execution_count": 98,
   "metadata": {},
   "outputs": [
    {
     "data": {
      "text/plain": [
       "'hello world\\\\'"
      ]
     },
     "execution_count": 98,
     "metadata": {},
     "output_type": "execute_result"
    }
   ],
   "source": [
    "\"hello world\\\\\""
   ]
  },
  {
   "cell_type": "markdown",
   "metadata": {},
   "source": [
    "---"
   ]
  },
  {
   "cell_type": "code",
   "execution_count": 103,
   "metadata": {},
   "outputs": [],
   "source": [
    "text = \"\"\"В заросшем парке стоит старинный дом\n",
    "Забиты окна и мрак царит из вечно в нем\n",
    "Сказать я пытался чудовищ нет на Земле\n",
    "Но тут же раздался ужасный голос во мгле\n",
    "Голос во мгле\n",
    "Мне больно видеть белый свет\n",
    "Мне лучше в полной темноте\n",
    "Я очень много много лет\n",
    "Мечтаю только о еде\n",
    "Мне слишком тесно в заперти\n",
    "И я мечтаю об одном\n",
    "Скорей свободу обрести\n",
    "Прогрысть свой ветхий старый дом\n",
    "Проклятый старый дом\n",
    "Был дед да помер слепой и жутко злой\n",
    "Никто не вспомнил о нем зимой холодной\n",
    "Соседи не стали его тогда хоронить\n",
    "Лишь доски достали решили заколотить\n",
    "Двери и окна\n",
    "Мне больно видеть белый свет\n",
    "Мне лучше в полной темноте\n",
    "Я очень много много лет\n",
    "Мечтаю только о еде\n",
    "Мне слишком тесно в заперти\n",
    "И я мечтаю об одном\n",
    "Скорей свободу обрести\n",
    "Прогрысть свой ветхий старый дом\n",
    "Проклятый старый дом\n",
    "И это место стороной проходит сельский люд\n",
    "И суеверные твердят-\n",
    "\"Там призраки живут\\\"\"\"\""
   ]
  },
  {
   "cell_type": "code",
   "execution_count": 107,
   "metadata": {},
   "outputs": [],
   "source": [
    "text = text.lower()"
   ]
  },
  {
   "cell_type": "code",
   "execution_count": 111,
   "metadata": {},
   "outputs": [
    {
     "data": {
      "text/plain": [
       "True"
      ]
     },
     "execution_count": 111,
     "metadata": {},
     "output_type": "execute_result"
    }
   ],
   "source": [
    "\"new key\" in md"
   ]
  },
  {
   "cell_type": "code",
   "execution_count": 112,
   "metadata": {},
   "outputs": [
    {
     "data": {
      "text/plain": [
       "False"
      ]
     },
     "execution_count": 112,
     "metadata": {},
     "output_type": "execute_result"
    }
   ],
   "source": [
    "\"brazz\" in md"
   ]
  },
  {
   "cell_type": "code",
   "execution_count": 128,
   "metadata": {},
   "outputs": [
    {
     "name": "stdout",
     "output_type": "stream",
     "text": [
      "314 µs ± 46.1 µs per loop (mean ± std. dev. of 7 runs, 1000 loops each)\n"
     ]
    }
   ],
   "source": [
    "%%timeit\n",
    "result = {}\n",
    "for letter in text:\n",
    "    if letter in result:\n",
    "        result[letter] += 1\n",
    "    else:\n",
    "        result[letter] = 1"
   ]
  },
  {
   "cell_type": "code",
   "execution_count": 121,
   "metadata": {},
   "outputs": [
    {
     "name": "stdout",
     "output_type": "stream",
     "text": [
      "2.2 ms ± 286 µs per loop (mean ± std. dev. of 7 runs, 100 loops each)\n"
     ]
    }
   ],
   "source": [
    "%%timeit\n",
    "result = {}\n",
    "for letter in text:\n",
    "    result[letter] = text.count(letter)\n",
    "result"
   ]
  },
  {
   "cell_type": "code",
   "execution_count": 127,
   "metadata": {},
   "outputs": [
    {
     "name": "stdout",
     "output_type": "stream",
     "text": [
      "203 µs ± 16.5 µs per loop (mean ± std. dev. of 7 runs, 10000 loops each)\n"
     ]
    }
   ],
   "source": [
    "%%timeit\n",
    "result = {}\n",
    "for letter in set(text):\n",
    "    result[letter] = text.count(letter)\n",
    "result\n",
    "# Python    AOT\n",
    "# Ipython   AOT\n",
    "# Cython    JIT\n",
    "# Jython    JIT\n",
    "# IronPython    C# xz\n",
    "# Numba     JIT/AOT\n",
    "# NumbaPro  JIT/AOT"
   ]
  },
  {
   "cell_type": "code",
   "execution_count": 133,
   "metadata": {},
   "outputs": [
    {
     "data": {
      "text/plain": [
       "dict_values([10, 41, 58, 24, 1, 12, 15, 1, 10, 27, 25, 1, 95, 32, 124, 16, 2, 12, 30, 19, 32, 7, 5, 12, 15, 1, 37, 66, 10, 5, 4, 41, 35, 41])"
      ]
     },
     "execution_count": 133,
     "metadata": {},
     "output_type": "execute_result"
    }
   ],
   "source": [
    "result.values()"
   ]
  },
  {
   "cell_type": "code",
   "execution_count": 134,
   "metadata": {},
   "outputs": [
    {
     "data": {
      "text/plain": [
       "dict_keys(['у', 'и', 'т', 'й', 'щ', 'з', 'п', 'ц', 'ч', 'д', 'в', '-', 'о', 'р', ' ', 'ы', '\"', 'б', '\\n', 'к', 'а', 'ш', 'ю', 'г', 'ь', 'э', 'м', 'е', 'я', 'х', 'ж', 'н', 'л', 'с'])"
      ]
     },
     "execution_count": 134,
     "metadata": {},
     "output_type": "execute_result"
    }
   ],
   "source": [
    "result.keys()"
   ]
  },
  {
   "cell_type": "code",
   "execution_count": 135,
   "metadata": {},
   "outputs": [
    {
     "data": {
      "text/plain": [
       "dict_items([('у', 10), ('и', 41), ('т', 58), ('й', 24), ('щ', 1), ('з', 12), ('п', 15), ('ц', 1), ('ч', 10), ('д', 27), ('в', 25), ('-', 1), ('о', 95), ('р', 32), (' ', 124), ('ы', 16), ('\"', 2), ('б', 12), ('\\n', 30), ('к', 19), ('а', 32), ('ш', 7), ('ю', 5), ('г', 12), ('ь', 15), ('э', 1), ('м', 37), ('е', 66), ('я', 10), ('х', 5), ('ж', 4), ('н', 41), ('л', 35), ('с', 41)])"
      ]
     },
     "execution_count": 135,
     "metadata": {},
     "output_type": "execute_result"
    }
   ],
   "source": [
    "result.items()"
   ]
  },
  {
   "cell_type": "code",
   "execution_count": 149,
   "metadata": {},
   "outputs": [
    {
     "name": "stdout",
     "output_type": "stream",
     "text": [
      "[' ', 'о', 'е', 'т', 'и', 'н', 'с', 'м', 'л', 'р', 'а', '\\n', 'д', 'в', 'й', 'к', 'ы', 'п', 'ь', 'з', 'б', 'г', 'у', 'ч', 'я', 'ш', 'ю', 'х', 'ж', '\"', 'щ', 'ц', '-', 'э']\n"
     ]
    }
   ],
   "source": [
    "count = 300\n",
    "out = []\n",
    "while count > 0:\n",
    "    for item in result.items():\n",
    "        if item[1] == count:\n",
    "            out.append(item[0])\n",
    "    count -= 1\n",
    "print(out)"
   ]
  },
  {
   "cell_type": "code",
   "execution_count": 147,
   "metadata": {},
   "outputs": [
    {
     "data": {
      "text/plain": [
       "1072"
      ]
     },
     "execution_count": 147,
     "metadata": {},
     "output_type": "execute_result"
    }
   ],
   "source": [
    "ord(\"а\")"
   ]
  },
  {
   "cell_type": "code",
   "execution_count": 146,
   "metadata": {
    "collapsed": true
   },
   "outputs": [
    {
     "name": "stdout",
     "output_type": "stream",
     "text": [
      "('\\n', 30)\n",
      "(' ', 124)\n",
      "('\"', 2)\n",
      "('-', 1)\n",
      "('а', 32)\n",
      "('б', 12)\n",
      "('в', 25)\n",
      "('г', 12)\n",
      "('д', 27)\n",
      "('е', 66)\n",
      "('ж', 4)\n",
      "('з', 12)\n",
      "('и', 41)\n",
      "('й', 24)\n",
      "('к', 19)\n",
      "('л', 35)\n",
      "('м', 37)\n",
      "('н', 41)\n",
      "('о', 95)\n",
      "('п', 15)\n",
      "('р', 32)\n",
      "('с', 41)\n",
      "('т', 58)\n",
      "('у', 10)\n",
      "('х', 5)\n",
      "('ц', 1)\n",
      "('ч', 10)\n",
      "('ш', 7)\n",
      "('щ', 1)\n",
      "('ы', 16)\n",
      "('ь', 15)\n",
      "('э', 1)\n",
      "('ю', 5)\n",
      "('я', 10)\n"
     ]
    }
   ],
   "source": [
    "count = 1\n",
    "while count < 1300:\n",
    "    for item in result.items():\n",
    "        if ord(item[0]) == count:\n",
    "            print(item)\n",
    "    count += 1"
   ]
  },
  {
   "cell_type": "markdown",
   "metadata": {},
   "source": [
    "---"
   ]
  },
  {
   "cell_type": "code",
   "execution_count": 159,
   "metadata": {},
   "outputs": [
    {
     "name": "stdout",
     "output_type": "stream",
     "text": [
      "None\n"
     ]
    }
   ],
   "source": [
    "arr = [1, 2, 3, 4, 5, 6] # мода\n",
    "moda = None\n",
    "max_count = 1\n",
    "\n",
    "for digit in arr:\n",
    "    count = arr.count(digit)\n",
    "    if count > max_count:\n",
    "        max_count = count\n",
    "        moda = digit\n",
    "print(moda)"
   ]
  },
  {
   "cell_type": "code",
   "execution_count": 175,
   "metadata": {},
   "outputs": [
    {
     "name": "stdout",
     "output_type": "stream",
     "text": [
      "{2}\n"
     ]
    }
   ],
   "source": [
    "arr = [1, 1, 2, 2, 2, 3, 4, 5, 6] # мода\n",
    "moda = set()\n",
    "max_count = 1\n",
    "\n",
    "for digit in arr:\n",
    "    count = arr.count(digit)\n",
    "    if count > max_count:\n",
    "        max_count = count\n",
    "        moda.clear()\n",
    "        moda.add(digit)\n",
    "    elif count == max_count and count > 1:\n",
    "        moda.add(digit)\n",
    "print(moda)"
   ]
  },
  {
   "cell_type": "code",
   "execution_count": 176,
   "metadata": {},
   "outputs": [
    {
     "name": "stdout",
     "output_type": "stream",
     "text": [
      "3\n"
     ]
    }
   ],
   "source": [
    "arr = [1, 1, 2, 2, 3, 4, 4, 5, 5] # мода\n",
    "\n",
    "for digit in arr:\n",
    "    if arr.count(digit) == 1:\n",
    "        print(digit)"
   ]
  },
  {
   "cell_type": "code",
   "execution_count": 181,
   "metadata": {},
   "outputs": [
    {
     "data": {
      "text/plain": [
       "3"
      ]
     },
     "execution_count": 181,
     "metadata": {},
     "output_type": "execute_result"
    }
   ],
   "source": [
    "arr = [1, 1, 2, 2, 3, 4, 4, 5, 5] # мода\n",
    "min_count = float(\"inf\")\n",
    "min_digit = None\n",
    "\n",
    "for digit in arr:\n",
    "    count = arr.count(digit)\n",
    "    if count < min_count:\n",
    "        min_count = count\n",
    "        min_digit = digit\n",
    "min_digit"
   ]
  },
  {
   "cell_type": "markdown",
   "metadata": {},
   "source": [
    "---"
   ]
  },
  {
   "cell_type": "code",
   "execution_count": 185,
   "metadata": {},
   "outputs": [
    {
     "name": "stdout",
     "output_type": "stream",
     "text": [
      "(23, 'Gaben', 'h')\n",
      "(56, 'BaldMan', 'e')\n",
      "(78, 'Godjima', 'l')\n",
      "(12, 'Gena', 'l')\n"
     ]
    }
   ],
   "source": [
    "users = [\"Gaben\", \"BaldMan\", \"Godjima\", \"Gena\", \"Vova\"]\n",
    "bonus = [23, 56, 78, 12, 90]\n",
    "\n",
    "for i in zip(bonus, users, \"hell\"):\n",
    "    print(i)"
   ]
  },
  {
   "cell_type": "code",
   "execution_count": 186,
   "metadata": {},
   "outputs": [],
   "source": [
    "a, b, c = [1, 2, 3] # unpacking"
   ]
  },
  {
   "cell_type": "code",
   "execution_count": 191,
   "metadata": {},
   "outputs": [
    {
     "data": {
      "text/plain": [
       "5"
      ]
     },
     "execution_count": 191,
     "metadata": {},
     "output_type": "execute_result"
    }
   ],
   "source": [
    "a = b = c = 5\n",
    "a"
   ]
  },
  {
   "cell_type": "code",
   "execution_count": 199,
   "metadata": {},
   "outputs": [],
   "source": [
    "a, *b, c = [1, 2, 3, 4, 5, 56]"
   ]
  },
  {
   "cell_type": "code",
   "execution_count": 203,
   "metadata": {},
   "outputs": [
    {
     "data": {
      "text/plain": [
       "(1, 2, 3, 4, 1, [2, 3, 4, 5], 56)"
      ]
     },
     "execution_count": 203,
     "metadata": {},
     "output_type": "execute_result"
    }
   ],
   "source": [
    "w = 1, 2, 3, 4, a, b, c # packing\n",
    "w"
   ]
  },
  {
   "cell_type": "code",
   "execution_count": 214,
   "metadata": {},
   "outputs": [
    {
     "name": "stdout",
     "output_type": "stream",
     "text": [
      "23 ['Gaben', 'h']\n",
      "56 ['BaldMan', 'e']\n",
      "78 ['Godjima', 'l']\n",
      "12 ['Gena', 'l']\n",
      "90 ['Vova', 'o']\n"
     ]
    }
   ],
   "source": [
    "users = [\"Gaben\", \"BaldMan\", \"Godjima\", \"Gena\", \"Vova\"]\n",
    "bonus = [23, 56, 78, 12, 90]\n",
    "\n",
    "for f, *s in zip(bonus, users, \"hello\"):\n",
    "    print(f, s)"
   ]
  },
  {
   "cell_type": "markdown",
   "metadata": {},
   "source": [
    "***"
   ]
  },
  {
   "cell_type": "code",
   "execution_count": 225,
   "metadata": {},
   "outputs": [
    {
     "name": "stdout",
     "output_type": "stream",
     "text": [
      "yes\n"
     ]
    }
   ],
   "source": [
    "# row = \"hello\"  # no\n",
    "# row = \"lol\"    # yes\n",
    "# row = \"lopl\"   # yes\n",
    "row = \"orrtrp\" # yes\n",
    "\n",
    "length = len(row) // 2\n",
    "for i, j in zip(row[:length], row[::-1]):\n",
    "    if i == j:\n",
    "        print(\"yes\")\n",
    "        break\n",
    "else:\n",
    "    print(\"no\")"
   ]
  },
  {
   "cell_type": "code",
   "execution_count": 227,
   "metadata": {},
   "outputs": [
    {
     "name": "stdout",
     "output_type": "stream",
     "text": [
      "no\n"
     ]
    }
   ],
   "source": [
    "row = \"hello\"  # no\n",
    "# row = \"lol\"    # yes\n",
    "# row = \"lopl\"   # yes\n",
    "# row = \"orrtrp\" # yes\n",
    "\n",
    "length = len(row) // 2\n",
    "resul = \"no\"\n",
    "for i, j in zip(row[:length], row[::-1]):\n",
    "    if i == j:\n",
    "        resul = \"yes\"\n",
    "        break\n",
    "print(resul)"
   ]
  },
  {
   "cell_type": "code",
   "execution_count": 233,
   "metadata": {},
   "outputs": [
    {
     "name": "stdout",
     "output_type": "stream",
     "text": [
      "no\n"
     ]
    }
   ],
   "source": [
    "row = \"hello\"  # no\n",
    "# row = \"lol\"    # yes\n",
    "# row = \"lopl\"   # yes\n",
    "# row = \"orrtrp\" # yes\n",
    "\n",
    "for i in range(len(row) // 2):\n",
    "    if row[i] == row[-(1 + i)]:\n",
    "        print(\"yes\")\n",
    "        break\n",
    "else:\n",
    "    print(\"no\")"
   ]
  },
  {
   "cell_type": "code",
   "execution_count": 234,
   "metadata": {},
   "outputs": [
    {
     "data": {
      "text/plain": [
       "[5, 8, 11, 13, 5, 8]"
      ]
     },
     "execution_count": 234,
     "metadata": {},
     "output_type": "execute_result"
    }
   ],
   "source": [
    "arr1 = [1, 2, 3, 4, 5, 6]\n",
    "arr2 = [4, 6, 8, 9, 0, 2]\n",
    "\n",
    "arr3 = []\n",
    "for i, j in zip(arr1, arr2):\n",
    "    arr3.append(i + j)\n",
    "arr3"
   ]
  }
 ],
 "metadata": {
  "kernelspec": {
   "display_name": "Python 3",
   "language": "python",
   "name": "python3"
  },
  "language_info": {
   "codemirror_mode": {
    "name": "ipython",
    "version": 3
   },
   "file_extension": ".py",
   "mimetype": "text/x-python",
   "name": "python",
   "nbconvert_exporter": "python",
   "pygments_lexer": "ipython3",
   "version": "3.7.3"
  }
 },
 "nbformat": 4,
 "nbformat_minor": 2
}
