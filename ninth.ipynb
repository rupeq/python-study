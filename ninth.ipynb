{
 "cells": [
  {
   "cell_type": "code",
   "execution_count": 4,
   "metadata": {},
   "outputs": [
    {
     "data": {
      "text/plain": [
       "7"
      ]
     },
     "execution_count": 4,
     "metadata": {},
     "output_type": "execute_result"
    }
   ],
   "source": [
    "def hello(a=8, b=4):\n",
    "    return a + b\n",
    "\n",
    "hello(1, 6)"
   ]
  },
  {
   "cell_type": "code",
   "execution_count": 7,
   "metadata": {},
   "outputs": [
    {
     "data": {
      "text/plain": [
       "14"
      ]
     },
     "execution_count": 7,
     "metadata": {},
     "output_type": "execute_result"
    }
   ],
   "source": [
    "def hello(a=8, b=4):\n",
    "    return a + b\n",
    "\n",
    "hello(b=6)"
   ]
  },
  {
   "cell_type": "code",
   "execution_count": 13,
   "metadata": {},
   "outputs": [
    {
     "data": {
      "text/plain": [
       "13"
      ]
     },
     "execution_count": 13,
     "metadata": {},
     "output_type": "execute_result"
    }
   ],
   "source": [
    "def hello(*, a, b):\n",
    "    return a + b\n",
    "\n",
    "hello(a=5, b=8)"
   ]
  },
  {
   "cell_type": "code",
   "execution_count": 16,
   "metadata": {},
   "outputs": [
    {
     "data": {
      "text/plain": [
       "'rocket has started to x = 40 y = 30'"
      ]
     },
     "execution_count": 16,
     "metadata": {},
     "output_type": "execute_result"
    }
   ],
   "source": [
    "def rocket_start(*, x, y):\n",
    "    return f\"rocket has started to x = {x} y = {y}\"\n",
    "\n",
    "rocket_start(y=30, x=40)"
   ]
  },
  {
   "cell_type": "code",
   "execution_count": 20,
   "metadata": {},
   "outputs": [
    {
     "data": {
      "text/plain": [
       "'20 rockets have started to x = 50 y = 70'"
      ]
     },
     "execution_count": 20,
     "metadata": {},
     "output_type": "execute_result"
    }
   ],
   "source": [
    "def rocket_start(count, *, x, y): # (position, *, key-wordonly)\n",
    "    return f\"{count} rockets have started to x = {x} y = {y}\"\n",
    "\n",
    "rocket_start(20, x=50, y=70)"
   ]
  },
  {
   "cell_type": "markdown",
   "metadata": {},
   "source": [
    "---"
   ]
  },
  {
   "cell_type": "code",
   "execution_count": 23,
   "metadata": {},
   "outputs": [
    {
     "name": "stdout",
     "output_type": "stream",
     "text": [
      "hello Egor\n",
      "hello Pavel\n",
      "hello Svetlana\n"
     ]
    }
   ],
   "source": [
    "def name_of_children(*args):\n",
    "    for i in args:\n",
    "        print(f\"hello {i}\")\n",
    "\n",
    "name_of_children(\"Egor\", \"Pavel\", \"Svetlana\")"
   ]
  },
  {
   "cell_type": "code",
   "execution_count": 26,
   "metadata": {},
   "outputs": [
    {
     "name": "stdout",
     "output_type": "stream",
     "text": [
      "('Egor', 'Pavel', 'Svetlana')\n",
      "{'te': 'Mariy', 'a': 7}\n"
     ]
    }
   ],
   "source": [
    "def name_of_children(*args, **kwargs):\n",
    "    print(args)\n",
    "    print(kwargs)\n",
    "\n",
    "name_of_children(\"Egor\", \"Pavel\", \"Svetlana\", te=\"Mariy\", a=7)"
   ]
  },
  {
   "cell_type": "code",
   "execution_count": 31,
   "metadata": {},
   "outputs": [
    {
     "name": "stdout",
     "output_type": "stream",
     "text": [
      "x is Egor\n",
      "('Pavel', 'Svetlana')\n",
      "{'te': 'Mariy', 'a': 7}\n"
     ]
    }
   ],
   "source": [
    "def name_of_children(x, *args, **kwargs):\n",
    "    print(f\"x is {x}\")\n",
    "    print(args)\n",
    "    print(kwargs)\n",
    "\n",
    "name_of_children(\"Egor\", \"Pavel\", \"Svetlana\", te=\"Mariy\", a=7)"
   ]
  },
  {
   "cell_type": "code",
   "execution_count": 40,
   "metadata": {},
   "outputs": [
    {
     "name": "stdout",
     "output_type": "stream",
     "text": [
      "te is Mariy\n",
      "x is Egor\n",
      "('Pavel', 'Svetlana')\n",
      "{'a': 7}\n"
     ]
    }
   ],
   "source": [
    "def name_of_children(x, *args, te=\"Sergey\", **kwargs):\n",
    "    print(f\"te is {te}\")\n",
    "    print(f\"x is {x}\")\n",
    "    print(args)\n",
    "    print(kwargs)\n",
    "\n",
    "name_of_children(\"Egor\", \"Pavel\", \"Svetlana\", te=\"Mariy\", a=7)"
   ]
  },
  {
   "cell_type": "markdown",
   "metadata": {},
   "source": [
    "---"
   ]
  },
  {
   "cell_type": "code",
   "execution_count": 51,
   "metadata": {},
   "outputs": [
    {
     "data": {
      "text/plain": [
       "True"
      ]
     },
     "execution_count": 51,
     "metadata": {},
     "output_type": "execute_result"
    }
   ],
   "source": [
    "all([1, True, \"e\"])"
   ]
  },
  {
   "cell_type": "code",
   "execution_count": 52,
   "metadata": {},
   "outputs": [
    {
     "data": {
      "text/plain": [
       "True"
      ]
     },
     "execution_count": 52,
     "metadata": {},
     "output_type": "execute_result"
    }
   ],
   "source": [
    "def my_all(arr):\n",
    "    result = 1\n",
    "    for i in arr:\n",
    "        result *= bool(i)\n",
    "    return bool(result)\n",
    "\n",
    "my_all([1, True, \"t\"])"
   ]
  },
  {
   "cell_type": "code",
   "execution_count": 56,
   "metadata": {},
   "outputs": [
    {
     "data": {
      "text/plain": [
       "True"
      ]
     },
     "execution_count": 56,
     "metadata": {},
     "output_type": "execute_result"
    }
   ],
   "source": [
    "any([1, 0, False, None, \"\"])"
   ]
  },
  {
   "cell_type": "code",
   "execution_count": 60,
   "metadata": {},
   "outputs": [
    {
     "data": {
      "text/plain": [
       "True"
      ]
     },
     "execution_count": 60,
     "metadata": {},
     "output_type": "execute_result"
    }
   ],
   "source": [
    "def my_any(arr):\n",
    "    result = 0\n",
    "    for i in arr:\n",
    "        result += bool(i)\n",
    "    return bool(result)\n",
    "my_any([1, 0, False, None, \"\"])"
   ]
  },
  {
   "cell_type": "markdown",
   "metadata": {},
   "source": [
    "---"
   ]
  },
  {
   "cell_type": "code",
   "execution_count": 204,
   "metadata": {},
   "outputs": [
    {
     "data": {
      "text/plain": [
       "[1, 4, 9, 16, 25]"
      ]
     },
     "execution_count": 204,
     "metadata": {},
     "output_type": "execute_result"
    }
   ],
   "source": [
    "arr = [1, 2, 3, 4, 5]\n",
    "\n",
    "def sq(x):\n",
    "    return x * x\n",
    "\n",
    "list(map(sq, arr))"
   ]
  },
  {
   "cell_type": "code",
   "execution_count": 66,
   "metadata": {},
   "outputs": [
    {
     "data": {
      "text/plain": [
       "[2, 4, 6]"
      ]
     },
     "execution_count": 66,
     "metadata": {},
     "output_type": "execute_result"
    }
   ],
   "source": [
    "arr = [1, 2, 3, 4, 5, 6]\n",
    "\n",
    "def check_even(x):\n",
    "    return not x % 2\n",
    "\n",
    "list(filter(even, arr))"
   ]
  },
  {
   "cell_type": "code",
   "execution_count": 67,
   "metadata": {},
   "outputs": [
    {
     "data": {
      "text/plain": [
       "[15, 65, 95]"
      ]
     },
     "execution_count": 67,
     "metadata": {},
     "output_type": "execute_result"
    }
   ],
   "source": [
    "arr = [15, 23, 21, 12, 65, 34, 95]\n",
    "\n",
    "def check_five(x):\n",
    "    return x % 10 == 5\n",
    "\n",
    "list(filter(check_five, arr))"
   ]
  },
  {
   "cell_type": "code",
   "execution_count": 202,
   "metadata": {},
   "outputs": [
    {
     "data": {
      "text/plain": [
       "[5.0, 5.0]"
      ]
     },
     "execution_count": 202,
     "metadata": {},
     "output_type": "execute_result"
    }
   ],
   "source": [
    "from random import randint\n",
    "from math import sqrt\n",
    "\n",
    "arr = [randint(1, 10) for i in range(10)]\n",
    "\n",
    "def sq(x):\n",
    "    return x * x\n",
    "\n",
    "def check_five(x):\n",
    "    return x % 10 == 5\n",
    "\n",
    "list(map(sqrt, filter(check_five, map(sq, arr))))"
   ]
  },
  {
   "cell_type": "code",
   "execution_count": null,
   "metadata": {},
   "outputs": [],
   "source": [
    "20 чисел, 5 знаков, 20 сумма\n",
    "\n",
    "55550"
   ]
  },
  {
   "cell_type": "code",
   "execution_count": 227,
   "metadata": {},
   "outputs": [
    {
     "data": {
      "text/plain": [
       "[10199,\n",
       " 10289,\n",
       " 10298,\n",
       " 10379,\n",
       " 10388,\n",
       " 10397,\n",
       " 10469,\n",
       " 10478,\n",
       " 10487,\n",
       " 10496,\n",
       " 10559,\n",
       " 10568,\n",
       " 10577,\n",
       " 10586,\n",
       " 10595,\n",
       " 10649,\n",
       " 10658,\n",
       " 10667,\n",
       " 10676,\n",
       " 10685]"
      ]
     },
     "execution_count": 227,
     "metadata": {},
     "output_type": "execute_result"
    }
   ],
   "source": [
    "def fun(digit):\n",
    "    result = 0\n",
    "    while digit:\n",
    "        result += digit % 10\n",
    "        digit //= 10\n",
    "    return result == 20\n",
    "    \n",
    "list(filter(fun, range(10 ** 4, 10 ** 5)))[:20]"
   ]
  },
  {
   "cell_type": "code",
   "execution_count": 221,
   "metadata": {},
   "outputs": [],
   "source": [
    "# list(filter(lambda x: not any(filter(lambda y: not x % y, range(2, x))), range(2, 100)))"
   ]
  },
  {
   "cell_type": "code",
   "execution_count": 229,
   "metadata": {
    "collapsed": true
   },
   "outputs": [
    {
     "name": "stdout",
     "output_type": "stream",
     "text": [
      "а\n",
      "аба\n",
      "ага\n",
      "ара\n",
      "б\n",
      "боб\n",
      "в\n",
      "дед\n",
      "довод\n",
      "доход\n",
      "е\n",
      "еле\n",
      "еле-еле\n",
      "еще\n",
      "ё\n",
      "ж\n",
      "заказ\n",
      "зараз\n",
      "и\n",
      "или\n",
      "к\n",
      "кабак\n",
      "казак\n",
      "как\n",
      "кик\n",
      "киник\n",
      "кок\n",
      "колок\n",
      "комок\n",
      "косок\n",
      "лал\n",
      "мадам\n",
      "мим\n",
      "мм\n",
      "моном\n",
      "наган\n",
      "нойон\n",
      "о\n",
      "обо\n",
      "ого\n",
      "око\n",
      "оно\n",
      "ото\n",
      "поп\n",
      "потоп\n",
      "пуп\n",
      "радар\n",
      "репер\n",
      "ротатор\n",
      "ротор\n",
      "с\n",
      "тат\n",
      "тет-а-тет\n",
      "топот\n",
      "тот\n",
      "тут\n",
      "у\n",
      "угу\n",
      "цыц\n",
      "шабаш\n",
      "шалаш\n",
      "шиш\n",
      "ы\n",
      "э\n",
      "ю\n",
      "я\n",
      "\n"
     ]
    }
   ],
   "source": [
    "def fun(word):\n",
    "    word = word.rstrip()\n",
    "    return word == word[::-1]\n",
    "\n",
    "with open(r\"C:\\Users\\Student\\Downloads\\zaliznyak.txt\") as file:\n",
    "    print(\"\".join(filter(fun, file)))"
   ]
  },
  {
   "cell_type": "code",
   "execution_count": 237,
   "metadata": {},
   "outputs": [
    {
     "data": {
      "text/plain": [
       "'AAFFFGGGGG'"
      ]
     },
     "execution_count": 237,
     "metadata": {},
     "output_type": "execute_result"
    }
   ],
   "source": [
    "row = \"A2F3G5\"#  -- >  \"AAFFFGGGGG\"\n",
    "def mul(row):\n",
    "    return row[0] * int(row[1])\n",
    "\n",
    "\"\".join(map(mul, [row[i:i + 2] for i in range(0, len(row) - 1, 2)]))"
   ]
  },
  {
   "cell_type": "code",
   "execution_count": 256,
   "metadata": {},
   "outputs": [
    {
     "data": {
      "text/plain": [
       "72"
      ]
     },
     "execution_count": 256,
     "metadata": {},
     "output_type": "execute_result"
    }
   ],
   "source": [
    "arr = [randint(1, 10) for i in range(20)]\n",
    "\n",
    "def check_even(x):\n",
    "    return not x % 2\n",
    "\n",
    "sum(filter(check_even, arr))"
   ]
  },
  {
   "cell_type": "code",
   "execution_count": 259,
   "metadata": {},
   "outputs": [
    {
     "data": {
      "text/plain": [
       "['Gaben', 'Godjima', 'Tonny', 'Eltsin', 'Nikolay', 'Ivan']"
      ]
     },
     "execution_count": 259,
     "metadata": {},
     "output_type": "execute_result"
    }
   ],
   "source": [
    "all_user = [\"Ga_ben\", \"God,jima\", \"To@nny\", \"El-ts-in\", \"N0ikolay\", \"I1van\"]\n",
    "\n",
    "# def do_clear(word):\n",
    "#     result = \"\"\n",
    "#     for letter in word:\n",
    "#         if letter.isalpha():\n",
    "#             result += letter\n",
    "#     return result\n",
    "\n",
    "def do_clear(word):\n",
    "    return \"\".join([letter for letter in word if letter.isalpha()])\n",
    "\n",
    "list(map(do_clear, all_user))"
   ]
  },
  {
   "cell_type": "code",
   "execution_count": 262,
   "metadata": {},
   "outputs": [
    {
     "data": {
      "text/plain": [
       "['Gaben', 'Godjima', 'Tonny', 'Eltsin', 'Nikolay', 'Ivan']"
      ]
     },
     "execution_count": 262,
     "metadata": {},
     "output_type": "execute_result"
    }
   ],
   "source": [
    "list(map(lambda word:\"\".join([letter for letter in word if letter.isalpha()]), all_user))"
   ]
  },
  {
   "cell_type": "code",
   "execution_count": 261,
   "metadata": {},
   "outputs": [
    {
     "data": {
      "text/plain": [
       "25"
      ]
     },
     "execution_count": 261,
     "metadata": {},
     "output_type": "execute_result"
    }
   ],
   "source": [
    "f = lambda x: x ** 2\n",
    "f(5)"
   ]
  },
  {
   "cell_type": "code",
   "execution_count": 268,
   "metadata": {},
   "outputs": [
    {
     "data": {
      "text/plain": [
       "{'Gaben'}"
      ]
     },
     "execution_count": 268,
     "metadata": {},
     "output_type": "execute_result"
    }
   ],
   "source": [
    "all_user = ['Gaben', 'Godjima', 'Tonny', 'Gaben', 'Eltsin', 'Nikolay', 'Ivan']\n",
    "result = set()\n",
    "\n",
    "for user in all_user:\n",
    "    if all_user.count(user) > 1:\n",
    "        result.add(user)\n",
    "result"
   ]
  },
  {
   "cell_type": "code",
   "execution_count": 270,
   "metadata": {},
   "outputs": [
    {
     "data": {
      "text/plain": [
       "'Gaben'"
      ]
     },
     "execution_count": 270,
     "metadata": {},
     "output_type": "execute_result"
    }
   ],
   "source": [
    "all_user = ['Gaben', 'Godjima', 'Tonny', 'Gaben', 'Eltsin', 'Nikolay', 'Ivan']\n",
    "result = {}\n",
    "\n",
    "for user in all_user:\n",
    "    if user in result:\n",
    "        result[user] += 1\n",
    "    else:\n",
    "        result[user] = 1\n",
    "\n",
    "max(result, key=result.get)"
   ]
  },
  {
   "cell_type": "code",
   "execution_count": 280,
   "metadata": {},
   "outputs": [
    {
     "data": {
      "text/plain": [
       "[('Gaben', 2)]"
      ]
     },
     "execution_count": 280,
     "metadata": {},
     "output_type": "execute_result"
    }
   ],
   "source": [
    "from collections import Counter\n",
    "\n",
    "all_user = ['Gaben', 'Godjima', 'Tonny', 'Gaben', 'Eltsin', 'Nikolay', 'Ivan']\n",
    "d = Counter(all_user)\n",
    "d.most_common(1)"
   ]
  },
  {
   "cell_type": "code",
   "execution_count": 281,
   "metadata": {},
   "outputs": [
    {
     "name": "stdout",
     "output_type": "stream",
     "text": [
      "3\n"
     ]
    }
   ],
   "source": [
    "arr = [1, 2, 3, 2, 1]\n",
    "\n",
    "for digit in arr:\n",
    "    if arr.count(digit) == 1:\n",
    "        print(digit)"
   ]
  },
  {
   "cell_type": "code",
   "execution_count": 284,
   "metadata": {},
   "outputs": [
    {
     "data": {
      "text/plain": [
       "3"
      ]
     },
     "execution_count": 284,
     "metadata": {},
     "output_type": "execute_result"
    }
   ],
   "source": [
    "arr = [1, 2, 3, 2, 1]\n",
    "res = Counter(arr)\n",
    "res.most_common()[-1][0]"
   ]
  },
  {
   "cell_type": "code",
   "execution_count": 293,
   "metadata": {},
   "outputs": [
    {
     "data": {
      "text/plain": [
       "3"
      ]
     },
     "execution_count": 293,
     "metadata": {},
     "output_type": "execute_result"
    }
   ],
   "source": [
    "arr = [1, 2, 3, 2, 1]\n",
    "sum(set(arr)) * 2 - sum(arr)"
   ]
  },
  {
   "cell_type": "markdown",
   "metadata": {},
   "source": [
    "---"
   ]
  },
  {
   "cell_type": "markdown",
   "metadata": {},
   "source": [
    "13:05 -> 785  \n",
    "00:00 -> 0  \n",
    "00:42 -> 42  \n",
    "13:37 -> 817  \n",
    "12:30 -> 750"
   ]
  },
  {
   "cell_type": "code",
   "execution_count": 295,
   "metadata": {},
   "outputs": [
    {
     "data": {
      "text/plain": [
       "817"
      ]
     },
     "execution_count": 295,
     "metadata": {},
     "output_type": "execute_result"
    }
   ],
   "source": [
    "def convert2minutes(row):\n",
    "    row = row.split(\":\")\n",
    "    row = list(map(int, row))\n",
    "    return row[0] * 60 + row[1]\n",
    "convert2minutes(\"13:37\")"
   ]
  },
  {
   "cell_type": "code",
   "execution_count": null,
   "metadata": {},
   "outputs": [],
   "source": [
    "\"13:05 - 10:30\""
   ]
  },
  {
   "cell_type": "code",
   "execution_count": 298,
   "metadata": {},
   "outputs": [
    {
     "data": {
      "text/plain": [
       "-85"
      ]
     },
     "execution_count": 298,
     "metadata": {},
     "output_type": "execute_result"
    }
   ],
   "source": [
    "def find_delta(row):\n",
    "    row = row.split(\" - \")\n",
    "    return convert2minutes(row[0]) - convert2minutes(row[1])\n",
    "\n",
    "find_delta(\"9:05 - 10:30\")"
   ]
  }
 ],
 "metadata": {
  "kernelspec": {
   "display_name": "Python 3",
   "language": "python",
   "name": "python3"
  },
  "language_info": {
   "codemirror_mode": {
    "name": "ipython",
    "version": 3
   },
   "file_extension": ".py",
   "mimetype": "text/x-python",
   "name": "python",
   "nbconvert_exporter": "python",
   "pygments_lexer": "ipython3",
   "version": "3.7.3"
  }
 },
 "nbformat": 4,
 "nbformat_minor": 2
}
