{
 "cells": [
  {
   "cell_type": "code",
   "execution_count": null,
   "metadata": {},
   "outputs": [],
   "source": [
    "5! = 5 * 4 * 3 * 2 * 1\n",
    "\n",
    "5! = 5 * 4! # 5 * 24 = 120\n",
    "4! = 4 * 3! # 24\n",
    "3! = 3 * 2! # 6\n",
    "2! = 2 * 1! # 2\n",
    "1! = 1 * 0! # 1\n",
    "0! = 1"
   ]
  },
  {
   "cell_type": "code",
   "execution_count": 33,
   "metadata": {},
   "outputs": [
    {
     "data": {
      "text/plain": [
       "120"
      ]
     },
     "execution_count": 33,
     "metadata": {},
     "output_type": "execute_result"
    }
   ],
   "source": [
    "def fact(x):\n",
    "    if x > 0:\n",
    "        return x * fact(x - 1) # 5 * fact(4) | 4 * fact(3) | 3 * fact(2) | 2 * fact(1) | 1 * fact(0)\n",
    "    return 1\n",
    "\n",
    "fact(5)"
   ]
  },
  {
   "cell_type": "code",
   "execution_count": 34,
   "metadata": {},
   "outputs": [
    {
     "data": {
      "text/plain": [
       "120"
      ]
     },
     "execution_count": 34,
     "metadata": {},
     "output_type": "execute_result"
    }
   ],
   "source": [
    "def fact(x):\n",
    "    return x * fact(x - 1) if x else 1\n",
    "\n",
    "fact(5)"
   ]
  },
  {
   "cell_type": "code",
   "execution_count": 35,
   "metadata": {},
   "outputs": [
    {
     "data": {
      "text/plain": [
       "8"
      ]
     },
     "execution_count": 35,
     "metadata": {},
     "output_type": "execute_result"
    }
   ],
   "source": [
    "pow(2, 3)"
   ]
  },
  {
   "cell_type": "code",
   "execution_count": 36,
   "metadata": {},
   "outputs": [
    {
     "data": {
      "text/plain": [
       "8"
      ]
     },
     "execution_count": 36,
     "metadata": {},
     "output_type": "execute_result"
    }
   ],
   "source": [
    "def my_pow(x, p):\n",
    "    if p:\n",
    "        return x * my_pow(x, p - 1)\n",
    "    return 1\n",
    "\n",
    "my_pow(2, 3)"
   ]
  },
  {
   "cell_type": "code",
   "execution_count": 37,
   "metadata": {},
   "outputs": [
    {
     "data": {
      "text/plain": [
       "8"
      ]
     },
     "execution_count": 37,
     "metadata": {},
     "output_type": "execute_result"
    }
   ],
   "source": [
    "def my_pow(x, p):\n",
    "    return x * my_pow(x, p - 1) if p else 1\n",
    "\n",
    "my_pow(2, 3)"
   ]
  },
  {
   "cell_type": "code",
   "execution_count": null,
   "metadata": {},
   "outputs": [],
   "source": [
    "my_pow(2, 3) -> 8\n",
    "my_pow(2, 2) -> 4\n",
    "my_pow(2, 1) -> 2\n",
    "my_pow(2, 0) -> 1"
   ]
  },
  {
   "cell_type": "code",
   "execution_count": 40,
   "metadata": {},
   "outputs": [
    {
     "data": {
      "text/plain": [
       "15"
      ]
     },
     "execution_count": 40,
     "metadata": {},
     "output_type": "execute_result"
    }
   ],
   "source": [
    "def my_mul(x, y):\n",
    "    return x + my_mul(x, y - 1) if y else 0\n",
    "\n",
    "def my_mul(x, y):\n",
    "    if y:\n",
    "        return x + my_mul(x, y - 1)\n",
    "    return 0\n",
    "\n",
    "my_mul(5, 3)"
   ]
  },
  {
   "cell_type": "code",
   "execution_count": null,
   "metadata": {},
   "outputs": [],
   "source": [
    "my_mul(5, 3) -> 15\n",
    "my_mul(5, 2) -> 10\n",
    "my_mul(5, 1) -> 5\n",
    "my_mul(5, 0) -> 0"
   ]
  },
  {
   "cell_type": "markdown",
   "metadata": {},
   "source": [
    "---"
   ]
  },
  {
   "cell_type": "code",
   "execution_count": 42,
   "metadata": {},
   "outputs": [
    {
     "data": {
      "text/plain": [
       "8"
      ]
     },
     "execution_count": 42,
     "metadata": {},
     "output_type": "execute_result"
    }
   ],
   "source": [
    "def my_pow(x, p):\n",
    "    return my_mul(x, my_pow(x, p - 1)) if p else 1\n",
    "\n",
    "def my_pow(x, p):\n",
    "    if p:\n",
    "        return my_mul(x, my_pow(x, p - 1))\n",
    "    return 1\n",
    "\n",
    "my_pow(2, 3)"
   ]
  },
  {
   "cell_type": "markdown",
   "metadata": {},
   "source": [
    "---"
   ]
  },
  {
   "cell_type": "code",
   "execution_count": 45,
   "metadata": {},
   "outputs": [
    {
     "name": "stdout",
     "output_type": "stream",
     "text": [
      "*\n",
      "*\n",
      "*\n",
      "*\n",
      "*\n"
     ]
    }
   ],
   "source": [
    "def plot_star(n):\n",
    "    if n:\n",
    "        print(\"*\")\n",
    "        plot_star(n - 1)\n",
    "\n",
    "plot_star(5)"
   ]
  },
  {
   "cell_type": "code",
   "execution_count": 48,
   "metadata": {},
   "outputs": [
    {
     "name": "stdout",
     "output_type": "stream",
     "text": [
      "*\n",
      "*\n",
      "*\n",
      "*\n",
      "*\n",
      "\n"
     ]
    }
   ],
   "source": [
    "def plot_star(n):\n",
    "    if n:\n",
    "        return f\"*\\n{plot_star(n - 1)}\"\n",
    "    return \"\"\n",
    "\n",
    "print(plot_star(5))"
   ]
  },
  {
   "cell_type": "code",
   "execution_count": 53,
   "metadata": {},
   "outputs": [
    {
     "name": "stdout",
     "output_type": "stream",
     "text": [
      "*\t*\t*\t\n"
     ]
    }
   ],
   "source": [
    "def plot_star(n):\n",
    "    return f\"*\\t{plot_star(n - 1)}\" if n else \"\"\n",
    "\n",
    "print(plot_star(3))"
   ]
  },
  {
   "cell_type": "code",
   "execution_count": 58,
   "metadata": {},
   "outputs": [
    {
     "name": "stdout",
     "output_type": "stream",
     "text": [
      "* * * \n",
      "*\t*\t*\t\n",
      "*\n",
      "*\n",
      "*\n",
      "\n"
     ]
    }
   ],
   "source": [
    "def plot_star(n, sep=\" \"):\n",
    "    return f\"*{sep}{plot_star(n - 1, sep)}\" if n else \"\"\n",
    "\n",
    "print(plot_star(3))\n",
    "print(plot_star(3, sep=\"\\t\"))\n",
    "print(plot_star(3, sep=\"\\n\"))"
   ]
  },
  {
   "cell_type": "code",
   "execution_count": 62,
   "metadata": {},
   "outputs": [
    {
     "name": "stdout",
     "output_type": "stream",
     "text": [
      "h\n",
      "he\n",
      "hel\n",
      "hell\n",
      "hello\n",
      "hello \n",
      "hello w\n",
      "hello wo\n",
      "hello wor\n",
      "hello worl\n",
      "hello world\n"
     ]
    }
   ],
   "source": [
    "def elka(row):\n",
    "    if row:\n",
    "        elka(row[:-1])\n",
    "        print(row)\n",
    "\n",
    "elka(\"hello world\")"
   ]
  },
  {
   "cell_type": "code",
   "execution_count": 65,
   "metadata": {},
   "outputs": [
    {
     "name": "stdout",
     "output_type": "stream",
     "text": [
      "hello world\n",
      "hello worl\n",
      "hello wor\n",
      "hello wo\n",
      "hello w\n",
      "hello \n",
      "hello\n",
      "hell\n",
      "hel\n",
      "he\n",
      "h\n",
      "\n"
     ]
    }
   ],
   "source": [
    "def elka(row):\n",
    "    if row:\n",
    "        return f\"{row}\\n{elka(row[:-1])}\"\n",
    "    return \"\"\n",
    "\n",
    "print(elka(\"hello world\"))"
   ]
  },
  {
   "cell_type": "code",
   "execution_count": 66,
   "metadata": {},
   "outputs": [
    {
     "name": "stdout",
     "output_type": "stream",
     "text": [
      "hello world\n",
      "hello worl\n",
      "hello wor\n",
      "hello wo\n",
      "hello w\n",
      "hello \n",
      "hello\n",
      "hell\n",
      "hel\n",
      "he\n",
      "h\n",
      "\n"
     ]
    }
   ],
   "source": [
    "def elka(row):\n",
    "        return f\"{row}\\n{elka(row[:-1])}\" if row else \"\"\n",
    "\n",
    "print(elka(\"hello world\"))"
   ]
  },
  {
   "cell_type": "markdown",
   "metadata": {},
   "source": [
    "hello world  \n",
    "hello worl  \n",
    "hello wor  \n",
    "hello wo  \n",
    "hello w  \n",
    "hello   \n",
    "hello  \n",
    "hell  \n",
    "hel  \n",
    "he  \n",
    "h  "
   ]
  },
  {
   "cell_type": "code",
   "execution_count": 106,
   "metadata": {},
   "outputs": [],
   "source": [
    "from random import randint, seed\n",
    "seed(3)\n",
    "arr = [randint(0, 10 ** 6) for i in range(10 ** 6)]\n",
    "# arr"
   ]
  },
  {
   "cell_type": "code",
   "execution_count": 29,
   "metadata": {},
   "outputs": [
    {
     "data": {
      "text/plain": [
       "13"
      ]
     },
     "execution_count": 29,
     "metadata": {},
     "output_type": "execute_result"
    }
   ],
   "source": [
    "arr[10]"
   ]
  },
  {
   "cell_type": "code",
   "execution_count": 30,
   "metadata": {},
   "outputs": [
    {
     "name": "stdout",
     "output_type": "stream",
     "text": [
      "found it 13\n",
      "Wall time: 0 ns\n"
     ]
    }
   ],
   "source": [
    "%%time\n",
    "digit = 13\n",
    "for i in arr:\n",
    "    if digit == i:\n",
    "        print(f\"found it {i}\")\n",
    "        break\n",
    "else:\n",
    "    print(f\"{digit} is not in arr\")"
   ]
  },
  {
   "cell_type": "markdown",
   "metadata": {},
   "source": [
    "O(n)"
   ]
  },
  {
   "cell_type": "code",
   "execution_count": 34,
   "metadata": {},
   "outputs": [
    {
     "name": "stdout",
     "output_type": "stream",
     "text": [
      "13 19\n",
      "Wall time: 113 ms\n"
     ]
    }
   ],
   "source": [
    "%%time\n",
    "# count = 0\n",
    "def double_search(arr, digit):\n",
    "#     global count\n",
    "#     count += 1\n",
    "    length = len(arr)\n",
    "    if length < 2 and arr[0] != digit:\n",
    "        return f\"{digit} is not in arr\"\n",
    "    if arr[0] == digit:\n",
    "        return digit\n",
    "    if arr[length // 2] > digit:\n",
    "        return double_search(arr[:length // 2], digit)\n",
    "    else:\n",
    "        return double_search(arr[length // 2:], digit)\n",
    "\n",
    "print(double_search(arr, 13), count)"
   ]
  },
  {
   "cell_type": "code",
   "execution_count": 32,
   "metadata": {},
   "outputs": [
    {
     "data": {
      "text/plain": [
       "19.931568569324174"
      ]
     },
     "execution_count": 32,
     "metadata": {},
     "output_type": "execute_result"
    }
   ],
   "source": [
    "from math import log2\n",
    "log2(10 ** 6)"
   ]
  },
  {
   "cell_type": "markdown",
   "metadata": {},
   "source": [
    "O(log(n))"
   ]
  },
  {
   "cell_type": "code",
   "execution_count": 39,
   "metadata": {},
   "outputs": [
    {
     "name": "stdout",
     "output_type": "stream",
     "text": [
      "13 0\n",
      "Wall time: 135 ms\n"
     ]
    }
   ],
   "source": [
    "%%time\n",
    "count = 0\n",
    "def double_search(arr, digit):\n",
    "    global count\n",
    "    length = len(arr)\n",
    "    index = length // 2\n",
    "    if length == 1 and arr[0] != digit:\n",
    "        return \"not found\"\n",
    "    elif arr[index] < digit:\n",
    "        return double_search(arr[index:], digit)\n",
    "    elif arr[index] > digit:\n",
    "        return double_search(arr[:index], digit)\n",
    "    else:\n",
    "        return arr[index]\n",
    "\n",
    "print(double_search(arr, 13), count)"
   ]
  },
  {
   "cell_type": "markdown",
   "metadata": {},
   "source": [
    "---"
   ]
  },
  {
   "cell_type": "code",
   "execution_count": 13,
   "metadata": {},
   "outputs": [],
   "source": [
    "from random import randint, seed\n",
    "seed(3)\n",
    "arr = [randint(0, 10 ** 6) for i in range(10 ** 4)]\n",
    "# arr"
   ]
  },
  {
   "cell_type": "code",
   "execution_count": 1,
   "metadata": {},
   "outputs": [],
   "source": [
    "def bouble_sort(arr):\n",
    "    flag = True\n",
    "    count = 0\n",
    "    while flag:\n",
    "        flag = False\n",
    "        for i in range(len(arr) - 1):\n",
    "            count += 1\n",
    "            if arr[i] > arr[i + 1]:\n",
    "                flag = True\n",
    "                arr[i], arr[i + 1] = arr[i + 1], arr[i]\n",
    "    return arr, count\n",
    "bouble_sort(arr)"
   ]
  },
  {
   "cell_type": "markdown",
   "metadata": {},
   "source": [
    "$$\n",
    "O(n^2)\n",
    "$$"
   ]
  },
  {
   "cell_type": "code",
   "execution_count": 7,
   "metadata": {},
   "outputs": [],
   "source": [
    "def quick_sort(arr):\n",
    "    if len(arr) < 2:\n",
    "        return arr\n",
    "    digit = arr[0]\n",
    "    left = []\n",
    "    middle = []\n",
    "    right = []\n",
    "    for i in arr:\n",
    "        if digit > i:\n",
    "            left.append(i)\n",
    "        elif digit == i:\n",
    "            middle.append(i)\n",
    "        else:\n",
    "            right.append(i)\n",
    "    return quick_sort(left) + middle + quick_sort(right)\n",
    "\n",
    "# quick_sort(arr)"
   ]
  },
  {
   "cell_type": "markdown",
   "metadata": {},
   "source": [
    "[30, 75, 69, 16, 47, 77, 60, 80, 74, 8]   -> [8, 16, 30, 47, 60, 69, 74, 75, 77, 80]\n",
    "[16, 8] [30]                   [75, 69, 47, 77, 60 , 80, 74]\n",
    "[8][16][] -> [8, 16]                [69, 47, 60, 74][75][77, 80]  -> [47, 60, 69, 74, 75, 77, 80]\n",
    "                              [47, 60][69][74]         [][77][80]\n",
    "                              [][47][60]"
   ]
  },
  {
   "cell_type": "markdown",
   "metadata": {},
   "source": [
    "$$\n",
    "O(n\\cdot \\log(n))\n",
    "$$"
   ]
  },
  {
   "cell_type": "code",
   "execution_count": 22,
   "metadata": {},
   "outputs": [
    {
     "name": "stdout",
     "output_type": "stream",
     "text": [
      "Wall time: 57 s\n"
     ]
    }
   ],
   "source": [
    "%%time\n",
    "_ = bouble_sort(arr)"
   ]
  },
  {
   "cell_type": "code",
   "execution_count": 21,
   "metadata": {
    "scrolled": false
   },
   "outputs": [
    {
     "name": "stdout",
     "output_type": "stream",
     "text": [
      "Wall time: 54 ms\n"
     ]
    }
   ],
   "source": [
    "%%time\n",
    "_ = quick_sort(arr)"
   ]
  },
  {
   "cell_type": "code",
   "execution_count": 28,
   "metadata": {},
   "outputs": [
    {
     "data": {
      "text/plain": [
       "<matplotlib.legend.Legend at 0x21c44cf24e0>"
      ]
     },
     "execution_count": 28,
     "metadata": {},
     "output_type": "execute_result"
    },
    {
     "data": {
      "image/png": "[encoded data removed]",
      "text/plain": [
       "<Figure size 432x288 with 1 Axes>"
      ]
     },
     "metadata": {
      "needs_background": "light"
     },
     "output_type": "display_data"
    }
   ],
   "source": [
    "from matplotlib import pyplot as plt\n",
    "from math import log2\n",
    "\n",
    "x = [i / 10 for i in range(1, 10 ** 3)]\n",
    "boble_sort_as = [i ** 2 for i in x]\n",
    "quick_sort_as = [i * log2(i) for i in x]\n",
    "\n",
    "plt.plot(x, boble_sort_as, label=\"boble_sort\")\n",
    "plt.plot(x, quick_sort_as, label=\"quick sort\")\n",
    "plt.grid()\n",
    "plt.legend()"
   ]
  },
  {
   "cell_type": "markdown",
   "metadata": {},
   "source": [
    "---"
   ]
  },
  {
   "cell_type": "markdown",
   "metadata": {},
   "source": [
    "Black Box (str -> str)\n",
    "abc def ghi -> aei\n",
    "how are you -> hru\n",
    "this life goes paid -> tied"
   ]
  },
  {
   "cell_type": "code",
   "execution_count": 29,
   "metadata": {},
   "outputs": [
    {
     "data": {
      "text/plain": [
       "'tied'"
      ]
     },
     "execution_count": 29,
     "metadata": {},
     "output_type": "execute_result"
    }
   ],
   "source": [
    "def f(row):\n",
    "    row = row.split()\n",
    "    result = \"\"\n",
    "    for index, word in enumerate(row):\n",
    "        result += word[index]\n",
    "    return result\n",
    "\n",
    "\n",
    "f(\"this life goes paid\")"
   ]
  },
  {
   "cell_type": "code",
   "execution_count": null,
   "metadata": {},
   "outputs": [],
   "source": [
    "Black Box (str -> str)\n",
    "abcaba -> aaabbcaaba\n",
    "dog goes home -> dooogg  gooees home\n",
    "coca cola -> cccooccaa cola\n",
    "my life -> my life"
   ]
  },
  {
   "cell_type": "code",
   "execution_count": 35,
   "metadata": {},
   "outputs": [
    {
     "data": {
      "text/plain": [
       "'aaabbcaaba'"
      ]
     },
     "execution_count": 35,
     "metadata": {},
     "output_type": "execute_result"
    }
   ],
   "source": [
    "from collections import Counter\n",
    "\n",
    "\n",
    "def f(row):\n",
    "    count = Counter(row)\n",
    "    result = \"\"\n",
    "    for letter in row:\n",
    "        result += letter * count[letter]\n",
    "        count[letter] -= 1\n",
    "    return result\n",
    "\n",
    "\n",
    "f(\"abcaba\")"
   ]
  },
  {
   "cell_type": "code",
   "execution_count": null,
   "metadata": {},
   "outputs": [],
   "source": [
    "Black Box (int, int -> bool)\n",
    "(0, 0) -> True\n",
    "(2, 2) -> False\n",
    "(1, 1) -> True"
   ]
  },
  {
   "cell_type": "code",
   "execution_count": null,
   "metadata": {},
   "outputs": [],
   "source": []
  }
 ],
 "metadata": {
  "kernelspec": {
   "display_name": "Python 3",
   "language": "python",
   "name": "python3"
  },
  "language_info": {
   "codemirror_mode": {
    "name": "ipython",
    "version": 3
   },
   "file_extension": ".py",
   "mimetype": "text/x-python",
   "name": "python",
   "nbconvert_exporter": "python",
   "pygments_lexer": "ipython3",
   "version": "3.7.3"
  }
 },
 "nbformat": 4,
 "nbformat_minor": 2
}
