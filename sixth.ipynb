{
 "cells": [
  {
   "cell_type": "code",
   "execution_count": 6,
   "metadata": {},
   "outputs": [
    {
     "name": "stdout",
     "output_type": "stream",
     "text": [
      "Wall time: 6.51 s\n"
     ]
    },
    {
     "data": {
      "text/plain": [
       "(77031, 350)"
      ]
     },
     "execution_count": 6,
     "metadata": {},
     "output_type": "execute_result"
    }
   ],
   "source": [
    "%%time\n",
    "limit = 10 ** 5\n",
    "max_digit = 0\n",
    "max_steps = 0\n",
    "\n",
    "for digit in range(1, limit):\n",
    "    current_steps = 0\n",
    "    origin_digit = digit\n",
    "    while digit != 1:\n",
    "        if digit % 2 == 0:\n",
    "            digit /= 2\n",
    "        else:\n",
    "            digit = digit * 3 + 1\n",
    "        current_steps += 1\n",
    "    if current_steps > max_steps:\n",
    "        max_steps = current_steps\n",
    "        max_digit = origin_digit\n",
    "max_digit, max_steps"
   ]
  },
  {
   "cell_type": "code",
   "execution_count": 7,
   "metadata": {},
   "outputs": [
    {
     "name": "stdout",
     "output_type": "stream",
     "text": [
      "Wall time: 4.98 s\n"
     ]
    },
    {
     "data": {
      "text/plain": [
       "(77031, 350)"
      ]
     },
     "execution_count": 7,
     "metadata": {},
     "output_type": "execute_result"
    }
   ],
   "source": [
    "%%time\n",
    "limit = 10 ** 5\n",
    "max_digit = 0\n",
    "max_steps = 0\n",
    "\n",
    "for digit in range(1, limit):\n",
    "    current_steps = 0\n",
    "    origin_digit = digit\n",
    "    while digit != 1:\n",
    "        if digit % 2 == 0:\n",
    "            digit //= 2    ###############\n",
    "        else:\n",
    "            digit = digit * 3 + 1\n",
    "        current_steps += 1\n",
    "    if current_steps > max_steps:\n",
    "        max_steps = current_steps\n",
    "        max_digit = origin_digit\n",
    "max_digit, max_steps"
   ]
  },
  {
   "cell_type": "code",
   "execution_count": 8,
   "metadata": {},
   "outputs": [
    {
     "name": "stdout",
     "output_type": "stream",
     "text": [
      "Wall time: 4.76 s\n"
     ]
    },
    {
     "data": {
      "text/plain": [
       "(77031, 350)"
      ]
     },
     "execution_count": 8,
     "metadata": {},
     "output_type": "execute_result"
    }
   ],
   "source": [
    "%%time\n",
    "limit = 10 ** 5\n",
    "max_digit = 0\n",
    "max_steps = 0\n",
    "\n",
    "for digit in range(1, limit):\n",
    "    current_steps = 0\n",
    "    origin_digit = digit\n",
    "    while digit != 1:\n",
    "        if not digit % 2:  ##########\n",
    "            digit //= 2\n",
    "        else:\n",
    "            digit = digit * 3 + 1\n",
    "        current_steps += 1\n",
    "    if current_steps > max_steps:\n",
    "        max_steps = current_steps\n",
    "        max_digit = origin_digit\n",
    "max_digit, max_steps"
   ]
  },
  {
   "cell_type": "code",
   "execution_count": 10,
   "metadata": {},
   "outputs": [
    {
     "name": "stdout",
     "output_type": "stream",
     "text": [
      "Wall time: 4.24 s\n"
     ]
    },
    {
     "data": {
      "text/plain": [
       "(77031, 350)"
      ]
     },
     "execution_count": 10,
     "metadata": {},
     "output_type": "execute_result"
    }
   ],
   "source": [
    "%%time\n",
    "limit = 10 ** 5\n",
    "max_digit = 0\n",
    "max_steps = 0\n",
    "\n",
    "for digit in range(1, limit):\n",
    "    current_steps = 0\n",
    "    origin_digit = digit\n",
    "    while digit != 1:\n",
    "        if digit % 2:  #############\n",
    "            digit = digit * 3 + 1#########3\n",
    "        else:\n",
    "            digit //= 2    ##########\n",
    "        current_steps += 1\n",
    "    if current_steps > max_steps:\n",
    "        max_steps = current_steps\n",
    "        max_digit = origin_digit\n",
    "max_digit, max_steps"
   ]
  },
  {
   "cell_type": "code",
   "execution_count": 12,
   "metadata": {},
   "outputs": [
    {
     "name": "stdout",
     "output_type": "stream",
     "text": [
      "Wall time: 3.09 s\n"
     ]
    },
    {
     "data": {
      "text/plain": [
       "(77031, 350)"
      ]
     },
     "execution_count": 12,
     "metadata": {},
     "output_type": "execute_result"
    }
   ],
   "source": [
    "%%time\n",
    "limit = 10 ** 5\n",
    "max_digit = 0\n",
    "max_steps = 0\n",
    "\n",
    "for digit in range(1, limit):\n",
    "    current_steps = 0\n",
    "    origin_digit = digit\n",
    "    while digit != 1:\n",
    "        if digit % 2:\n",
    "            digit = (digit * 3 + 1) // 2  ######\n",
    "            current_steps += 2            ######\n",
    "        else:\n",
    "            digit //= 2\n",
    "            current_steps += 1            ######\n",
    "    if current_steps > max_steps:\n",
    "        max_steps = current_steps\n",
    "        max_digit = origin_digit\n",
    "max_digit, max_steps"
   ]
  },
  {
   "cell_type": "code",
   "execution_count": 25,
   "metadata": {},
   "outputs": [
    {
     "name": "stdout",
     "output_type": "stream",
     "text": [
      "239 ms ± 37.4 ms per loop (mean ± std. dev. of 7 runs, 1 loop each)\n"
     ]
    }
   ],
   "source": [
    "%%timeit\n",
    "limit = 10 ** 5\n",
    "result = {1:0}\n",
    "\n",
    "for digit in range(2, limit):\n",
    "    current_steps = 0\n",
    "    origin_digit = digit\n",
    "    while True:\n",
    "        if digit % 2:\n",
    "            digit = (digit * 3 + 1) // 2\n",
    "            current_steps += 2\n",
    "        else:\n",
    "            digit //= 2\n",
    "            current_steps += 1\n",
    "        if digit in result:\n",
    "            result[origin_digit] = result[digit] + current_steps\n",
    "            break\n",
    "max(result, key=result.get)"
   ]
  },
  {
   "cell_type": "code",
   "execution_count": 24,
   "metadata": {},
   "outputs": [
    {
     "name": "stdout",
     "output_type": "stream",
     "text": [
      "178 ms ± 5.9 ms per loop (mean ± std. dev. of 7 runs, 10 loops each)\n"
     ]
    }
   ],
   "source": [
    "%%timeit\n",
    "limit = 10 ** 5\n",
    "result = {1:0}\n",
    "\n",
    "for digit in range(2, limit):\n",
    "    current_steps = 0\n",
    "    origin_digit = digit\n",
    "    while origin_digit <= digit:\n",
    "        if digit % 2:\n",
    "            digit = (digit * 3 + 1) // 2\n",
    "            current_steps += 2\n",
    "        else:\n",
    "            digit //= 2\n",
    "            current_steps += 1\n",
    "    result[origin_digit] = result[digit] + current_steps\n",
    "\n",
    "max(result, key=result.get)"
   ]
  },
  {
   "cell_type": "markdown",
   "metadata": {},
   "source": [
    "---"
   ]
  },
  {
   "cell_type": "code",
   "execution_count": 26,
   "metadata": {},
   "outputs": [],
   "source": [
    "def hello(x):\n",
    "    return x ** 2"
   ]
  },
  {
   "cell_type": "code",
   "execution_count": 27,
   "metadata": {},
   "outputs": [
    {
     "data": {
      "text/plain": [
       "16"
      ]
     },
     "execution_count": 27,
     "metadata": {},
     "output_type": "execute_result"
    }
   ],
   "source": [
    "hello(4)"
   ]
  },
  {
   "cell_type": "code",
   "execution_count": 29,
   "metadata": {},
   "outputs": [],
   "source": [
    "def fun(x, y):\n",
    "    s = x + y\n",
    "    m = x * y\n",
    "    y2 = y ** 2\n",
    "    x2 = x ** 2\n",
    "    return s, m, x2, y2"
   ]
  },
  {
   "cell_type": "code",
   "execution_count": 31,
   "metadata": {},
   "outputs": [],
   "source": [
    "result = fun(3, 4)"
   ]
  },
  {
   "cell_type": "code",
   "execution_count": 36,
   "metadata": {},
   "outputs": [
    {
     "data": {
      "text/plain": [
       "(7, 12, 9, 16)"
      ]
     },
     "execution_count": 36,
     "metadata": {},
     "output_type": "execute_result"
    }
   ],
   "source": [
    "result"
   ]
  },
  {
   "cell_type": "code",
   "execution_count": 46,
   "metadata": {},
   "outputs": [
    {
     "name": "stdout",
     "output_type": "stream",
     "text": [
      "7 12 9 16\n",
      "None\n"
     ]
    }
   ],
   "source": [
    "def fun(x, y):\n",
    "    s = x + y\n",
    "    m = x * y\n",
    "    y2 = y ** 2\n",
    "    x2 = x ** 2\n",
    "    print(s, m, x2, y2)\n",
    "\n",
    "result = fun(3, 4)\n",
    "print(result)"
   ]
  },
  {
   "cell_type": "markdown",
   "metadata": {},
   "source": [
    "---"
   ]
  },
  {
   "cell_type": "code",
   "execution_count": 48,
   "metadata": {},
   "outputs": [
    {
     "data": {
      "text/plain": [
       "(7, 10, 4, 25)"
      ]
     },
     "execution_count": 48,
     "metadata": {},
     "output_type": "execute_result"
    }
   ],
   "source": [
    "firs_digit = 2\n",
    "second_digit = 5\n",
    "\n",
    "def fun(x, y):\n",
    "    s = x + y\n",
    "    m = x * y\n",
    "    y2 = y ** 2\n",
    "    x2 = x ** 2\n",
    "    return s, m, x2, y2\n",
    "\n",
    "fun(firs_digit, second_digit)"
   ]
  },
  {
   "cell_type": "markdown",
   "metadata": {},
   "source": [
    "---"
   ]
  },
  {
   "cell_type": "code",
   "execution_count": 49,
   "metadata": {},
   "outputs": [
    {
     "data": {
      "text/plain": [
       "4"
      ]
     },
     "execution_count": 49,
     "metadata": {},
     "output_type": "execute_result"
    }
   ],
   "source": [
    "first_digit = 4\n",
    "\n",
    "def test(x):\n",
    "    x = 6\n",
    "\n",
    "test(firs_digit)\n",
    "\n",
    "first_digit"
   ]
  },
  {
   "cell_type": "code",
   "execution_count": 50,
   "metadata": {},
   "outputs": [
    {
     "data": {
      "text/plain": [
       "[4, 6]"
      ]
     },
     "execution_count": 50,
     "metadata": {},
     "output_type": "execute_result"
    }
   ],
   "source": [
    "arr = [4]\n",
    "\n",
    "def test(x):\n",
    "    x.append(6)\n",
    "\n",
    "test(arr)\n",
    "\n",
    "arr"
   ]
  },
  {
   "cell_type": "code",
   "execution_count": 61,
   "metadata": {},
   "outputs": [
    {
     "data": {
      "text/plain": [
       "94"
      ]
     },
     "execution_count": 61,
     "metadata": {},
     "output_type": "execute_result"
    }
   ],
   "source": [
    "def test(a, b=7):\n",
    "    return a + b\n",
    "\n",
    "test(4, 90)"
   ]
  },
  {
   "cell_type": "code",
   "execution_count": null,
   "metadata": {},
   "outputs": [],
   "source": [
    "def test(a, b=4):\n",
    "    return a + b\n",
    "\n",
    "test(4, 9)"
   ]
  },
  {
   "cell_type": "code",
   "execution_count": 67,
   "metadata": {},
   "outputs": [
    {
     "name": "stdout",
     "output_type": "stream",
     "text": [
      "Wall time: 1.98 s\n"
     ]
    },
    {
     "data": {
      "text/plain": [
       "837799"
      ]
     },
     "execution_count": 67,
     "metadata": {},
     "output_type": "execute_result"
    }
   ],
   "source": [
    "%%time\n",
    "\n",
    "def collatz(limit):\n",
    "    result = {1:0}\n",
    "    for digit in range(2, limit):\n",
    "        current_steps = 0\n",
    "        origin_digit = digit\n",
    "        while origin_digit <= digit:\n",
    "            if digit % 2:\n",
    "                digit = (digit * 3 + 1) // 2\n",
    "                current_steps += 2\n",
    "            else:\n",
    "                digit //= 2\n",
    "                current_steps += 1\n",
    "        result[origin_digit] = result[digit] + current_steps\n",
    "\n",
    "    return max(result, key=result.get)\n",
    "collatz(10 ** 6)    # 3.14| 1.98"
   ]
  },
  {
   "cell_type": "code",
   "execution_count": 70,
   "metadata": {},
   "outputs": [
    {
     "name": "stdout",
     "output_type": "stream",
     "text": [
      "5\n"
     ]
    }
   ],
   "source": [
    "x = 5\n",
    "def f():\n",
    "#     x = 3\n",
    "    print(x)\n",
    "f()"
   ]
  },
  {
   "cell_type": "markdown",
   "metadata": {},
   "source": [
    "---"
   ]
  },
  {
   "cell_type": "code",
   "execution_count": 93,
   "metadata": {},
   "outputs": [
    {
     "name": "stdout",
     "output_type": "stream",
     "text": [
      "837799\n",
      "1.8306560516357422\n"
     ]
    }
   ],
   "source": [
    "from time import time\n",
    "\n",
    "def collatz(limit):\n",
    "    result = {1:0}\n",
    "    for digit in range(2, limit):\n",
    "        current_steps = 0\n",
    "        origin_digit = digit\n",
    "        while origin_digit <= digit:\n",
    "            if digit % 2:\n",
    "                digit = (digit * 3 + 1) // 2\n",
    "                current_steps += 2\n",
    "            else:\n",
    "                digit //= 2\n",
    "                current_steps += 1\n",
    "        result[origin_digit] = result[digit] + current_steps\n",
    "\n",
    "    return max(result, key=result.get)\n",
    "\n",
    "start_time = time()\n",
    "print(collatz(10 ** 6))\n",
    "print(time() - start_time)"
   ]
  },
  {
   "cell_type": "code",
   "execution_count": 72,
   "metadata": {},
   "outputs": [],
   "source": [
    "from time import time"
   ]
  },
  {
   "cell_type": "code",
   "execution_count": 90,
   "metadata": {},
   "outputs": [
    {
     "data": {
      "text/plain": [
       "50.423800062071265"
      ]
     },
     "execution_count": 90,
     "metadata": {},
     "output_type": "execute_result"
    }
   ],
   "source": [
    "time() / 365 / 24 / 60 / 60"
   ]
  },
  {
   "cell_type": "markdown",
   "metadata": {},
   "source": [
    "---"
   ]
  },
  {
   "cell_type": "code",
   "execution_count": 5,
   "metadata": {},
   "outputs": [
    {
     "data": {
      "application/javascript": [
       "console.log(\"hello world\")\n"
      ],
      "text/plain": [
       "<IPython.core.display.Javascript object>"
      ]
     },
     "metadata": {},
     "output_type": "display_data"
    }
   ],
   "source": [
    "%%js\n",
    "console.log(\"hello world\")"
   ]
  },
  {
   "cell_type": "code",
   "execution_count": 6,
   "metadata": {},
   "outputs": [
    {
     "data": {
      "text/plain": [
       "'BAADCCD'"
      ]
     },
     "execution_count": 6,
     "metadata": {},
     "output_type": "execute_result"
    }
   ],
   "source": [
    "# \"ABBCDDC\" - > \"BAADCCD\"\n",
    "# A - B\n",
    "# B - A\n",
    "# C - D\n",
    "# D - C\n",
    "\n",
    "def convert_dna2rna(dna):\n",
    "    dna2rna = {\"A\":\"B\", \"B\":\"A\",\"C\":\"D\",\"D\":\"C\"}\n",
    "    result = \"\"\n",
    "    for letter in dna:\n",
    "        result += dna2rna[letter]\n",
    "    return result\n",
    "\n",
    "convert_dna2rna(\"ABBCDDC\")"
   ]
  },
  {
   "cell_type": "code",
   "execution_count": null,
   "metadata": {},
   "outputs": [],
   "source": [
    "Black Box\n",
    "a => 1\n",
    "b => 2\n",
    "d => 4\n",
    "k => 11\n",
    "z => 26"
   ]
  },
  {
   "cell_type": "code",
   "execution_count": 20,
   "metadata": {},
   "outputs": [
    {
     "data": {
      "text/plain": [
       "1"
      ]
     },
     "execution_count": 20,
     "metadata": {},
     "output_type": "execute_result"
    }
   ],
   "source": [
    "ord(\"a\") - 96"
   ]
  },
  {
   "cell_type": "code",
   "execution_count": 23,
   "metadata": {},
   "outputs": [
    {
     "data": {
      "text/plain": [
       "26"
      ]
     },
     "execution_count": 23,
     "metadata": {},
     "output_type": "execute_result"
    }
   ],
   "source": [
    "def f(letter):\n",
    "    result = ord(letter) - 96\n",
    "    return result\n",
    "\n",
    "f(\"z\")"
   ]
  },
  {
   "cell_type": "markdown",
   "metadata": {},
   "source": [
    "Напишите функцию f, которая получает число n  \n",
    "и возвращает матрицу нулей n x n: 2 => [[0, 0], [0, 0]]"
   ]
  },
  {
   "cell_type": "code",
   "execution_count": 25,
   "metadata": {},
   "outputs": [
    {
     "data": {
      "text/plain": [
       "[[0, 0, 0, 0, 0],\n",
       " [0, 0, 0, 0, 0],\n",
       " [0, 0, 0, 0, 0],\n",
       " [0, 0, 0, 0, 0],\n",
       " [0, 0, 0, 0, 0]]"
      ]
     },
     "execution_count": 25,
     "metadata": {},
     "output_type": "execute_result"
    }
   ],
   "source": [
    "def f(n):\n",
    "    result = []\n",
    "    for i in range(n):\n",
    "        row = []\n",
    "        for j in range(n):\n",
    "            row.append(0)\n",
    "        result.append(row)\n",
    "    return result\n",
    "f(5)"
   ]
  },
  {
   "cell_type": "code",
   "execution_count": 32,
   "metadata": {},
   "outputs": [
    {
     "data": {
      "text/plain": [
       "[5, 10, 15, 20, 25]"
      ]
     },
     "execution_count": 32,
     "metadata": {},
     "output_type": "execute_result"
    }
   ],
   "source": [
    "arr = [1, 2, 3, 4, 5]\n",
    "x = 5\n",
    "[5, 10, 15, 20, 25]\n",
    "\n",
    "def mul(mas, dig):\n",
    "    result = []\n",
    "    for elem in mas:\n",
    "        result.append(elem * dig)\n",
    "    return result\n",
    "mul(arr, x)\n",
    "\n",
    "def mul(mas, dig):\n",
    "    return [i * dig for i in mas]\n",
    "mul(arr, x)\n",
    "\n",
    "def mul(mas, dig):\n",
    "    return list(map(dig.__mul__, mas))\n",
    "mul(arr, x)"
   ]
  },
  {
   "cell_type": "code",
   "execution_count": 30,
   "metadata": {},
   "outputs": [
    {
     "data": {
      "text/plain": [
       "[0.1, 0.2, 0.3, 0.4]"
      ]
     },
     "execution_count": 30,
     "metadata": {},
     "output_type": "execute_result"
    }
   ],
   "source": [
    "[i / 10 for i in range(1, 5)]"
   ]
  },
  {
   "cell_type": "code",
   "execution_count": 31,
   "metadata": {},
   "outputs": [
    {
     "data": {
      "text/plain": [
       "[0.8414709848078965,\n",
       " 0.9092974268256817,\n",
       " 0.1411200080598672,\n",
       " -0.7568024953079282,\n",
       " -0.9589242746631385,\n",
       " -0.27941549819892586,\n",
       " 0.6569865987187891,\n",
       " 0.9893582466233818,\n",
       " 0.4121184852417566]"
      ]
     },
     "execution_count": 31,
     "metadata": {},
     "output_type": "execute_result"
    }
   ],
   "source": [
    "from math import sin\n",
    "[sin(i) for i in range(1, 10)]"
   ]
  },
  {
   "cell_type": "code",
   "execution_count": null,
   "metadata": {},
   "outputs": [],
   "source": [
    "Black Box (list -> bool)\n",
    "[2, 1, 3] => True\n",
    "[2, 4, 1, 2, 5] => False\n",
    "[2, 4, 3, 5] => True\n",
    "[0, 6, 2, 4] => True\n",
    "[7, 9, 6, 8] => True\n",
    "[3, 4, 7, 5] => False\n",
    "[5, 15, 10, 20] => True"
   ]
  },
  {
   "cell_type": "markdown",
   "metadata": {},
   "source": [
    "Напишите функцию f,  \n",
    "которая переводит строку на \"язык птиц\":  \n",
    "все гласные удваиваются и между ними добавляется \"p\": sun => supun"
   ]
  },
  {
   "cell_type": "code",
   "execution_count": 34,
   "metadata": {},
   "outputs": [
    {
     "data": {
      "text/plain": [
       "'aioeu'"
      ]
     },
     "execution_count": 34,
     "metadata": {},
     "output_type": "execute_result"
    }
   ],
   "source": [
    "\"aioeu\""
   ]
  },
  {
   "cell_type": "code",
   "execution_count": 39,
   "metadata": {},
   "outputs": [
    {
     "data": {
      "text/plain": [
       "'supun'"
      ]
     },
     "execution_count": 39,
     "metadata": {},
     "output_type": "execute_result"
    }
   ],
   "source": [
    "def swop_letter(row):\n",
    "    glas = \"aioeu\"\n",
    "    for letter in glas:\n",
    "        if letter in row:\n",
    "            row = row.replace(letter, f\"{letter}p{letter}\")\n",
    "    return row\n",
    "swop_letter(\"sun\")"
   ]
  },
  {
   "cell_type": "code",
   "execution_count": 45,
   "metadata": {},
   "outputs": [
    {
     "data": {
      "text/plain": [
       "'supun'"
      ]
     },
     "execution_count": 45,
     "metadata": {},
     "output_type": "execute_result"
    }
   ],
   "source": [
    "def swop_letter(row):\n",
    "    glas = \"aioeu\"\n",
    "    result = \"\"\n",
    "    for index, _ in enumerate(row):\n",
    "        result += row[index]\n",
    "        if row[index] in glas:\n",
    "            result += f\"p{row[index]}\" \n",
    "    return result\n",
    "swop_letter(\"sun\")"
   ]
  },
  {
   "cell_type": "code",
   "execution_count": 48,
   "metadata": {},
   "outputs": [
    {
     "data": {
      "text/plain": [
       "'supun'"
      ]
     },
     "execution_count": 48,
     "metadata": {},
     "output_type": "execute_result"
    }
   ],
   "source": [
    "def swop_letter(row):\n",
    "    data = {\n",
    "        ord(\"a\"):\"apa\",\n",
    "        ord(\"i\"):\"ipi\",\n",
    "        ord(\"o\"):\"opo\",\n",
    "        ord(\"e\"):\"epe\",\n",
    "        ord(\"u\"):\"upu\",\n",
    "    }\n",
    "    return row.translate(data)\n",
    "swop_letter(\"sun\")"
   ]
  },
  {
   "cell_type": "code",
   "execution_count": 50,
   "metadata": {},
   "outputs": [
    {
     "data": {
      "text/plain": [
       "'supun'"
      ]
     },
     "execution_count": 50,
     "metadata": {},
     "output_type": "execute_result"
    }
   ],
   "source": [
    "def swop_letter(row):\n",
    "    data = {ord(i):f\"{i}p{i}\" for i in \"aioeu\"}\n",
    "    return row.translate(data)\n",
    "swop_letter(\"sun\")"
   ]
  },
  {
   "cell_type": "code",
   "execution_count": 53,
   "metadata": {},
   "outputs": [],
   "source": [
    "a = {1:'a',2:\"r\",5:\"u\"}"
   ]
  },
  {
   "cell_type": "code",
   "execution_count": 56,
   "metadata": {},
   "outputs": [
    {
     "ename": "KeyError",
     "evalue": "3",
     "output_type": "error",
     "traceback": [
      "\u001b[1;31m---------------------------------------------------------------------------\u001b[0m",
      "\u001b[1;31mKeyError\u001b[0m                                  Traceback (most recent call last)",
      "\u001b[1;32m<ipython-input-56-f75b6be7d8e3>\u001b[0m in \u001b[0;36m<module>\u001b[1;34m\u001b[0m\n\u001b[1;32m----> 1\u001b[1;33m \u001b[0ma\u001b[0m\u001b[1;33m[\u001b[0m\u001b[1;36m3\u001b[0m\u001b[1;33m]\u001b[0m\u001b[1;33m\u001b[0m\u001b[1;33m\u001b[0m\u001b[0m\n\u001b[0m",
      "\u001b[1;31mKeyError\u001b[0m: 3"
     ]
    }
   ],
   "source": [
    "a[3]"
   ]
  },
  {
   "cell_type": "code",
   "execution_count": 60,
   "metadata": {},
   "outputs": [
    {
     "data": {
      "text/plain": [
       "'u'"
      ]
     },
     "execution_count": 60,
     "metadata": {},
     "output_type": "execute_result"
    }
   ],
   "source": [
    "a.get(5)"
   ]
  }
 ],
 "metadata": {
  "kernelspec": {
   "display_name": "Python 3",
   "language": "python",
   "name": "python3"
  },
  "language_info": {
   "codemirror_mode": {
    "name": "ipython",
    "version": 3
   },
   "file_extension": ".py",
   "mimetype": "text/x-python",
   "name": "python",
   "nbconvert_exporter": "python",
   "pygments_lexer": "ipython3",
   "version": "3.7.3"
  }
 },
 "nbformat": 4,
 "nbformat_minor": 2
}
